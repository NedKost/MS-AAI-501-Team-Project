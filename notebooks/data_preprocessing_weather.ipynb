{
 "cells": [
  {
   "cell_type": "markdown",
   "metadata": {},
   "source": [
    "## Enrich Flight Delay Data with Weather\n",
    "This only needs to be run once.\n",
    "Currently the weather features I want to enrich our dataset with are:\n",
    "- Origin_Windspeed: wind (mph) at time of departure (from departing Airport)\n",
    "- Origin_Precip: precipitation (inches) at time of departure (from departing Airport)\n",
    "- Dest_Windspeed: wind (mph) at time of arrival (from arriving Airport)\n",
    "- Dest_Precip: precipitation (inches) at time of arrival (from arriving Airport)"
   ]
  },
  {
   "cell_type": "markdown",
   "metadata": {},
   "source": [
    "In addition, I added the time zone of the departing and arriving airports, which could a be a useful feature for future analysis.\n",
    "- dest_ianaTimeZone: IANA time zone name for the destination airport\n",
    "- origin_ianaTimeZone: IANA time zone name for the origin airport"
   ]
  },
  {
   "cell_type": "markdown",
   "metadata": {},
   "source": [
    "From starting flight_data.csv of 360k, I ended with 343120 rows of data after merging with weather data. \n",
    "I lost some due to missing weather data, and some due to missing flight data. Some airports weren't in the states or Weather API. "
   ]
  },
  {
   "cell_type": "code",
   "execution_count": null,
   "metadata": {},
   "outputs": [],
   "source": [
    "import pandas as pd\n",
    "import pytz\n",
    "from datetime import datetime, timedelta\n",
    "from requests.exceptions import ReadTimeout\n",
    "import requests\n",
    "import time\n",
    "\n",
    "filename = \"flight_data_weather.csv\"\n",
    "filepath = \"../data/\""
   ]
  },
  {
   "cell_type": "code",
   "execution_count": null,
   "metadata": {},
   "outputs": [],
   "source": [
    "flight_df = pd.read_csv(filepath + filename)"
   ]
  },
  {
   "cell_type": "code",
   "execution_count": null,
   "metadata": {},
   "outputs": [],
   "source": [
    "flight_df.describe()"
   ]
  },
  {
   "cell_type": "code",
   "execution_count": null,
   "metadata": {},
   "outputs": [],
   "source": [
    "# new_columns = [\"Origin_Windspeed\", \"Origin_Precip\", \"Dest_Windspeed\", \"Dest_Precip\"]\n",
    "# if set(new_columns).issubset(flight_df.columns):\n",
    "#     print(\"Weather data already added\")\n",
    "# else:\n",
    "#     # New Columns\n",
    "#     flight_df[\"Origin_Windspeed\"] = None\n",
    "#     flight_df[\"Origin_Precip\"] = None\n",
    "#     flight_df[\"Dest_Windspeed\"] = None\n",
    "#     flight_df[\"Dest_Precip\"] = None"
   ]
  },
  {
   "cell_type": "code",
   "execution_count": null,
   "metadata": {},
   "outputs": [],
   "source": [
    "\n",
    "airport_url = \"https://api.weather.com/v3/location/search\"\n",
    "\n",
    "def retrieve_timezone(airport_code):\n",
    "    \"\"\"\n",
    "    Retrieves the timezone and ICAO code for a given airport code.\n",
    "\n",
    "    :param airport_code: The IATA or ICAO airport code.\n",
    "    :return: A tuple containing the IANA timezone and ICAO code of the airport, or (None, None) if not found.\n",
    "    \"\"\"\n",
    "    params = {\n",
    "        \"apiKey\": \"e1f10a1e78da46f5b10a1e78da96f525\",\n",
    "        \"language\": \"en-US\",\n",
    "        \"locationType\": \"airport\",\n",
    "        \"format\": \"json\",\n",
    "        \"countryCode\": \"US\",\n",
    "        \"query\": airport_code\n",
    "    }\n",
    "    try:\n",
    "        response = requests.get(airport_url, params=params)\n",
    "        response.raise_for_status()  # Raises HTTPError for bad responses\n",
    "        response_data = response.json()\n",
    "\n",
    "        if 'errors' in response_data:\n",
    "            print(\"Error: \", response_data['errors'][0]['error']['message'])\n",
    "            return None, None\n",
    "\n",
    "        for i, loc_type in enumerate(response_data['location']['type']):\n",
    "            if (loc_type == 'airport' and \n",
    "                response_data['location']['icaoCode'][i] is not None and\n",
    "                airport_code in response_data['location']['icaoCode'][i]):\n",
    "                local_timezone = response_data['location']['ianaTimeZone'][i]\n",
    "                icao_code = response_data['location']['icaoCode'][i]\n",
    "                return local_timezone, icao_code\n",
    "        print(\"No Valid Airport Found\")\n",
    "        return None, None\n",
    "    except requests.RequestException as e:\n",
    "        print(f\"Request error: {e}\")\n",
    "        return None, None"
   ]
  },
  {
   "cell_type": "code",
   "execution_count": null,
   "metadata": {},
   "outputs": [],
   "source": [
    "def convert_to_gmt(flight_date, local_time, local_timezone):\n",
    "    \"\"\"\n",
    "    Convert local time to GMT.\n",
    "\n",
    "    :param flight_date: Date of the flight in 'YYYY-MM-DD' format.\n",
    "    :param local_time: Time of the flight in 'HHMM' format.\n",
    "    :param local_timezone: Timezone of the local time.\n",
    "    :return: GMT Unix timestamp of the flight.\n",
    "    \"\"\"\n",
    "    # Format local time into 'HH:MM' format\n",
    "    str_local_time = str(int(local_time))\n",
    "    if(len(str_local_time) < 4):\n",
    "        str_local_time = \"0\" * (4 - len(str_local_time)) + str_local_time\n",
    "\n",
    "    if str_local_time.startswith(\"24\"):\n",
    "        # Set time to '00:00'\n",
    "        formatted_local_time = \"00:00\"\n",
    "        # Increment the date by one day\n",
    "        flight_date_obj = datetime.strptime(flight_date, \"%Y-%m-%d\")\n",
    "        flight_date_obj += timedelta(days=1)\n",
    "        flight_date = flight_date_obj.strftime(\"%Y-%m-%d\")\n",
    "    else:\n",
    "        formatted_local_time = str_local_time[0:2] + \":\" + str_local_time[2:4]\n",
    "\n",
    "    # Combine flight date and time\n",
    "    combined_datetime_str = f\"{flight_date} {formatted_local_time}\"\n",
    "\n",
    "    # Convert to local datetime object\n",
    "    local_datetime = datetime.strptime(combined_datetime_str, \"%Y-%m-%d %H:%M\")\n",
    "\n",
    "    # Assign local timezone\n",
    "    local_timezone = pytz.timezone(local_timezone)\n",
    "    local_datetime_with_tz = local_timezone.localize(local_datetime)\n",
    "\n",
    "    # Convert to GMT\n",
    "    gmt_datetime = local_datetime_with_tz.astimezone(pytz.utc)\n",
    "\n",
    "    return int(gmt_datetime.timestamp())"
   ]
  },
  {
   "cell_type": "code",
   "execution_count": null,
   "metadata": {},
   "outputs": [],
   "source": [
    "def retrieve_weather_info(airport_code, desired_timestamp):\n",
    "    api_url = f\"https://api.weather.com/v1/location/{airport_code}:9:US/observations/historical.json\"\n",
    "\n",
    "    # Convert Unix timestamp to datetime\n",
    "    dt = datetime.utcfromtimestamp(desired_timestamp)\n",
    "    # Format datetime to \"YYYYMMDD\"\n",
    "    search_date = dt.strftime(\"%Y%m%d\")\n",
    "    params = {\n",
    "        \"apiKey\": \"e1f10a1e78da46f5b10a1e78da96f525\",\n",
    "        \"units\": \"e\",\n",
    "        \"startDate\": search_date\n",
    "    }\n",
    "    for _ in range(3):  # Number of retries\n",
    "        try:\n",
    "            response = requests.get(api_url, params=params, timeout=30)\n",
    "            # Process response\n",
    "            break  # Break the loop if request is successful\n",
    "        except ReadTimeout:\n",
    "            print(\"Request timed out. Retrying...\")\n",
    "            return -3, -3\n",
    "\n",
    "    response_data = response.json()\n",
    "    if response_data['metadata']['status_code'] != 200:\n",
    "        print(\"error response\", response_data)\n",
    "        # Catch case where there is no historical data for the airport\n",
    "        if 'errors' in response_data and response_data['errors'][0]['error']['code'] == \"NDF-0001\":\n",
    "            print(\"No historical data for airport\")\n",
    "            return -1, -1 \n",
    "        else:\n",
    "            return -2, -2\n",
    "    # Find the observation closest to the desired time\n",
    "    closest_observation = min(response_data[\"observations\"], key=lambda obs: abs(obs[\"valid_time_gmt\"] - desired_timestamp))\n",
    "\n",
    "    # Extract wspd and precip_hrly from the closest observation\n",
    "    wspd_closest = closest_observation.get(\"wspd\")\n",
    "    precip_hrly_closest = closest_observation.get(\"precip_hrly\")\n",
    "    return wspd_closest, precip_hrly_closest"
   ]
  },
  {
   "cell_type": "code",
   "execution_count": null,
   "metadata": {},
   "outputs": [],
   "source": [
    "def extract_weather_info(row_index):\n",
    "    \"\"\"\n",
    "    Extracts and updates weather information for a specific flight.\n",
    "\n",
    "    For a given row in the flight DataFrame, this function retrieves the departure \n",
    "    and arrival timezone for the flight's origin and destination airports. It then \n",
    "    converts the departure and arrival times to GMT and retrieves the corresponding \n",
    "    weather information (windspeed and precipitation). This information is updated \n",
    "    directly in the provided DataFrame.\n",
    "\n",
    "    :param row_index: Index of the row in the flight DataFrame.\n",
    "    :param flight_df: DataFrame containing flight information.\n",
    "    \"\"\"\n",
    "    row = flight_df.iloc[row_index]\n",
    "    flight_date, dep_time, arr_time = row[\"FlightDate\"], row[\"DepTime\"], row[\"ArrTime\"]\n",
    "    \n",
    "    # Airport timezone and ICAO code\n",
    "    origin_timezone, origin_code = row[\"origin_ianaTimeZone\"], row[\"origin_icaoCode\"]\n",
    "    dest_timezone, dest_code = row[\"dest_ianaTimeZone\"], row[\"dest_icaoCode\"]\n",
    "\n",
    "    dep_time_gmt = convert_to_gmt(flight_date, dep_time, origin_timezone)\n",
    "    origin_windspeed, origin_precip = retrieve_weather_info(origin_code, dep_time_gmt)\n",
    "    \n",
    "    arr_time_gmt = convert_to_gmt(flight_date, arr_time, dest_timezone)\n",
    "    dest_windspeed, dest_precip = retrieve_weather_info(dest_code, arr_time_gmt)\n",
    "\n",
    "    flight_df.at[row_index, 'Origin_Windspeed'] = origin_windspeed\n",
    "    flight_df.at[row_index, 'Origin_Precip'] = origin_precip\n",
    "    flight_df.at[row_index, 'Dest_Windspeed'] = dest_windspeed\n",
    "    flight_df.at[row_index, 'Dest_Precip'] = dest_precip"
   ]
  },
  {
   "cell_type": "code",
   "execution_count": null,
   "metadata": {},
   "outputs": [],
   "source": [
    "# # Instead of querying the API for each row, Just query the unique timezone for each airport and add it to the dataframe\n",
    "# flight_df[\"dest_icaoCode\"] = None\n",
    "# flight_df[\"dest_ianaTimeZone\"] = None\n",
    "\n",
    "# flight_df[\"origin_icaoCode\"] = None\n",
    "# flight_df[\"origin_ianaTimeZone\"] = None\n",
    "\n",
    "# unique_dest = set(flight_df['Dest'].unique())\n",
    "# unique_origin = set(flight_df['Origin'].unique())\n",
    "\n",
    "# unique_airports = unique_dest.union(unique_origin)"
   ]
  },
  {
   "cell_type": "code",
   "execution_count": null,
   "metadata": {},
   "outputs": [],
   "source": [
    "# # Lookup timezone and ICAO code for each airport \n",
    "# for airport_code in unique_airports:\n",
    "#     ianaTimeZone, icaoCode = retrieve_timezone(airport_code)\n",
    "#     # Set icaoCode where flight_df matches airport_code\n",
    "#     flight_df.loc[flight_df['Dest'] == airport_code, 'dest_icaoCode'] = icaoCode\n",
    "#     flight_df.loc[flight_df['Origin'] == airport_code, 'origin_icaoCode'] = icaoCode\n",
    "#     # Set icaoTimeZone where flight_df matches airport_code\n",
    "#     flight_df.loc[flight_df['Dest'] == airport_code, 'dest_ianaTimeZone'] = ianaTimeZone\n",
    "#     flight_df.loc[flight_df['Origin'] == airport_code, 'origin_ianaTimeZone'] = ianaTimeZone"
   ]
  },
  {
   "cell_type": "code",
   "execution_count": null,
   "metadata": {},
   "outputs": [],
   "source": [
    "def save_output(df):\n",
    "    output_file = \"flight_data_weather.csv\"\n",
    "    dest_filepath = \"../data/\"\n",
    "    print(f\"writing to {output_file}\")\n",
    "    df.to_csv(dest_filepath + output_file, index=False)\n",
    "    print(\"saving at time: \", datetime.now().strftime(\"%H:%M:%S\"))"
   ]
  },
  {
   "cell_type": "code",
   "execution_count": null,
   "metadata": {},
   "outputs": [],
   "source": [
    "# We find the id of the first row that has no weather data, and start from there\n",
    "first_none_index = flight_df['Dest_Precip'].isna().idxmax()\n",
    "while True and first_none_index < (len(flight_df) - 1):\n",
    "    first_none_index = flight_df['Dest_Precip'].isna().idxmax()\n",
    "    print(f\"updating row {first_none_index}\")\n",
    "    for row_index in range(first_none_index, first_none_index + 1000):\n",
    "        extract_weather_info(row_index)\n",
    "    save_output(flight_df)\n",
    "    time.sleep(1) \n",
    "\n"
   ]
  },
  {
   "cell_type": "code",
   "execution_count": null,
   "metadata": {},
   "outputs": [],
   "source": [
    "# Find rows with invalid windspeeds, this is usually due to invalid API queries:\n",
    "#  e.g. no historical data for the airport. We lost about 2% of the rows to this.\n",
    "invalid_rows = flight_df[flight_df.Origin_Windspeed < 0]\n",
    "len(invalid_rows)\n",
    "trimmed_df = flight_df[flight_df.Origin_Windspeed >= 0]\n",
    "trimmed_df.describe()"
   ]
  },
  {
   "cell_type": "code",
   "execution_count": null,
   "metadata": {},
   "outputs": [],
   "source": [
    "trimmed_df.columns\n",
    "trimmed_count_df = trimmed_df.dropna()"
   ]
  },
  {
   "cell_type": "code",
   "execution_count": null,
   "metadata": {},
   "outputs": [],
   "source": [
    "trimmed_count_df['Aircraft_Daily_Flight_Count'] = None \n",
    "\n",
    "trimmed_count_df.sort_values(by=['FlightDate', 'DepTime'], inplace=True)\n",
    "\n",
    "# Group by 'flightdate' and 'Tail_Number' and use cumcount() to get a count within each group\n",
    "trimmed_count_df['Aircraft_Daily_Flight_Count'] = trimmed_count_df.groupby(['FlightDate', 'Tail_Number']).cumcount() + 1"
   ]
  },
  {
   "cell_type": "code",
   "execution_count": null,
   "metadata": {},
   "outputs": [],
   "source": [
    "trimmed_count_df = trimmed_count_df.drop(columns=['dest_icaoCode', 'origin_icaoCode', 'Flights'], axis=1)"
   ]
  },
  {
   "cell_type": "code",
   "execution_count": null,
   "metadata": {},
   "outputs": [],
   "source": [
    "save_output(trimmed_count_df)"
   ]
  }
 ],
 "metadata": {
  "kernelspec": {
   "display_name": "Python 3 (ipykernel)",
   "language": "python",
   "name": "python3"
  },
  "language_info": {
   "codemirror_mode": {
    "name": "ipython",
    "version": 3
   },
   "file_extension": ".py",
   "mimetype": "text/x-python",
   "name": "python",
   "nbconvert_exporter": "python",
   "pygments_lexer": "ipython3",
   "version": "3.11.4"
  }
 },
 "nbformat": 4,
 "nbformat_minor": 2
}
