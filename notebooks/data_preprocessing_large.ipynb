{
 "cells": [
  {
   "cell_type": "markdown",
   "metadata": {},
   "source": [
    "## Preprocess Flight Delay Data\n",
    "This only needs to be run once.\n",
    "It takes our large dataset of ~17 million rows and runs the following steps:\n",
    "1. Drop flights diverted and cancelled\n",
    "2. balances data by undersampling majority class. we take all delayed flights, then randomly sample on time flights to get a 60/40 split.\n",
    "3. Add Column: aircraft_daily_flight_count\n",
    "4. Add Column: CRSDepTime\n",
    "5. drops columns that are not used in our training set\n"
   ]
  },
  {
   "cell_type": "code",
   "execution_count": 1,
   "metadata": {},
   "outputs": [],
   "source": [
    "import pandas as pd"
   ]
  },
  {
   "cell_type": "markdown",
   "metadata": {},
   "source": [
    "## Helper functions"
   ]
  },
  {
   "cell_type": "code",
   "execution_count": 13,
   "metadata": {},
   "outputs": [],
   "source": [
    "def calculate_crs_deptime(deptime, depdelay):\n",
    "    hours = deptime // 100\n",
    "    minutes = deptime % 100\n",
    "    total_minutes = (hours * 60 + minutes) - depdelay\n",
    "    crs_hours = abs(total_minutes) // 60\n",
    "    crs_minutes = total_minutes % 60\n",
    "    if total_minutes < 0:\n",
    "        return total_minutes\n",
    "    return crs_hours * 100 + crs_minutes"
   ]
  },
  {
   "cell_type": "markdown",
   "metadata": {},
   "source": [
    "## Balancing dataset"
   ]
  },
  {
   "cell_type": "code",
   "execution_count": 2,
   "metadata": {},
   "outputs": [],
   "source": [
    "df = pd.read_csv('~/Downloads/flight_data.csv')"
   ]
  },
  {
   "cell_type": "code",
   "execution_count": null,
   "metadata": {},
   "outputs": [],
   "source": [
    "# 1. Drop flights diverted and cancelled\n",
    "df = df[df.Cancelled == 0]\n",
    "df = df[df.Diverted == 0]"
   ]
  },
  {
   "cell_type": "code",
   "execution_count": 9,
   "metadata": {},
   "outputs": [
    {
     "name": "stdout",
     "output_type": "stream",
     "text": [
      "count of delayed flights: 2819051. count of on time flights: 13990755. Delayed percentage: 0.16\n",
      "count of on time flights to sample:  4228576\n",
      "new balanced dataset:  7047627\n"
     ]
    }
   ],
   "source": [
    "# 2. balances data by undersampling majority class. we take all delayed flights\n",
    "#  then randomly sample on time flights to get a 60/40 split.\n",
    "df_delayed = df[df.ArrDel15 == 1]\n",
    "df_on_time = df[df.ArrDel15 == 0]\n",
    "\n",
    "print(f\"count of delayed flights: {len(df_delayed)}. count of on time flights: {len(df_on_time)}. Delayed percentage: {len(df_delayed)/len(df):.2f}\")\n",
    "on_time_to_sample = int((len(df_delayed) / 0.4) - len(df_delayed))\n",
    "\n",
    "print(\"count of on time flights to sample: \", on_time_to_sample)\n",
    "df_on_time_sample = df_on_time.sample(n=on_time_to_sample, random_state=1)\n",
    "\n",
    "flight_df = pd.concat([df_delayed, df_on_time_sample])\n",
    "print(\"new balanced dataset: \", len(flight_df))"
   ]
  },
  {
   "cell_type": "code",
   "execution_count": 11,
   "metadata": {},
   "outputs": [],
   "source": [
    "# 3. Add Column: aircraft_daily_flight_count\n",
    "flight_df['Aircraft_Daily_Flight_Count'] = None \n",
    "\n",
    "flight_df.sort_values(by=['FlightDate', 'DepTime'], inplace=True)\n",
    "\n",
    "# Group by 'flightdate' and 'Tail_Number' and use cumcount() to get a count within each group\n",
    "flight_df['Aircraft_Daily_Flight_Count'] = flight_df.groupby(['FlightDate', 'Tail_Number']).cumcount() + 1"
   ]
  },
  {
   "cell_type": "code",
   "execution_count": 14,
   "metadata": {},
   "outputs": [],
   "source": [
    "# 4. Add Column: CRSDepTime\n",
    "flight_df['CRSDepTime'] = flight_df.apply(lambda row: calculate_crs_deptime(row['DepTime'], row['DepDelay']), axis=1)"
   ]
  },
  {
   "cell_type": "code",
   "execution_count": 15,
   "metadata": {},
   "outputs": [],
   "source": [
    "# 5. drops columns that are not used in our training set\n",
    "flight_df = flight_df.drop(['Cancelled', 'Diverted', 'CarrierDelay', 'WeatherDelay',\n",
    "       'NASDelay', 'SecurityDelay', 'LateAircraftDelay', 'Flights', 'Tail_Number', 'Flight_Number_Reporting_Airline', 'Reporting_Airline'], axis=1)"
   ]
  },
  {
   "cell_type": "code",
   "execution_count": 16,
   "metadata": {},
   "outputs": [
    {
     "data": {
      "text/plain": [
       "Index(['Year', 'Quarter', 'Month', 'DayofMonth', 'DayOfWeek', 'FlightDate',\n",
       "       'Origin', 'Dest', 'DepTime', 'DepDelay', 'TaxiOut', 'WheelsOff',\n",
       "       'WheelsOn', 'TaxiIn', 'CRSArrTime', 'ArrTime', 'ArrDelay', 'ArrDel15',\n",
       "       'CRSElapsedTime', 'ActualElapsedTime', 'AirTime', 'Distance', 'Carrier',\n",
       "       'Full-time', 'Part-time', 'Grand Total', 'Aircraft_Daily_Flight_Count',\n",
       "       'CRSDepTime'],\n",
       "      dtype='object')"
      ]
     },
     "execution_count": 16,
     "metadata": {},
     "output_type": "execute_result"
    }
   ],
   "source": [
    "flight_df.columns"
   ]
  },
  {
   "cell_type": "code",
   "execution_count": 18,
   "metadata": {},
   "outputs": [
    {
     "name": "stdout",
     "output_type": "stream",
     "text": [
      "writing to flight_data_large_balanced.csv\n"
     ]
    }
   ],
   "source": [
    "dest_filepath = \"../data/\"\n",
    "output_file = \"flight_data_large_balanced.csv\"\n",
    "\n",
    "print(f\"writing to {output_file}\")\n",
    "flight_df.to_csv(dest_filepath + output_file, index=False)"
   ]
  }
 ],
 "metadata": {
  "kernelspec": {
   "display_name": "Python 3 (ipykernel)",
   "language": "python",
   "name": "python3"
  }
 },
 "nbformat": 4,
 "nbformat_minor": 2
}
