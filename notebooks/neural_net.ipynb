{
 "cells": [
  {
   "cell_type": "code",
   "execution_count": null,
   "metadata": {},
   "outputs": [],
   "source": [
    "import pandas as pd\n",
    "from sklearn.model_selection import train_test_split\n",
    "\n",
    "from tensorflow.keras.models import Sequential\n",
    "from tensorflow.keras.layers import Dense\n",
    "import category_encoders as ce\n",
    "\n",
    "from sklearn.preprocessing import StandardScaler\n",
    "from tensorflow.keras.callbacks import LearningRateScheduler\n",
    "from feature_engine.creation import CyclicalFeatures\n",
    "\n",
    "from sklearn.metrics import accuracy_score, f1_score, roc_auc_score\n",
    "import numpy as np\n"
   ]
  },
  {
   "cell_type": "markdown",
   "metadata": {},
   "source": [
    "## Helper Functions"
   ]
  },
  {
   "cell_type": "code",
   "execution_count": null,
   "metadata": {},
   "outputs": [],
   "source": [
    "def calculate_crs_deptime(deptime, depdelay):\n",
    "    hours = deptime // 100\n",
    "    minutes = deptime % 100\n",
    "    total_minutes = (hours * 60 + minutes) - depdelay\n",
    "    crs_hours = abs(total_minutes) // 60\n",
    "    crs_minutes = total_minutes % 60\n",
    "    if total_minutes < 0:\n",
    "        return total_minutes\n",
    "    return crs_hours * 100 + crs_minutes"
   ]
  },
  {
   "cell_type": "code",
   "execution_count": null,
   "metadata": {},
   "outputs": [],
   "source": [
    "def binary_encode(df, columns):\n",
    "    encoder = ce.BinaryEncoder(cols=columns)\n",
    "\n",
    "    # Fit and transform to produce binary encoded data\n",
    "    df_encoded = encoder.fit_transform(df[columns])\n",
    "\n",
    "    # Merge the encoded data back with the original DataFrame\n",
    "    df = df.drop(columns, axis=1)\n",
    "    df = pd.concat([df, df_encoded], axis=1)\n",
    "    return df"
   ]
  },
  {
   "cell_type": "code",
   "execution_count": null,
   "metadata": {},
   "outputs": [],
   "source": [
    "def scale_columns_by_standard_scaler(x_train_df, x_validation_df, x_test_df, x_test_2023_df, columns):\n",
    "    scaler = StandardScaler()\n",
    "    \n",
    "    x_train_df[columns] = scaler.fit_transform(x_train_df[columns])\n",
    "    x_validation_df[columns] = scaler.transform(x_validation_df[columns])\n",
    "    x_test_df[columns] = scaler.transform(x_test_df[columns])\n",
    "    \n",
    "    if x_test_2023_df is not None:\n",
    "        x_test_2023_df[columns] = scaler.transform(x_test_2023_df[columns])\n",
    "    \n",
    "    return x_train_df, x_validation_df, x_test_df, x_test_2023_df"
   ]
  },
  {
   "cell_type": "code",
   "execution_count": null,
   "metadata": {},
   "outputs": [],
   "source": [
    "def scale_columns_by_cyclical_scaler(x_train_df, x_validation_df, x_test_df, x_test_2023_df, columns):\n",
    "    scaler = CyclicalFeatures(drop_original=True)\n",
    "    \n",
    "    x_train_transformed_df = scaler.fit_transform(x_train_df[columns])\n",
    "    x_train_df = pd.concat([x_train_df.drop(columns, axis=1), x_train_transformed_df], axis=1)\n",
    "    \n",
    "    x_validation_transformed_df = scaler.transform(x_validation_df[columns])\n",
    "    x_validation_df = pd.concat([x_validation_df.drop(columns, axis=1), x_validation_transformed_df], axis=1)\n",
    "\n",
    "\n",
    "    x_test_transformed_df = scaler.transform(x_test_df[columns])\n",
    "    x_test_df = pd.concat([x_test_df.drop(columns, axis=1), x_test_transformed_df], axis=1)\n",
    "    \n",
    "    if x_test_2023_df is not None:\n",
    "        x_test_2023_transformed_df = scaler.transform(x_test_2023_df[columns])\n",
    "        x_test_2023_df = pd.concat([x_test_2023_df.drop(columns, axis=1), x_test_2023_transformed_df], axis=1)\n",
    "\n",
    "    return x_train_df, x_validation_df, x_test_df, x_test_2023_df"
   ]
  },
  {
   "cell_type": "code",
   "execution_count": null,
   "metadata": {},
   "outputs": [],
   "source": [
    "def step_decay(epoch):\n",
    "    lrate = 0.001  # Start with this learning rate\n",
    "    if epoch > 25 and epoch <= 40:\n",
    "        lrate = 0.0001 # Drop to this for epochs 3 and 4\n",
    "    elif epoch > 40:\n",
    "        lrate = 0.00001 # Drop to this after epoch 5\n",
    "    return lrate"
   ]
  },
  {
   "cell_type": "code",
   "execution_count": null,
   "metadata": {},
   "outputs": [],
   "source": [
    "def filter_df_for_feature_and_encode(df, features, encoded_columns):\n",
    "    flight_df = df[features]\n",
    "    flight_df = flight_df.dropna()\n",
    "\n",
    "    # Encoding combined categorical variables\n",
    "    flight_df = binary_encode(flight_df, encoded_columns)\n",
    "    flight_df = pd.get_dummies(flight_df, columns=['Carrier'])\n",
    "    return flight_df"
   ]
  },
  {
   "cell_type": "code",
   "execution_count": null,
   "metadata": {},
   "outputs": [],
   "source": [
    "def split_X_y_and_2023(df: pd.DataFrame):\n",
    "    flight_df_2023 = df[df['Year'] == 2023]\n",
    "    flight_df = df[df['Year'] != 2023]\n",
    "\n",
    "    X = flight_df.drop('ArrDel15', axis=1)\n",
    "    y = flight_df['ArrDel15']\n",
    "\n",
    "    X_test_2023 = flight_df_2023.drop('ArrDel15', axis=1)\n",
    "    y_test_2023 = flight_df_2023['ArrDel15']\n",
    "\n",
    "    return X, y, X_test_2023, y_test_2023"
   ]
  },
  {
   "cell_type": "code",
   "execution_count": null,
   "metadata": {},
   "outputs": [],
   "source": [
    "def calculate_model_metrics(model, X_test, y_test):\n",
    "    # Get model predictions\n",
    "    y_pred_proba = model.predict(X_test)\n",
    "\n",
    "    # If your model outputs probabilities for both classes, keep the one for the positive class\n",
    "    if y_pred_proba.shape[1] == 2:\n",
    "        y_pred_proba = y_pred_proba[:, 1]\n",
    "\n",
    "    # Convert probabilities to class labels (0 or 1)\n",
    "    y_pred = np.where(y_pred_proba > 0.5, 1, 0)\n",
    "\n",
    "    # Calculate metrics\n",
    "    accuracy = accuracy_score(y_test, y_pred)\n",
    "    print(\"Accuracy:\", accuracy)\n",
    "\n",
    "    f1 = f1_score(y_test, y_pred)\n",
    "    print(\"F1 Score:\", f1)\n",
    "    \n",
    "    auc = roc_auc_score(y_test, y_pred_proba)\n",
    "    print(\"AUC Score:\", auc)"
   ]
  },
  {
   "cell_type": "markdown",
   "metadata": {},
   "source": [
    "## Preprocessing and loading"
   ]
  },
  {
   "cell_type": "code",
   "execution_count": null,
   "metadata": {},
   "outputs": [],
   "source": [
    "file_name = 'flight_test_data.csv'\n",
    "file_path = f\"../data/{file_name}\"\n",
    "df_2023 = pd.read_csv(file_path)\n",
    "\n",
    "# Preprocess\n",
    "# Add Column: aircraft_daily_flight_count\n",
    "df_2023['Aircraft_Daily_Flight_Count'] = None \n",
    "\n",
    "df_2023.sort_values(by=['FlightDate', 'DepTime'], inplace=True)\n",
    "\n",
    "# Group by 'flightdate' and 'Tail_Number' and use cumcount() to get a count within each group\n",
    "df_2023['Aircraft_Daily_Flight_Count'] = df_2023.groupby(['FlightDate', 'Tail_Number']).cumcount() + 1"
   ]
  },
  {
   "cell_type": "code",
   "execution_count": null,
   "metadata": {},
   "outputs": [],
   "source": [
    "file_name = 'flight_data_large_balanced.csv'\n",
    "file_path = f\"../data/{file_name}\"\n",
    "df = pd.read_csv(file_path)"
   ]
  },
  {
   "cell_type": "code",
   "execution_count": null,
   "metadata": {},
   "outputs": [],
   "source": [
    "# Combine to get same encodings for training\n",
    "df = pd.concat([df, df_2023])"
   ]
  },
  {
   "cell_type": "markdown",
   "metadata": {},
   "source": [
    "## Model run feature set 1  Large Balanced"
   ]
  },
  {
   "cell_type": "code",
   "execution_count": null,
   "metadata": {},
   "outputs": [],
   "source": [
    "features = ['Year', 'Quarter', 'Month', 'DayofMonth', 'DayOfWeek', \n",
    "'Dest', 'Origin', 'Distance', 'Carrier',\n",
    "'Full-time', 'Part-time', 'Grand Total', 'CRSDepTime', 'CRSArrTime', 'CRSElapsedTime',\n",
    "'Aircraft_Daily_Flight_Count', 'ArrDel15']"
   ]
  },
  {
   "cell_type": "code",
   "execution_count": null,
   "metadata": {},
   "outputs": [],
   "source": [
    "flight_df = filter_df_for_feature_and_encode(df, features, ['Dest', 'Origin'])\n",
    "X, y, X_test_2023, y_test_2023 = split_X_y_and_2023(flight_df)"
   ]
  },
  {
   "cell_type": "code",
   "execution_count": null,
   "metadata": {},
   "outputs": [],
   "source": [
    "X_train, X_temp, y_train, y_temp = train_test_split(X, y, test_size=0.3, random_state=42)\n",
    "X_validation, X_test, y_validation, y_test = train_test_split(X_temp, y_temp, test_size=0.5, random_state=42)"
   ]
  },
  {
   "cell_type": "code",
   "execution_count": null,
   "metadata": {},
   "outputs": [],
   "source": [
    "# Transform with StandardScaler\n",
    "standard_columns = ['Distance', 'Full-time', 'Part-time', 'Grand Total', 'Aircraft_Daily_Flight_Count']\n",
    "X_train, X_validation, X_test, X_test_2023 = scale_columns_by_standard_scaler(X_train, X_validation, X_test, X_test_2023, standard_columns)\n",
    "\n",
    "# Transform with CyclicalFeatures\n",
    "time_columns =['Quarter', 'Month', 'DayofMonth', 'DayOfWeek'] \n",
    "# X_train, X_validation, X_test, X_test_2023 = scale_columns_by_cyclical_scaler(X_train, X_validation, X_test, X_test_2023, time_columns)\n",
    "\n",
    "print(X_train.shape)"
   ]
  },
  {
   "cell_type": "code",
   "execution_count": null,
   "metadata": {},
   "outputs": [],
   "source": [
    "model = Sequential([\n",
    "    Dense(128, activation='relu', input_shape=(X_train.shape[1],)),\n",
    "    Dense(32, activation='relu'),\n",
    "    Dense(1, activation='sigmoid')  # or 'softmax' for multi-class classification\n",
    "])\n",
    "\n",
    "model.compile(optimizer='adam', loss='binary_crossentropy', metrics=['accuracy'])\n",
    "lr_scheduler = LearningRateScheduler(step_decay)\n",
    "\n",
    "history = model.fit(\n",
    "    X_train, \n",
    "    y_train, \n",
    "    epochs=20, \n",
    "    batch_size=32, \n",
    "    validation_data=[X_validation, y_validation],\n",
    "    callbacks=[lr_scheduler]\n",
    ")"
   ]
  },
  {
   "cell_type": "code",
   "execution_count": null,
   "metadata": {},
   "outputs": [],
   "source": [
    "calculate_model_metrics(model, X_test, y_test)"
   ]
  },
  {
   "cell_type": "code",
   "execution_count": null,
   "metadata": {},
   "outputs": [],
   "source": [
    "calculate_model_metrics(model, X_test_2023, y_test_2023)"
   ]
  },
  {
   "cell_type": "markdown",
   "metadata": {},
   "source": [
    "## Model run feature set 1 & 2 -- Large Balanced\n"
   ]
  },
  {
   "cell_type": "code",
   "execution_count": null,
   "metadata": {},
   "outputs": [],
   "source": [
    "features = ['Year', 'Quarter', 'Month', 'DayofMonth', 'DayOfWeek', \n",
    "'Dest', 'Origin', 'Distance', 'Carrier',\n",
    "'Full-time', 'Part-time', 'Grand Total', 'CRSDepTime', 'CRSArrTime', 'CRSElapsedTime',\n",
    "'Aircraft_Daily_Flight_Count', 'DepTime', 'DepDelay', 'TaxiOut', 'WheelsOff', 'ArrDel15']"
   ]
  },
  {
   "cell_type": "code",
   "execution_count": null,
   "metadata": {},
   "outputs": [],
   "source": [
    "flight_df = filter_df_for_feature_and_encode(df, features, ['Dest', 'Origin'])\n",
    "X, y, X_test_2023, y_test_2023 = split_X_y_and_2023(flight_df)"
   ]
  },
  {
   "cell_type": "code",
   "execution_count": null,
   "metadata": {},
   "outputs": [],
   "source": [
    "X_train, X_temp, y_train, y_temp = train_test_split(X, y, test_size=0.3, random_state=42)\n",
    "X_validation, X_test, y_validation, y_test = train_test_split(X_temp, y_temp, test_size=0.5, random_state=42)"
   ]
  },
  {
   "cell_type": "code",
   "execution_count": null,
   "metadata": {},
   "outputs": [],
   "source": [
    "# Transform with StandardScaler\n",
    "standard_columns = ['Distance', 'Full-time', 'Part-time', 'Grand Total', 'Aircraft_Daily_Flight_Count']\n",
    "X_train, X_validation, X_test, X_test_2023 = scale_columns_by_standard_scaler(X_train, X_validation, X_test, X_test_2023, standard_columns)\n",
    "\n",
    "# Transform with CyclicalFeatures\n",
    "time_columns =['Quarter', 'Month', 'DayofMonth', 'DayOfWeek'] \n",
    "X_train, X_validation, X_test, X_test_2023 = scale_columns_by_cyclical_scaler(X_train, X_validation, X_test, X_test_2023, time_columns)\n",
    "\n",
    "print(X_train.shape)"
   ]
  },
  {
   "cell_type": "code",
   "execution_count": null,
   "metadata": {},
   "outputs": [],
   "source": [
    "model = Sequential([\n",
    "    Dense(128, activation='relu', input_shape=(X_train.shape[1],)),\n",
    "    Dense(32, activation='relu'),\n",
    "    Dense(1, activation='sigmoid')  # or 'softmax' for multi-class classification\n",
    "])\n",
    "\n",
    "model.compile(optimizer='adam', loss='binary_crossentropy', metrics=['accuracy'])\n",
    "\n",
    "history = model.fit(\n",
    "    X_train, \n",
    "    y_train, \n",
    "    epochs=10, \n",
    "    batch_size=32, \n",
    "    validation_data=[X_validation, y_validation]\n",
    ")"
   ]
  },
  {
   "cell_type": "code",
   "execution_count": null,
   "metadata": {},
   "outputs": [],
   "source": [
    "calculate_model_metrics(model, X_test, y_test)"
   ]
  },
  {
   "cell_type": "code",
   "execution_count": null,
   "metadata": {},
   "outputs": [],
   "source": [
    "calculate_model_metrics(model, X_test_2023, y_test_2023)"
   ]
  },
  {
   "cell_type": "markdown",
   "metadata": {},
   "source": [
    "## Model run feature set 1 --  No weather | Small"
   ]
  },
  {
   "cell_type": "code",
   "execution_count": null,
   "metadata": {},
   "outputs": [],
   "source": [
    "file_name = 'flight_data_weather.csv'\n",
    "file_path = f\"../data/{file_name}\"\n",
    "df_weather = pd.read_csv(file_path)\n",
    "\n",
    "df_weather['CRSDepTime'] = df_weather.apply(lambda x: calculate_crs_deptime(x['DepTime'], x['DepDelay']), axis=1)"
   ]
  },
  {
   "cell_type": "code",
   "execution_count": null,
   "metadata": {},
   "outputs": [],
   "source": [
    "features = ['Year', 'Quarter', 'Month', 'DayofMonth', 'DayOfWeek', \n",
    "'Dest', 'Origin', 'Distance', 'Carrier',\n",
    "'Full-time', 'Part-time', 'Grand Total', 'CRSDepTime', 'CRSArrTime', 'CRSElapsedTime',\n",
    "'Aircraft_Daily_Flight_Count', 'ArrDel15']"
   ]
  },
  {
   "cell_type": "code",
   "execution_count": null,
   "metadata": {},
   "outputs": [],
   "source": [
    "flight_df = df_weather[features]\n",
    "flight_df = flight_df.dropna()\n",
    "\n",
    "X = flight_df.drop('ArrDel15', axis=1)\n",
    "y = flight_df['ArrDel15']"
   ]
  },
  {
   "cell_type": "code",
   "execution_count": null,
   "metadata": {},
   "outputs": [],
   "source": [
    "# Encoding categorical variables\n",
    "X = binary_encode(X, ['Dest', 'Origin'])\n",
    "X = pd.get_dummies(X, columns=['Carrier'])\n",
    "\n",
    "X_train, X_temp, y_train, y_temp = train_test_split(X, y, test_size=0.3, random_state=42)\n",
    "X_validation, X_test, y_validation, y_test = train_test_split(X_temp, y_temp, test_size=0.5, random_state=42)"
   ]
  },
  {
   "cell_type": "code",
   "execution_count": null,
   "metadata": {},
   "outputs": [],
   "source": [
    "# Transform with StandardScaler\n",
    "standard_columns = ['Distance', 'Full-time', 'Part-time', 'Grand Total', 'Aircraft_Daily_Flight_Count']\n",
    "X_train, X_validation, X_test, _ = scale_columns_by_standard_scaler(X_train, X_validation, X_test, None, standard_columns)\n",
    "\n",
    "# Transform with CyclicalFeatures\n",
    "time_columns =['Quarter', 'Month', 'DayofMonth', 'DayOfWeek'] \n",
    "X_train, X_validation, X_test, _ = scale_columns_by_cyclical_scaler(X_train, X_validation, X_test, None, time_columns)\n",
    "\n",
    "print(X_train.shape)"
   ]
  },
  {
   "cell_type": "code",
   "execution_count": null,
   "metadata": {},
   "outputs": [],
   "source": [
    "model = Sequential([\n",
    "    Dense(128, activation='relu', input_shape=(X_train.shape[1],)),\n",
    "    Dense(32, activation='relu'),\n",
    "    Dense(1, activation='sigmoid')  # or 'softmax' for multi-class classification\n",
    "])\n",
    "\n",
    "model.compile(optimizer='adam', loss='binary_crossentropy', metrics=['accuracy'])\n",
    "lr_scheduler = LearningRateScheduler(step_decay)\n",
    "\n",
    "history = model.fit(\n",
    "    X_train, \n",
    "    y_train, \n",
    "    epochs=50, \n",
    "    batch_size=32, \n",
    "    validation_data=[X_validation, y_validation],\n",
    "    callbacks=[lr_scheduler]\n",
    ")"
   ]
  },
  {
   "cell_type": "code",
   "execution_count": null,
   "metadata": {},
   "outputs": [],
   "source": [
    "calculate_model_metrics(model, X_test, y_test)"
   ]
  },
  {
   "cell_type": "markdown",
   "metadata": {},
   "source": [
    "## Model run feature set 1  weather | Small"
   ]
  },
  {
   "cell_type": "code",
   "execution_count": null,
   "metadata": {},
   "outputs": [],
   "source": [
    "file_name = 'flight_data_weather.csv'\n",
    "file_path = f\"../data/{file_name}\"\n",
    "df_weather = pd.read_csv(file_path)\n",
    "\n",
    "df_weather['CRSDepTime'] = df_weather.apply(lambda x: calculate_crs_deptime(x['DepTime'], x['DepDelay']), axis=1)"
   ]
  },
  {
   "cell_type": "code",
   "execution_count": null,
   "metadata": {},
   "outputs": [],
   "source": [
    "features = ['Year', 'Quarter', 'Month', 'DayofMonth', 'DayOfWeek', \n",
    "'Dest', 'Origin', 'Distance', 'Carrier',\n",
    "'Full-time', 'Part-time', 'Grand Total', 'CRSDepTime', 'CRSArrTime', 'CRSElapsedTime',\n",
    "'Origin_Windspeed', 'Origin_Precip', 'Dest_Windspeed', 'Dest_Precip', 'dest_ianaTimeZone',\n",
    "'origin_ianaTimeZone', 'Aircraft_Daily_Flight_Count', 'ArrDel15']"
   ]
  },
  {
   "cell_type": "code",
   "execution_count": null,
   "metadata": {},
   "outputs": [],
   "source": [
    "flight_df = df_weather[features]\n",
    "flight_df = flight_df.dropna()\n",
    "\n",
    "X = flight_df.drop('ArrDel15', axis=1)\n",
    "y = flight_df['ArrDel15']"
   ]
  },
  {
   "cell_type": "code",
   "execution_count": null,
   "metadata": {},
   "outputs": [],
   "source": [
    "# Encoding categorical variables\n",
    "X = binary_encode(X, ['origin_ianaTimeZone', 'dest_ianaTimeZone', 'Dest', 'Origin'])\n",
    "X = pd.get_dummies(X, columns=['Carrier'])\n",
    "\n",
    "X_train, X_temp, y_train, y_temp = train_test_split(X, y, test_size=0.3, random_state=42)\n",
    "X_validation, X_test, y_validation, y_test = train_test_split(X_temp, y_temp, test_size=0.5, random_state=42)"
   ]
  },
  {
   "cell_type": "code",
   "execution_count": null,
   "metadata": {},
   "outputs": [],
   "source": [
    "# Transform with StandardScaler\n",
    "standard_columns = ['Distance', 'Full-time', 'Part-time', 'Grand Total', 'Origin_Windspeed', 'Origin_Precip', 'Dest_Windspeed', 'Dest_Precip', 'Aircraft_Daily_Flight_Count']\n",
    "X_train, X_validation, X_test, _ = scale_columns_by_standard_scaler(X_train, X_validation, X_test, None, standard_columns)\n",
    "\n",
    "# Transform with CyclicalFeatures\n",
    "time_columns =['Quarter', 'Month', 'DayofMonth', 'DayOfWeek'] \n",
    "X_train, X_validation, X_test, _ = scale_columns_by_cyclical_scaler(X_train, X_validation, X_test, None, time_columns)\n",
    "\n",
    "print(X_train.shape)"
   ]
  },
  {
   "cell_type": "code",
   "execution_count": null,
   "metadata": {},
   "outputs": [],
   "source": [
    "model = Sequential([\n",
    "    Dense(128, activation='relu', input_shape=(X_train.shape[1],)),\n",
    "    Dense(32, activation='relu'),\n",
    "    Dense(1, activation='sigmoid')  # or 'softmax' for multi-class classification\n",
    "])\n",
    "\n",
    "model.compile(optimizer='adam', loss='binary_crossentropy', metrics=['accuracy'])\n",
    "lr_scheduler = LearningRateScheduler(step_decay)\n",
    "\n",
    "history = model.fit(\n",
    "    X_train, \n",
    "    y_train, \n",
    "    epochs=50, \n",
    "    batch_size=32, \n",
    "    validation_data=[X_validation, y_validation],\n",
    "    callbacks=[lr_scheduler]\n",
    ")"
   ]
  },
  {
   "cell_type": "code",
   "execution_count": null,
   "metadata": {},
   "outputs": [],
   "source": [
    "calculate_model_metrics(model, X_test, y_test)"
   ]
  },
  {
   "cell_type": "markdown",
   "metadata": {},
   "source": [
    "## Model run feature set 1 & 2 -  No Weather"
   ]
  },
  {
   "cell_type": "code",
   "execution_count": null,
   "metadata": {},
   "outputs": [],
   "source": [
    "file_name = 'flight_data_weather.csv'\n",
    "file_path = f\"../data/{file_name}\"\n",
    "df_weather = pd.read_csv(file_path)\n",
    "\n",
    "df_weather['CRSDepTime'] = df_weather.apply(lambda x: calculate_crs_deptime(x['DepTime'], x['DepDelay']), axis=1)"
   ]
  },
  {
   "cell_type": "code",
   "execution_count": null,
   "metadata": {},
   "outputs": [],
   "source": [
    "features = ['Year', 'Quarter', 'Month', 'DayofMonth', 'DayOfWeek', \n",
    "'Dest', 'Origin', 'Distance', 'Carrier',\n",
    "'Full-time', 'Part-time', 'Grand Total', 'CRSDepTime', 'CRSArrTime', 'CRSElapsedTime',\n",
    "'Aircraft_Daily_Flight_Count', \n",
    "'DepDelay', 'DepTime', 'TaxiOut', 'WheelsOff', 'ArrDel15']"
   ]
  },
  {
   "cell_type": "code",
   "execution_count": null,
   "metadata": {},
   "outputs": [],
   "source": [
    "flight_df = df_weather[features]\n",
    "flight_df = flight_df.dropna()\n",
    "\n",
    "X = flight_df.drop('ArrDel15', axis=1)\n",
    "y = flight_df['ArrDel15']"
   ]
  },
  {
   "cell_type": "code",
   "execution_count": null,
   "metadata": {},
   "outputs": [],
   "source": [
    "# Encoding categorical variables\n",
    "X = binary_encode(X, ['Dest', 'Origin'])\n",
    "X = pd.get_dummies(X, columns=['Carrier'])\n",
    "\n",
    "X_train, X_temp, y_train, y_temp = train_test_split(X, y, test_size=0.3, random_state=42)\n",
    "X_validation, X_test, y_validation, y_test = train_test_split(X_temp, y_temp, test_size=0.5, random_state=42)"
   ]
  },
  {
   "cell_type": "code",
   "execution_count": null,
   "metadata": {},
   "outputs": [],
   "source": [
    "# Transform with StandardScaler\n",
    "standard_columns = ['Distance', 'Full-time', 'Part-time', 'Grand Total', 'Aircraft_Daily_Flight_Count']\n",
    "X_train, X_validation, X_test, _ = scale_columns_by_standard_scaler(X_train, X_validation, X_test, None, standard_columns)\n",
    "\n",
    "# Transform with CyclicalFeatures\n",
    "time_columns =['Quarter', 'Month', 'DayofMonth', 'DayOfWeek'] \n",
    "X_train, X_validation, X_test, _ = scale_columns_by_cyclical_scaler(X_train, X_validation, X_test, None, time_columns)\n",
    "\n",
    "print(X_train.shape)"
   ]
  },
  {
   "cell_type": "code",
   "execution_count": null,
   "metadata": {},
   "outputs": [],
   "source": [
    "model = Sequential([\n",
    "    Dense(128, activation='relu', input_shape=(X_train.shape[1],)),\n",
    "    Dense(32, activation='relu'),\n",
    "    Dense(1, activation='sigmoid')  # or 'softmax' for multi-class classification\n",
    "])\n",
    "\n",
    "model.compile(optimizer='adam', loss='binary_crossentropy', metrics=['accuracy'])\n",
    "lr_scheduler = LearningRateScheduler(step_decay)\n",
    "\n",
    "history = model.fit(\n",
    "    X_train, \n",
    "    y_train, \n",
    "    epochs=50, \n",
    "    batch_size=32, \n",
    "    validation_data=[X_validation, y_validation],\n",
    "    callbacks=[lr_scheduler]\n",
    ")"
   ]
  },
  {
   "cell_type": "code",
   "execution_count": null,
   "metadata": {},
   "outputs": [],
   "source": [
    "calculate_model_metrics(model, X_test, y_test)"
   ]
  },
  {
   "cell_type": "markdown",
   "metadata": {},
   "source": [
    "## Model run feature set 1 & 2 -- weather | Small"
   ]
  },
  {
   "cell_type": "code",
   "execution_count": null,
   "metadata": {},
   "outputs": [],
   "source": [
    "file_name = 'flight_data_weather.csv'\n",
    "file_path = f\"../data/{file_name}\"\n",
    "df_weather = pd.read_csv(file_path)\n",
    "\n",
    "df_weather['CRSDepTime'] = df_weather.apply(lambda x: calculate_crs_deptime(x['DepTime'], x['DepDelay']), axis=1)"
   ]
  },
  {
   "cell_type": "code",
   "execution_count": null,
   "metadata": {},
   "outputs": [],
   "source": [
    "features = ['Year', 'Quarter', 'Month', 'DayofMonth', 'DayOfWeek', \n",
    "'Dest', 'Origin', 'Distance', 'Carrier',\n",
    "'Full-time', 'Part-time', 'Grand Total', 'CRSDepTime', 'CRSArrTime', 'CRSElapsedTime',\n",
    "'Origin_Windspeed', 'Origin_Precip', 'Dest_Windspeed', 'Dest_Precip', 'dest_ianaTimeZone',\n",
    "'origin_ianaTimeZone', 'Aircraft_Daily_Flight_Count', \n",
    "'DepDelay', 'DepTime', 'TaxiOut', 'WheelsOff', 'ArrDel15']"
   ]
  },
  {
   "cell_type": "code",
   "execution_count": null,
   "metadata": {},
   "outputs": [],
   "source": [
    "flight_df = df_weather[features]\n",
    "flight_df = flight_df.dropna()\n",
    "\n",
    "X = flight_df.drop('ArrDel15', axis=1)\n",
    "y = flight_df['ArrDel15']"
   ]
  },
  {
   "cell_type": "code",
   "execution_count": null,
   "metadata": {},
   "outputs": [],
   "source": [
    "# Encoding categorical variables\n",
    "X = binary_encode(X, ['origin_ianaTimeZone', 'dest_ianaTimeZone', 'Dest', 'Origin'])\n",
    "X = pd.get_dummies(X, columns=['Carrier'])\n",
    "\n",
    "X_train, X_temp, y_train, y_temp = train_test_split(X, y, test_size=0.3, random_state=42)\n",
    "X_validation, X_test, y_validation, y_test = train_test_split(X_temp, y_temp, test_size=0.5, random_state=42)"
   ]
  },
  {
   "cell_type": "code",
   "execution_count": null,
   "metadata": {},
   "outputs": [],
   "source": [
    "# Transform with StandardScaler\n",
    "standard_columns = ['Distance', 'Full-time', 'Part-time', 'Grand Total', 'Origin_Windspeed', 'Origin_Precip', 'Dest_Windspeed', 'Dest_Precip', 'Aircraft_Daily_Flight_Count']\n",
    "X_train, X_validation, X_test, _ = scale_columns_by_standard_scaler(X_train, X_validation, X_test, None, standard_columns)\n",
    "\n",
    "# Transform with CyclicalFeatures\n",
    "time_columns =['Quarter', 'Month', 'DayofMonth', 'DayOfWeek'] \n",
    "X_train, X_validation, X_test, _ = scale_columns_by_cyclical_scaler(X_train, X_validation, X_test, None, time_columns)\n",
    "\n",
    "print(X_train.shape)"
   ]
  },
  {
   "cell_type": "code",
   "execution_count": null,
   "metadata": {},
   "outputs": [],
   "source": [
    "model = Sequential([\n",
    "    Dense(128, activation='relu', input_shape=(X_train.shape[1],)),\n",
    "    Dense(32, activation='relu'),\n",
    "    Dense(1, activation='sigmoid')  # or 'softmax' for multi-class classification\n",
    "])\n",
    "\n",
    "model.compile(optimizer='adam', loss='binary_crossentropy', metrics=['accuracy'])\n",
    "lr_scheduler = LearningRateScheduler(step_decay)\n",
    "\n",
    "history = model.fit(\n",
    "    X_train, \n",
    "    y_train, \n",
    "    epochs=50, \n",
    "    batch_size=32, \n",
    "    validation_data=[X_validation, y_validation],\n",
    "    callbacks=[lr_scheduler]\n",
    ")"
   ]
  },
  {
   "cell_type": "code",
   "execution_count": null,
   "metadata": {},
   "outputs": [],
   "source": [
    "calculate_model_metrics(model, X_test, y_test)"
   ]
  }
 ],
 "metadata": {
  "kernelspec": {
   "display_name": "Python 3 (ipykernel)",
   "language": "python",
   "name": "python3"
  }
 },
 "nbformat": 4,
 "nbformat_minor": 2
}
