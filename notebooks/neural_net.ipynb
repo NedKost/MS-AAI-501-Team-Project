{
 "cells": [
  {
   "cell_type": "code",
   "execution_count": 2,
   "metadata": {},
   "outputs": [],
   "source": [
    "import pandas as pd\n",
    "from sklearn.model_selection import train_test_split\n",
    "\n",
    "from tensorflow.keras.models import Sequential\n",
    "from tensorflow.keras.layers import Dense\n",
    "import category_encoders as ce\n",
    "\n",
    "from sklearn.preprocessing import StandardScaler\n",
    "from tensorflow.keras.callbacks import LearningRateScheduler\n",
    "from feature_engine.creation import CyclicalFeatures\n",
    "\n",
    "from sklearn.metrics import accuracy_score, f1_score, roc_auc_score\n",
    "import numpy as np\n"
   ]
  },
  {
   "cell_type": "markdown",
   "metadata": {},
   "source": [
    "## Helper Functions"
   ]
  },
  {
   "cell_type": "code",
   "execution_count": 3,
   "metadata": {},
   "outputs": [],
   "source": [
    "def calculate_crs_deptime(deptime, depdelay):\n",
    "    hours = deptime // 100\n",
    "    minutes = deptime % 100\n",
    "    total_minutes = (hours * 60 + minutes) - depdelay\n",
    "    crs_hours = abs(total_minutes) // 60\n",
    "    crs_minutes = total_minutes % 60\n",
    "    if total_minutes < 0:\n",
    "        return total_minutes\n",
    "    return crs_hours * 100 + crs_minutes"
   ]
  },
  {
   "cell_type": "code",
   "execution_count": 4,
   "metadata": {},
   "outputs": [],
   "source": [
    "def binary_encode(df, columns):\n",
    "    encoder = ce.BinaryEncoder(cols=columns)\n",
    "\n",
    "    # Fit and transform to produce binary encoded data\n",
    "    df_encoded = encoder.fit_transform(df[columns])\n",
    "\n",
    "    # Merge the encoded data back with the original DataFrame\n",
    "    df = df.drop(columns, axis=1)\n",
    "    df = pd.concat([df, df_encoded], axis=1)\n",
    "    return df"
   ]
  },
  {
   "cell_type": "code",
   "execution_count": 5,
   "metadata": {},
   "outputs": [],
   "source": [
    "def scale_columns_by_standard_scaler(x_train_df, x_validation_df, x_test_df, x_test_2023_df, columns):\n",
    "    scaler = StandardScaler()\n",
    "    \n",
    "    x_train_df[columns] = scaler.fit_transform(x_train_df[columns])\n",
    "    x_validation_df[columns] = scaler.transform(x_validation_df[columns])\n",
    "    x_test_df[columns] = scaler.transform(x_test_df[columns])\n",
    "    \n",
    "    if x_test_2023_df is not None:\n",
    "        x_test_2023_df[columns] = scaler.transform(x_test_2023_df[columns])\n",
    "    \n",
    "    return x_train_df, x_validation_df, x_test_df, x_test_2023_df"
   ]
  },
  {
   "cell_type": "code",
   "execution_count": 6,
   "metadata": {},
   "outputs": [],
   "source": [
    "def scale_columns_by_cyclical_scaler(x_train_df, x_validation_df, x_test_df, x_test_2023_df, columns):\n",
    "    scaler = CyclicalFeatures(drop_original=True)\n",
    "    \n",
    "    x_train_transformed_df = scaler.fit_transform(x_train_df[columns])\n",
    "    x_train_df = pd.concat([x_train_df.drop(columns, axis=1), x_train_transformed_df], axis=1)\n",
    "    \n",
    "    x_validation_transformed_df = scaler.transform(x_validation_df[columns])\n",
    "    x_validation_df = pd.concat([x_validation_df.drop(columns, axis=1), x_validation_transformed_df], axis=1)\n",
    "\n",
    "\n",
    "    x_test_transformed_df = scaler.transform(x_test_df[columns])\n",
    "    x_test_df = pd.concat([x_test_df.drop(columns, axis=1), x_test_transformed_df], axis=1)\n",
    "    \n",
    "    if x_test_2023_df is not None:\n",
    "        x_test_2023_transformed_df = scaler.transform(x_test_2023_df[columns])\n",
    "        x_test_2023_df = pd.concat([x_test_2023_df.drop(columns, axis=1), x_test_2023_transformed_df], axis=1)\n",
    "\n",
    "    return x_train_df, x_validation_df, x_test_df, x_test_2023_df"
   ]
  },
  {
   "cell_type": "code",
   "execution_count": 7,
   "metadata": {},
   "outputs": [],
   "source": [
    "def step_decay(epoch):\n",
    "    lrate = 0.001  # Start with this learning rate\n",
    "    if epoch > 25 and epoch <= 40:\n",
    "        lrate = 0.0001 # Drop to this for epochs 3 and 4\n",
    "    elif epoch > 40:\n",
    "        lrate = 0.00001 # Drop to this after epoch 5\n",
    "    return lrate"
   ]
  },
  {
   "cell_type": "code",
   "execution_count": 8,
   "metadata": {},
   "outputs": [],
   "source": [
    "def filter_df_for_feature_and_encode(df, features, encoded_columns):\n",
    "    flight_df = df[features]\n",
    "    flight_df = flight_df.dropna()\n",
    "\n",
    "    # Encoding combined categorical variables\n",
    "    flight_df = binary_encode(flight_df, encoded_columns)\n",
    "    flight_df = pd.get_dummies(flight_df, columns=['Carrier'])\n",
    "    return flight_df"
   ]
  },
  {
   "cell_type": "code",
   "execution_count": 9,
   "metadata": {},
   "outputs": [],
   "source": [
    "def split_X_y_and_2023(df: pd.DataFrame):\n",
    "    flight_df_2023 = df[df['Year'] == 2023]\n",
    "    flight_df = df[df['Year'] != 2023]\n",
    "\n",
    "    X = flight_df.drop('ArrDel15', axis=1)\n",
    "    y = flight_df['ArrDel15']\n",
    "\n",
    "    X_test_2023 = flight_df_2023.drop('ArrDel15', axis=1)\n",
    "    y_test_2023 = flight_df_2023['ArrDel15']\n",
    "\n",
    "    return X, y, X_test_2023, y_test_2023"
   ]
  },
  {
   "cell_type": "code",
   "execution_count": 10,
   "metadata": {},
   "outputs": [],
   "source": [
    "def calculate_model_metrics(model, X_test, y_test):\n",
    "    # Get model predictions\n",
    "    y_pred_proba = model.predict(X_test)\n",
    "\n",
    "    # If your model outputs probabilities for both classes, keep the one for the positive class\n",
    "    if y_pred_proba.shape[1] == 2:\n",
    "        y_pred_proba = y_pred_proba[:, 1]\n",
    "\n",
    "    # Convert probabilities to class labels (0 or 1)\n",
    "    y_pred = np.where(y_pred_proba > 0.5, 1, 0)\n",
    "\n",
    "    # Calculate metrics\n",
    "    accuracy = accuracy_score(y_test, y_pred)\n",
    "    print(\"Accuracy:\", accuracy)\n",
    "\n",
    "    f1 = f1_score(y_test, y_pred)\n",
    "    print(\"F1 Score:\", f1)\n",
    "    \n",
    "    auc = roc_auc_score(y_test, y_pred_proba)\n",
    "    print(\"AUC Score:\", auc)"
   ]
  },
  {
   "cell_type": "markdown",
   "metadata": {},
   "source": [
    "## Preprocessing and loading"
   ]
  },
  {
   "cell_type": "code",
   "execution_count": 11,
   "metadata": {},
   "outputs": [],
   "source": [
    "file_name = 'flight_test_data.csv'\n",
    "file_path = f\"../data/{file_name}\"\n",
    "df_2023 = pd.read_csv(file_path)\n",
    "\n",
    "# Preprocess\n",
    "# Add Column: aircraft_daily_flight_count\n",
    "df_2023['Aircraft_Daily_Flight_Count'] = None \n",
    "\n",
    "df_2023.sort_values(by=['FlightDate', 'DepTime'], inplace=True)\n",
    "\n",
    "# Group by 'flightdate' and 'Tail_Number' and use cumcount() to get a count within each group\n",
    "df_2023['Aircraft_Daily_Flight_Count'] = df_2023.groupby(['FlightDate', 'Tail_Number']).cumcount() + 1"
   ]
  },
  {
   "cell_type": "code",
   "execution_count": 12,
   "metadata": {},
   "outputs": [],
   "source": [
    "file_name = 'flight_data_large_balanced.csv'\n",
    "file_path = f\"../data/{file_name}\"\n",
    "df = pd.read_csv(file_path)"
   ]
  },
  {
   "cell_type": "code",
   "execution_count": 13,
   "metadata": {},
   "outputs": [],
   "source": [
    "# Combine to get same encodings for training\n",
    "df = pd.concat([df, df_2023])"
   ]
  },
  {
   "cell_type": "markdown",
   "metadata": {},
   "source": [
    "## Model run feature set 1  Large Balanced"
   ]
  },
  {
   "cell_type": "code",
   "execution_count": 14,
   "metadata": {},
   "outputs": [],
   "source": [
    "features = ['Year', 'Quarter', 'Month', 'DayofMonth', 'DayOfWeek', \n",
    "'Dest', 'Origin', 'Distance', 'Carrier',\n",
    "'Full-time', 'Part-time', 'Grand Total', 'CRSDepTime', 'CRSArrTime', 'CRSElapsedTime',\n",
    "'Aircraft_Daily_Flight_Count', 'ArrDel15']"
   ]
  },
  {
   "cell_type": "code",
   "execution_count": 15,
   "metadata": {},
   "outputs": [],
   "source": [
    "flight_df = filter_df_for_feature_and_encode(df, features, ['Dest', 'Origin'])\n",
    "X, y, X_test_2023, y_test_2023 = split_X_y_and_2023(flight_df)"
   ]
  },
  {
   "cell_type": "code",
   "execution_count": 16,
   "metadata": {},
   "outputs": [],
   "source": [
    "X_train, X_temp, y_train, y_temp = train_test_split(X, y, test_size=0.3, random_state=42)\n",
    "X_validation, X_test, y_validation, y_test = train_test_split(X_temp, y_temp, test_size=0.5, random_state=42)"
   ]
  },
  {
   "cell_type": "code",
   "execution_count": 17,
   "metadata": {},
   "outputs": [
    {
     "name": "stdout",
     "output_type": "stream",
     "text": [
      "(4920530, 48)\n"
     ]
    }
   ],
   "source": [
    "# Transform with StandardScaler\n",
    "standard_columns = ['Distance', 'Full-time', 'Part-time', 'Grand Total', 'Aircraft_Daily_Flight_Count']\n",
    "X_train, X_validation, X_test, X_test_2023 = scale_columns_by_standard_scaler(X_train, X_validation, X_test, X_test_2023, standard_columns)\n",
    "\n",
    "# Transform with CyclicalFeatures\n",
    "time_columns =['Quarter', 'Month', 'DayofMonth', 'DayOfWeek'] \n",
    "# X_train, X_validation, X_test, X_test_2023 = scale_columns_by_cyclical_scaler(X_train, X_validation, X_test, X_test_2023, time_columns)\n",
    "\n",
    "print(X_train.shape)"
   ]
  },
  {
   "cell_type": "code",
   "execution_count": 18,
   "metadata": {},
   "outputs": [
    {
     "name": "stdout",
     "output_type": "stream",
     "text": [
      "Epoch 1/20\n",
      "153767/153767 [==============================] - 76s 492us/step - loss: 0.7023 - accuracy: 0.6421 - val_loss: 0.6304 - val_accuracy: 0.6508 - lr: 0.0010\n",
      "Epoch 2/20\n",
      "153767/153767 [==============================] - 76s 491us/step - loss: 0.6254 - accuracy: 0.6568 - val_loss: 0.6317 - val_accuracy: 0.6452 - lr: 0.0010\n",
      "Epoch 3/20\n",
      "153767/153767 [==============================] - 78s 507us/step - loss: 0.6238 - accuracy: 0.6584 - val_loss: 0.6238 - val_accuracy: 0.6609 - lr: 0.0010\n",
      "Epoch 4/20\n",
      "153767/153767 [==============================] - 77s 500us/step - loss: 0.6229 - accuracy: 0.6591 - val_loss: 0.6209 - val_accuracy: 0.6602 - lr: 0.0010\n",
      "Epoch 5/20\n",
      "153767/153767 [==============================] - 76s 495us/step - loss: 0.6225 - accuracy: 0.6595 - val_loss: 0.6214 - val_accuracy: 0.6616 - lr: 0.0010\n",
      "Epoch 6/20\n",
      "153767/153767 [==============================] - 73s 476us/step - loss: 0.6222 - accuracy: 0.6596 - val_loss: 0.6256 - val_accuracy: 0.6532 - lr: 0.0010\n",
      "Epoch 7/20\n",
      "153767/153767 [==============================] - 73s 477us/step - loss: 0.6220 - accuracy: 0.6598 - val_loss: 0.6230 - val_accuracy: 0.6594 - lr: 0.0010\n",
      "Epoch 8/20\n",
      "153767/153767 [==============================] - 74s 483us/step - loss: 0.6218 - accuracy: 0.6600 - val_loss: 0.6203 - val_accuracy: 0.6615 - lr: 0.0010\n",
      "Epoch 9/20\n",
      "153767/153767 [==============================] - 79s 514us/step - loss: 0.6217 - accuracy: 0.6601 - val_loss: 0.6284 - val_accuracy: 0.6490 - lr: 0.0010\n",
      "Epoch 10/20\n",
      "153767/153767 [==============================] - 79s 516us/step - loss: 0.6215 - accuracy: 0.6602 - val_loss: 0.6218 - val_accuracy: 0.6607 - lr: 0.0010\n",
      "Epoch 11/20\n",
      "153767/153767 [==============================] - 79s 513us/step - loss: 0.6215 - accuracy: 0.6602 - val_loss: 0.6208 - val_accuracy: 0.6619 - lr: 0.0010\n",
      "Epoch 12/20\n",
      "153767/153767 [==============================] - 81s 526us/step - loss: 0.6214 - accuracy: 0.6603 - val_loss: 0.6197 - val_accuracy: 0.6615 - lr: 0.0010\n",
      "Epoch 13/20\n",
      "153767/153767 [==============================] - 75s 485us/step - loss: 0.6213 - accuracy: 0.6603 - val_loss: 0.6208 - val_accuracy: 0.6617 - lr: 0.0010\n",
      "Epoch 14/20\n",
      "153767/153767 [==============================] - 78s 510us/step - loss: 0.6213 - accuracy: 0.6604 - val_loss: 0.6210 - val_accuracy: 0.6615 - lr: 0.0010\n",
      "Epoch 15/20\n",
      "153767/153767 [==============================] - 79s 513us/step - loss: 0.6212 - accuracy: 0.6603 - val_loss: 0.6228 - val_accuracy: 0.6570 - lr: 0.0010\n",
      "Epoch 16/20\n",
      "153767/153767 [==============================] - 76s 497us/step - loss: 0.6212 - accuracy: 0.6604 - val_loss: 0.6213 - val_accuracy: 0.6610 - lr: 0.0010\n",
      "Epoch 17/20\n",
      "153767/153767 [==============================] - 81s 529us/step - loss: 0.6211 - accuracy: 0.6605 - val_loss: 0.6214 - val_accuracy: 0.6589 - lr: 0.0010\n",
      "Epoch 18/20\n",
      "153767/153767 [==============================] - 76s 497us/step - loss: 0.6211 - accuracy: 0.6605 - val_loss: 0.6208 - val_accuracy: 0.6605 - lr: 0.0010\n",
      "Epoch 19/20\n",
      "153767/153767 [==============================] - 80s 519us/step - loss: 0.6211 - accuracy: 0.6604 - val_loss: 0.6239 - val_accuracy: 0.6608 - lr: 0.0010\n",
      "Epoch 20/20\n",
      "153767/153767 [==============================] - 81s 529us/step - loss: 0.6211 - accuracy: 0.6606 - val_loss: 0.6299 - val_accuracy: 0.6479 - lr: 0.0010\n"
     ]
    }
   ],
   "source": [
    "model = Sequential([\n",
    "    Dense(128, activation='relu', input_shape=(X_train.shape[1],)),\n",
    "    Dense(32, activation='relu'),\n",
    "    Dense(1, activation='sigmoid')  # or 'softmax' for multi-class classification\n",
    "])\n",
    "\n",
    "model.compile(optimizer='adam', loss='binary_crossentropy', metrics=['accuracy'])\n",
    "lr_scheduler = LearningRateScheduler(step_decay)\n",
    "\n",
    "history = model.fit(\n",
    "    X_train, \n",
    "    y_train, \n",
    "    epochs=20, \n",
    "    batch_size=32, \n",
    "    validation_data=[X_validation, y_validation],\n",
    "    callbacks=[lr_scheduler]\n",
    ")"
   ]
  },
  {
   "cell_type": "code",
   "execution_count": 19,
   "metadata": {},
   "outputs": [
    {
     "name": "stdout",
     "output_type": "stream",
     "text": [
      "32950/32950 [==============================] - 8s 240us/step\n",
      "Accuracy: 0.6483943474962064\n",
      "F1 Score: 0.5481802681915291\n",
      "AUC Score: 0.6775547958696932\n"
     ]
    }
   ],
   "source": [
    "calculate_model_metrics(model, X_test, y_test)"
   ]
  },
  {
   "cell_type": "code",
   "execution_count": 20,
   "metadata": {},
   "outputs": [
    {
     "name": "stdout",
     "output_type": "stream",
     "text": [
      "2188/2188 [==============================] - 1s 241us/step\n",
      "Accuracy: 0.5238\n",
      "F1 Score: 0.15661370306649125\n",
      "AUC Score: 0.6320750146938776\n"
     ]
    }
   ],
   "source": [
    "calculate_model_metrics(model, X_test_2023, y_test_2023)"
   ]
  },
  {
   "cell_type": "markdown",
   "metadata": {},
   "source": [
    "## Model run feature set 1 & 2 -- Large Balanced\n"
   ]
  },
  {
   "cell_type": "code",
   "execution_count": 21,
   "metadata": {},
   "outputs": [],
   "source": [
    "features = ['Year', 'Quarter', 'Month', 'DayofMonth', 'DayOfWeek', \n",
    "'Dest', 'Origin', 'Distance', 'Carrier',\n",
    "'Full-time', 'Part-time', 'Grand Total', 'CRSDepTime', 'CRSArrTime', 'CRSElapsedTime',\n",
    "'Aircraft_Daily_Flight_Count', 'DepTime', 'DepDelay', 'TaxiOut', 'WheelsOff', 'ArrDel15']"
   ]
  },
  {
   "cell_type": "code",
   "execution_count": 22,
   "metadata": {},
   "outputs": [],
   "source": [
    "flight_df = filter_df_for_feature_and_encode(df, features, ['Dest', 'Origin'])\n",
    "X, y, X_test_2023, y_test_2023 = split_X_y_and_2023(flight_df)"
   ]
  },
  {
   "cell_type": "code",
   "execution_count": 23,
   "metadata": {},
   "outputs": [],
   "source": [
    "X_train, X_temp, y_train, y_temp = train_test_split(X, y, test_size=0.3, random_state=42)\n",
    "X_validation, X_test, y_validation, y_test = train_test_split(X_temp, y_temp, test_size=0.5, random_state=42)"
   ]
  },
  {
   "cell_type": "code",
   "execution_count": 24,
   "metadata": {},
   "outputs": [
    {
     "name": "stdout",
     "output_type": "stream",
     "text": [
      "(4920530, 56)\n"
     ]
    }
   ],
   "source": [
    "# Transform with StandardScaler\n",
    "standard_columns = ['Distance', 'Full-time', 'Part-time', 'Grand Total', 'Aircraft_Daily_Flight_Count']\n",
    "X_train, X_validation, X_test, X_test_2023 = scale_columns_by_standard_scaler(X_train, X_validation, X_test, X_test_2023, standard_columns)\n",
    "\n",
    "# Transform with CyclicalFeatures\n",
    "time_columns =['Quarter', 'Month', 'DayofMonth', 'DayOfWeek'] \n",
    "X_train, X_validation, X_test, X_test_2023 = scale_columns_by_cyclical_scaler(X_train, X_validation, X_test, X_test_2023, time_columns)\n",
    "\n",
    "print(X_train.shape)"
   ]
  },
  {
   "cell_type": "code",
   "execution_count": 25,
   "metadata": {},
   "outputs": [
    {
     "name": "stdout",
     "output_type": "stream",
     "text": [
      "Epoch 1/10\n",
      "153767/153767 [==============================] - 80s 518us/step - loss: 0.2330 - accuracy: 0.9126 - val_loss: 0.2155 - val_accuracy: 0.9182\n",
      "Epoch 2/10\n",
      "153767/153767 [==============================] - 77s 502us/step - loss: 0.2197 - accuracy: 0.9163 - val_loss: 0.2142 - val_accuracy: 0.9182\n",
      "Epoch 3/10\n",
      "153767/153767 [==============================] - 76s 495us/step - loss: 0.2184 - accuracy: 0.9168 - val_loss: 0.2239 - val_accuracy: 0.9154\n",
      "Epoch 4/10\n",
      "153767/153767 [==============================] - 73s 477us/step - loss: 0.2176 - accuracy: 0.9171 - val_loss: 0.2186 - val_accuracy: 0.9163\n",
      "Epoch 5/10\n",
      "153767/153767 [==============================] - 78s 506us/step - loss: 0.2167 - accuracy: 0.9174 - val_loss: 0.2187 - val_accuracy: 0.9189\n",
      "Epoch 6/10\n",
      "153767/153767 [==============================] - 83s 538us/step - loss: 0.2163 - accuracy: 0.9176 - val_loss: 0.2222 - val_accuracy: 0.9145\n",
      "Epoch 7/10\n",
      "153767/153767 [==============================] - 77s 499us/step - loss: 0.2158 - accuracy: 0.9178 - val_loss: 0.2118 - val_accuracy: 0.9193\n",
      "Epoch 8/10\n",
      "153767/153767 [==============================] - 78s 506us/step - loss: 0.2154 - accuracy: 0.9180 - val_loss: 0.2117 - val_accuracy: 0.9194\n",
      "Epoch 9/10\n",
      "153767/153767 [==============================] - 74s 482us/step - loss: 0.2152 - accuracy: 0.9182 - val_loss: 0.2172 - val_accuracy: 0.9188\n",
      "Epoch 10/10\n",
      "153767/153767 [==============================] - 72s 468us/step - loss: 0.2147 - accuracy: 0.9183 - val_loss: 0.2135 - val_accuracy: 0.9196\n"
     ]
    }
   ],
   "source": [
    "model = Sequential([\n",
    "    Dense(128, activation='relu', input_shape=(X_train.shape[1],)),\n",
    "    Dense(32, activation='relu'),\n",
    "    Dense(1, activation='sigmoid')  # or 'softmax' for multi-class classification\n",
    "])\n",
    "\n",
    "model.compile(optimizer='adam', loss='binary_crossentropy', metrics=['accuracy'])\n",
    "\n",
    "history = model.fit(\n",
    "    X_train, \n",
    "    y_train, \n",
    "    epochs=10, \n",
    "    batch_size=32, \n",
    "    validation_data=[X_validation, y_validation]\n",
    ")"
   ]
  },
  {
   "cell_type": "code",
   "execution_count": 26,
   "metadata": {},
   "outputs": [
    {
     "name": "stdout",
     "output_type": "stream",
     "text": [
      "32950/32950 [==============================] - 7s 213us/step\n",
      "Accuracy: 0.9189776176024279\n",
      "F1 Score: 0.8953163790716084\n",
      "AUC Score: 0.9649571631399996\n"
     ]
    }
   ],
   "source": [
    "calculate_model_metrics(model, X_test, y_test)"
   ]
  },
  {
   "cell_type": "code",
   "execution_count": 27,
   "metadata": {},
   "outputs": [
    {
     "name": "stdout",
     "output_type": "stream",
     "text": [
      "2188/2188 [==============================] - 0s 216us/step\n",
      "Accuracy: 0.9038\n",
      "F1 Score: 0.9004641262896503\n",
      "AUC Score: 0.9611291375510204\n"
     ]
    }
   ],
   "source": [
    "calculate_model_metrics(model, X_test_2023, y_test_2023)"
   ]
  },
  {
   "cell_type": "markdown",
   "metadata": {},
   "source": [
    "## Model run feature set 1 --  No weather | Small"
   ]
  },
  {
   "cell_type": "code",
   "execution_count": 28,
   "metadata": {},
   "outputs": [],
   "source": [
    "file_name = 'flight_data_weather.csv'\n",
    "file_path = f\"../data/{file_name}\"\n",
    "df_weather = pd.read_csv(file_path)\n",
    "\n",
    "df_weather['CRSDepTime'] = df_weather.apply(lambda x: calculate_crs_deptime(x['DepTime'], x['DepDelay']), axis=1)"
   ]
  },
  {
   "cell_type": "code",
   "execution_count": 29,
   "metadata": {},
   "outputs": [],
   "source": [
    "features = ['Year', 'Quarter', 'Month', 'DayofMonth', 'DayOfWeek', \n",
    "'Dest', 'Origin', 'Distance', 'Carrier',\n",
    "'Full-time', 'Part-time', 'Grand Total', 'CRSDepTime', 'CRSArrTime', 'CRSElapsedTime',\n",
    "'Aircraft_Daily_Flight_Count', 'ArrDel15']"
   ]
  },
  {
   "cell_type": "code",
   "execution_count": 30,
   "metadata": {},
   "outputs": [],
   "source": [
    "flight_df = df_weather[features]\n",
    "flight_df = flight_df.dropna()\n",
    "\n",
    "X = flight_df.drop('ArrDel15', axis=1)\n",
    "y = flight_df['ArrDel15']"
   ]
  },
  {
   "cell_type": "code",
   "execution_count": 31,
   "metadata": {},
   "outputs": [],
   "source": [
    "# Encoding categorical variables\n",
    "X = binary_encode(X, ['Dest', 'Origin'])\n",
    "X = pd.get_dummies(X, columns=['Carrier'])\n",
    "\n",
    "X_train, X_temp, y_train, y_temp = train_test_split(X, y, test_size=0.3, random_state=42)\n",
    "X_validation, X_test, y_validation, y_test = train_test_split(X_temp, y_temp, test_size=0.5, random_state=42)"
   ]
  },
  {
   "cell_type": "code",
   "execution_count": 32,
   "metadata": {},
   "outputs": [
    {
     "name": "stdout",
     "output_type": "stream",
     "text": [
      "(240184, 52)\n"
     ]
    }
   ],
   "source": [
    "# Transform with StandardScaler\n",
    "standard_columns = ['Distance', 'Full-time', 'Part-time', 'Grand Total', 'Aircraft_Daily_Flight_Count']\n",
    "X_train, X_validation, X_test, _ = scale_columns_by_standard_scaler(X_train, X_validation, X_test, None, standard_columns)\n",
    "\n",
    "# Transform with CyclicalFeatures\n",
    "time_columns =['Quarter', 'Month', 'DayofMonth', 'DayOfWeek'] \n",
    "X_train, X_validation, X_test, _ = scale_columns_by_cyclical_scaler(X_train, X_validation, X_test, None, time_columns)\n",
    "\n",
    "print(X_train.shape)"
   ]
  },
  {
   "cell_type": "code",
   "execution_count": 33,
   "metadata": {},
   "outputs": [
    {
     "name": "stdout",
     "output_type": "stream",
     "text": [
      "Epoch 1/50\n",
      "7506/7506 [==============================] - 4s 474us/step - loss: 1.4724 - accuracy: 0.5256 - val_loss: 0.7856 - val_accuracy: 0.5143 - lr: 0.0010\n",
      "Epoch 2/50\n",
      "7506/7506 [==============================] - 3s 464us/step - loss: 0.8682 - accuracy: 0.5341 - val_loss: 0.7034 - val_accuracy: 0.5293 - lr: 0.0010\n",
      "Epoch 3/50\n",
      "7506/7506 [==============================] - 4s 471us/step - loss: 0.6943 - accuracy: 0.5538 - val_loss: 0.6799 - val_accuracy: 0.5606 - lr: 0.0010\n",
      "Epoch 4/50\n",
      "7506/7506 [==============================] - 3s 465us/step - loss: 0.6797 - accuracy: 0.5625 - val_loss: 0.6772 - val_accuracy: 0.5658 - lr: 0.0010\n",
      "Epoch 5/50\n",
      "7506/7506 [==============================] - 3s 465us/step - loss: 0.6780 - accuracy: 0.5658 - val_loss: 0.6765 - val_accuracy: 0.5675 - lr: 0.0010\n",
      "Epoch 6/50\n",
      "7506/7506 [==============================] - 4s 468us/step - loss: 0.6771 - accuracy: 0.5684 - val_loss: 0.6778 - val_accuracy: 0.5641 - lr: 0.0010\n",
      "Epoch 7/50\n",
      "7506/7506 [==============================] - 4s 466us/step - loss: 0.6760 - accuracy: 0.5691 - val_loss: 0.6760 - val_accuracy: 0.5711 - lr: 0.0010\n",
      "Epoch 8/50\n",
      "7506/7506 [==============================] - 3s 465us/step - loss: 0.6749 - accuracy: 0.5701 - val_loss: 0.6746 - val_accuracy: 0.5693 - lr: 0.0010\n",
      "Epoch 9/50\n",
      "7506/7506 [==============================] - 3s 466us/step - loss: 0.6738 - accuracy: 0.5719 - val_loss: 0.6734 - val_accuracy: 0.5718 - lr: 0.0010\n",
      "Epoch 10/50\n",
      "7506/7506 [==============================] - 4s 469us/step - loss: 0.6727 - accuracy: 0.5739 - val_loss: 0.6757 - val_accuracy: 0.5666 - lr: 0.0010\n",
      "Epoch 11/50\n",
      "7506/7506 [==============================] - 4s 470us/step - loss: 0.6721 - accuracy: 0.5753 - val_loss: 0.6723 - val_accuracy: 0.5716 - lr: 0.0010\n",
      "Epoch 12/50\n",
      "7506/7506 [==============================] - 3s 466us/step - loss: 0.6717 - accuracy: 0.5749 - val_loss: 0.6720 - val_accuracy: 0.5796 - lr: 0.0010\n",
      "Epoch 13/50\n",
      "7506/7506 [==============================] - 4s 472us/step - loss: 0.6709 - accuracy: 0.5769 - val_loss: 0.6711 - val_accuracy: 0.5786 - lr: 0.0010\n",
      "Epoch 14/50\n",
      "7506/7506 [==============================] - 4s 468us/step - loss: 0.6708 - accuracy: 0.5772 - val_loss: 0.6709 - val_accuracy: 0.5804 - lr: 0.0010\n",
      "Epoch 15/50\n",
      "7506/7506 [==============================] - 4s 468us/step - loss: 0.6706 - accuracy: 0.5780 - val_loss: 0.6696 - val_accuracy: 0.5826 - lr: 0.0010\n",
      "Epoch 16/50\n",
      "7506/7506 [==============================] - 4s 470us/step - loss: 0.6702 - accuracy: 0.5785 - val_loss: 0.6693 - val_accuracy: 0.5833 - lr: 0.0010\n",
      "Epoch 17/50\n",
      "7506/7506 [==============================] - 4s 469us/step - loss: 0.6697 - accuracy: 0.5795 - val_loss: 0.6697 - val_accuracy: 0.5765 - lr: 0.0010\n",
      "Epoch 18/50\n",
      "7506/7506 [==============================] - 4s 468us/step - loss: 0.6698 - accuracy: 0.5800 - val_loss: 0.6715 - val_accuracy: 0.5749 - lr: 0.0010\n",
      "Epoch 19/50\n",
      "7506/7506 [==============================] - 4s 473us/step - loss: 0.6694 - accuracy: 0.5808 - val_loss: 0.6758 - val_accuracy: 0.5686 - lr: 0.0010\n",
      "Epoch 20/50\n",
      "7506/7506 [==============================] - 4s 467us/step - loss: 0.6691 - accuracy: 0.5813 - val_loss: 0.6704 - val_accuracy: 0.5784 - lr: 0.0010\n",
      "Epoch 21/50\n",
      "7506/7506 [==============================] - 4s 467us/step - loss: 0.6690 - accuracy: 0.5807 - val_loss: 0.6697 - val_accuracy: 0.5760 - lr: 0.0010\n",
      "Epoch 22/50\n",
      "7506/7506 [==============================] - 4s 487us/step - loss: 0.6688 - accuracy: 0.5814 - val_loss: 0.6683 - val_accuracy: 0.5829 - lr: 0.0010\n",
      "Epoch 23/50\n",
      "7506/7506 [==============================] - 4s 467us/step - loss: 0.6687 - accuracy: 0.5815 - val_loss: 0.6690 - val_accuracy: 0.5849 - lr: 0.0010\n",
      "Epoch 24/50\n",
      "7506/7506 [==============================] - 4s 468us/step - loss: 0.6685 - accuracy: 0.5829 - val_loss: 0.6704 - val_accuracy: 0.5761 - lr: 0.0010\n",
      "Epoch 25/50\n",
      "7506/7506 [==============================] - 4s 472us/step - loss: 0.6683 - accuracy: 0.5825 - val_loss: 0.6709 - val_accuracy: 0.5763 - lr: 0.0010\n",
      "Epoch 26/50\n",
      "7506/7506 [==============================] - 4s 469us/step - loss: 0.6684 - accuracy: 0.5817 - val_loss: 0.6702 - val_accuracy: 0.5756 - lr: 0.0010\n",
      "Epoch 27/50\n",
      "7506/7506 [==============================] - 4s 477us/step - loss: 0.6650 - accuracy: 0.5877 - val_loss: 0.6662 - val_accuracy: 0.5878 - lr: 1.0000e-04\n",
      "Epoch 28/50\n",
      "7506/7506 [==============================] - 4s 473us/step - loss: 0.6647 - accuracy: 0.5887 - val_loss: 0.6658 - val_accuracy: 0.5880 - lr: 1.0000e-04\n",
      "Epoch 29/50\n",
      "7506/7506 [==============================] - 4s 471us/step - loss: 0.6646 - accuracy: 0.5891 - val_loss: 0.6656 - val_accuracy: 0.5893 - lr: 1.0000e-04\n",
      "Epoch 30/50\n",
      "7506/7506 [==============================] - 4s 470us/step - loss: 0.6645 - accuracy: 0.5891 - val_loss: 0.6660 - val_accuracy: 0.5883 - lr: 1.0000e-04\n",
      "Epoch 31/50\n",
      "7506/7506 [==============================] - 4s 475us/step - loss: 0.6645 - accuracy: 0.5896 - val_loss: 0.6659 - val_accuracy: 0.5889 - lr: 1.0000e-04\n",
      "Epoch 32/50\n",
      "7506/7506 [==============================] - 4s 474us/step - loss: 0.6645 - accuracy: 0.5896 - val_loss: 0.6657 - val_accuracy: 0.5898 - lr: 1.0000e-04\n",
      "Epoch 33/50\n",
      "7506/7506 [==============================] - 4s 471us/step - loss: 0.6645 - accuracy: 0.5897 - val_loss: 0.6656 - val_accuracy: 0.5893 - lr: 1.0000e-04\n",
      "Epoch 34/50\n",
      "7506/7506 [==============================] - 4s 477us/step - loss: 0.6644 - accuracy: 0.5898 - val_loss: 0.6656 - val_accuracy: 0.5900 - lr: 1.0000e-04\n",
      "Epoch 35/50\n",
      "7506/7506 [==============================] - 4s 477us/step - loss: 0.6644 - accuracy: 0.5895 - val_loss: 0.6659 - val_accuracy: 0.5882 - lr: 1.0000e-04\n",
      "Epoch 36/50\n",
      "7506/7506 [==============================] - 4s 475us/step - loss: 0.6644 - accuracy: 0.5892 - val_loss: 0.6655 - val_accuracy: 0.5887 - lr: 1.0000e-04\n",
      "Epoch 37/50\n",
      "7506/7506 [==============================] - 4s 479us/step - loss: 0.6643 - accuracy: 0.5898 - val_loss: 0.6656 - val_accuracy: 0.5889 - lr: 1.0000e-04\n",
      "Epoch 38/50\n",
      "7506/7506 [==============================] - 4s 478us/step - loss: 0.6643 - accuracy: 0.5897 - val_loss: 0.6654 - val_accuracy: 0.5894 - lr: 1.0000e-04\n",
      "Epoch 39/50\n",
      "7506/7506 [==============================] - 4s 478us/step - loss: 0.6643 - accuracy: 0.5900 - val_loss: 0.6654 - val_accuracy: 0.5891 - lr: 1.0000e-04\n",
      "Epoch 40/50\n",
      "7506/7506 [==============================] - 4s 477us/step - loss: 0.6643 - accuracy: 0.5896 - val_loss: 0.6654 - val_accuracy: 0.5894 - lr: 1.0000e-04\n",
      "Epoch 41/50\n",
      "7506/7506 [==============================] - 4s 479us/step - loss: 0.6642 - accuracy: 0.5896 - val_loss: 0.6666 - val_accuracy: 0.5869 - lr: 1.0000e-04\n",
      "Epoch 42/50\n",
      "7506/7506 [==============================] - 4s 482us/step - loss: 0.6639 - accuracy: 0.5904 - val_loss: 0.6654 - val_accuracy: 0.5894 - lr: 1.0000e-05\n",
      "Epoch 43/50\n",
      "7506/7506 [==============================] - 4s 481us/step - loss: 0.6638 - accuracy: 0.5907 - val_loss: 0.6653 - val_accuracy: 0.5902 - lr: 1.0000e-05\n",
      "Epoch 44/50\n",
      "7506/7506 [==============================] - 4s 482us/step - loss: 0.6638 - accuracy: 0.5903 - val_loss: 0.6654 - val_accuracy: 0.5899 - lr: 1.0000e-05\n",
      "Epoch 45/50\n",
      "7506/7506 [==============================] - 4s 479us/step - loss: 0.6638 - accuracy: 0.5904 - val_loss: 0.6654 - val_accuracy: 0.5888 - lr: 1.0000e-05\n",
      "Epoch 46/50\n",
      "7506/7506 [==============================] - 4s 480us/step - loss: 0.6638 - accuracy: 0.5905 - val_loss: 0.6654 - val_accuracy: 0.5892 - lr: 1.0000e-05\n",
      "Epoch 47/50\n",
      "7506/7506 [==============================] - 4s 485us/step - loss: 0.6638 - accuracy: 0.5906 - val_loss: 0.6654 - val_accuracy: 0.5891 - lr: 1.0000e-05\n",
      "Epoch 48/50\n",
      "7506/7506 [==============================] - 4s 481us/step - loss: 0.6638 - accuracy: 0.5906 - val_loss: 0.6654 - val_accuracy: 0.5895 - lr: 1.0000e-05\n",
      "Epoch 49/50\n",
      "7506/7506 [==============================] - 4s 483us/step - loss: 0.6638 - accuracy: 0.5905 - val_loss: 0.6654 - val_accuracy: 0.5891 - lr: 1.0000e-05\n",
      "Epoch 50/50\n",
      "7506/7506 [==============================] - 4s 481us/step - loss: 0.6638 - accuracy: 0.5906 - val_loss: 0.6654 - val_accuracy: 0.5894 - lr: 1.0000e-05\n"
     ]
    }
   ],
   "source": [
    "model = Sequential([\n",
    "    Dense(128, activation='relu', input_shape=(X_train.shape[1],)),\n",
    "    Dense(32, activation='relu'),\n",
    "    Dense(1, activation='sigmoid')  # or 'softmax' for multi-class classification\n",
    "])\n",
    "\n",
    "model.compile(optimizer='adam', loss='binary_crossentropy', metrics=['accuracy'])\n",
    "lr_scheduler = LearningRateScheduler(step_decay)\n",
    "\n",
    "history = model.fit(\n",
    "    X_train, \n",
    "    y_train, \n",
    "    epochs=50, \n",
    "    batch_size=32, \n",
    "    validation_data=[X_validation, y_validation],\n",
    "    callbacks=[lr_scheduler]\n",
    ")"
   ]
  },
  {
   "cell_type": "code",
   "execution_count": 34,
   "metadata": {},
   "outputs": [
    {
     "name": "stdout",
     "output_type": "stream",
     "text": [
      "1609/1609 [==============================] - 0s 219us/step\n",
      "Accuracy: 0.5868889407010182\n",
      "F1 Score: 0.5802503257393297\n",
      "AUC Score: 0.6240792844753368\n"
     ]
    }
   ],
   "source": [
    "calculate_model_metrics(model, X_test, y_test)"
   ]
  },
  {
   "cell_type": "markdown",
   "metadata": {},
   "source": [
    "## Model run feature set 1  weather | Small"
   ]
  },
  {
   "cell_type": "code",
   "execution_count": 35,
   "metadata": {},
   "outputs": [],
   "source": [
    "file_name = 'flight_data_weather.csv'\n",
    "file_path = f\"../data/{file_name}\"\n",
    "df_weather = pd.read_csv(file_path)\n",
    "\n",
    "df_weather['CRSDepTime'] = df_weather.apply(lambda x: calculate_crs_deptime(x['DepTime'], x['DepDelay']), axis=1)"
   ]
  },
  {
   "cell_type": "code",
   "execution_count": 36,
   "metadata": {},
   "outputs": [],
   "source": [
    "features = ['Year', 'Quarter', 'Month', 'DayofMonth', 'DayOfWeek', \n",
    "'Dest', 'Origin', 'Distance', 'Carrier',\n",
    "'Full-time', 'Part-time', 'Grand Total', 'CRSDepTime', 'CRSArrTime', 'CRSElapsedTime',\n",
    "'Origin_Windspeed', 'Origin_Precip', 'Dest_Windspeed', 'Dest_Precip', 'dest_ianaTimeZone',\n",
    "'origin_ianaTimeZone', 'Aircraft_Daily_Flight_Count', 'ArrDel15']"
   ]
  },
  {
   "cell_type": "code",
   "execution_count": 37,
   "metadata": {},
   "outputs": [],
   "source": [
    "flight_df = df_weather[features]\n",
    "flight_df = flight_df.dropna()\n",
    "\n",
    "X = flight_df.drop('ArrDel15', axis=1)\n",
    "y = flight_df['ArrDel15']"
   ]
  },
  {
   "cell_type": "code",
   "execution_count": 38,
   "metadata": {},
   "outputs": [],
   "source": [
    "# Encoding categorical variables\n",
    "X = binary_encode(X, ['origin_ianaTimeZone', 'dest_ianaTimeZone', 'Dest', 'Origin'])\n",
    "X = pd.get_dummies(X, columns=['Carrier'])\n",
    "\n",
    "X_train, X_temp, y_train, y_temp = train_test_split(X, y, test_size=0.3, random_state=42)\n",
    "X_validation, X_test, y_validation, y_test = train_test_split(X_temp, y_temp, test_size=0.5, random_state=42)"
   ]
  },
  {
   "cell_type": "code",
   "execution_count": 39,
   "metadata": {},
   "outputs": [
    {
     "name": "stdout",
     "output_type": "stream",
     "text": [
      "(240184, 64)\n"
     ]
    }
   ],
   "source": [
    "# Transform with StandardScaler\n",
    "standard_columns = ['Distance', 'Full-time', 'Part-time', 'Grand Total', 'Origin_Windspeed', 'Origin_Precip', 'Dest_Windspeed', 'Dest_Precip', 'Aircraft_Daily_Flight_Count']\n",
    "X_train, X_validation, X_test, _ = scale_columns_by_standard_scaler(X_train, X_validation, X_test, None, standard_columns)\n",
    "\n",
    "# Transform with CyclicalFeatures\n",
    "time_columns =['Quarter', 'Month', 'DayofMonth', 'DayOfWeek'] \n",
    "X_train, X_validation, X_test, _ = scale_columns_by_cyclical_scaler(X_train, X_validation, X_test, None, time_columns)\n",
    "\n",
    "print(X_train.shape)"
   ]
  },
  {
   "cell_type": "code",
   "execution_count": 40,
   "metadata": {},
   "outputs": [
    {
     "name": "stdout",
     "output_type": "stream",
     "text": [
      "Epoch 1/50\n",
      "7506/7506 [==============================] - 4s 493us/step - loss: 1.4196 - accuracy: 0.5277 - val_loss: 1.0109 - val_accuracy: 0.5178 - lr: 0.0010\n",
      "Epoch 2/50\n",
      "7506/7506 [==============================] - 4s 486us/step - loss: 0.8209 - accuracy: 0.5403 - val_loss: 0.7117 - val_accuracy: 0.5367 - lr: 0.0010\n",
      "Epoch 3/50\n",
      "7506/7506 [==============================] - 4s 483us/step - loss: 0.6941 - accuracy: 0.5555 - val_loss: 0.6763 - val_accuracy: 0.5682 - lr: 0.0010\n",
      "Epoch 4/50\n",
      "7506/7506 [==============================] - 4s 484us/step - loss: 0.6786 - accuracy: 0.5627 - val_loss: 0.6778 - val_accuracy: 0.5639 - lr: 0.0010\n",
      "Epoch 5/50\n",
      "7506/7506 [==============================] - 4s 483us/step - loss: 0.6762 - accuracy: 0.5678 - val_loss: 0.6772 - val_accuracy: 0.5696 - lr: 0.0010\n",
      "Epoch 6/50\n",
      "7506/7506 [==============================] - 4s 483us/step - loss: 0.6755 - accuracy: 0.5683 - val_loss: 0.6728 - val_accuracy: 0.5752 - lr: 0.0010\n",
      "Epoch 7/50\n",
      "7506/7506 [==============================] - 4s 525us/step - loss: 0.6749 - accuracy: 0.5694 - val_loss: 0.6804 - val_accuracy: 0.5453 - lr: 0.0010\n",
      "Epoch 8/50\n",
      "7506/7506 [==============================] - 4s 492us/step - loss: 0.6740 - accuracy: 0.5718 - val_loss: 0.6723 - val_accuracy: 0.5761 - lr: 0.0010\n",
      "Epoch 9/50\n",
      "7506/7506 [==============================] - 4s 482us/step - loss: 0.6736 - accuracy: 0.5721 - val_loss: 0.6756 - val_accuracy: 0.5694 - lr: 0.0010\n",
      "Epoch 10/50\n",
      "7506/7506 [==============================] - 4s 483us/step - loss: 0.6730 - accuracy: 0.5734 - val_loss: 0.6714 - val_accuracy: 0.5783 - lr: 0.0010\n",
      "Epoch 11/50\n",
      "7506/7506 [==============================] - 4s 535us/step - loss: 0.6726 - accuracy: 0.5746 - val_loss: 0.6743 - val_accuracy: 0.5592 - lr: 0.0010\n",
      "Epoch 12/50\n",
      "7506/7506 [==============================] - 4s 562us/step - loss: 0.6714 - accuracy: 0.5759 - val_loss: 0.6930 - val_accuracy: 0.5457 - lr: 0.0010\n",
      "Epoch 13/50\n",
      "7506/7506 [==============================] - 4s 488us/step - loss: 0.6711 - accuracy: 0.5772 - val_loss: 0.6772 - val_accuracy: 0.5736 - lr: 0.0010\n",
      "Epoch 14/50\n",
      "7506/7506 [==============================] - 4s 486us/step - loss: 0.6703 - accuracy: 0.5781 - val_loss: 0.6693 - val_accuracy: 0.5815 - lr: 0.0010\n",
      "Epoch 15/50\n",
      "7506/7506 [==============================] - 4s 491us/step - loss: 0.6700 - accuracy: 0.5787 - val_loss: 0.6700 - val_accuracy: 0.5751 - lr: 0.0010\n",
      "Epoch 16/50\n",
      "7506/7506 [==============================] - 4s 512us/step - loss: 0.6701 - accuracy: 0.5806 - val_loss: 0.6680 - val_accuracy: 0.5867 - lr: 0.0010\n",
      "Epoch 17/50\n",
      "7506/7506 [==============================] - 4s 489us/step - loss: 0.6700 - accuracy: 0.5801 - val_loss: 0.6675 - val_accuracy: 0.5861 - lr: 0.0010\n",
      "Epoch 18/50\n",
      "7506/7506 [==============================] - 4s 484us/step - loss: 0.6696 - accuracy: 0.5809 - val_loss: 0.6733 - val_accuracy: 0.5760 - lr: 0.0010\n",
      "Epoch 19/50\n",
      "7506/7506 [==============================] - 4s 483us/step - loss: 0.6694 - accuracy: 0.5804 - val_loss: 0.6690 - val_accuracy: 0.5830 - lr: 0.0010\n",
      "Epoch 20/50\n",
      "7506/7506 [==============================] - 4s 486us/step - loss: 0.6692 - accuracy: 0.5821 - val_loss: 0.6690 - val_accuracy: 0.5831 - lr: 0.0010\n",
      "Epoch 21/50\n",
      "7506/7506 [==============================] - 4s 484us/step - loss: 0.6695 - accuracy: 0.5827 - val_loss: 0.6667 - val_accuracy: 0.5875 - lr: 0.0010\n",
      "Epoch 22/50\n",
      "7506/7506 [==============================] - 4s 540us/step - loss: 0.6688 - accuracy: 0.5822 - val_loss: 0.6759 - val_accuracy: 0.5749 - lr: 0.0010\n",
      "Epoch 23/50\n",
      "7506/7506 [==============================] - 4s 544us/step - loss: 0.6687 - accuracy: 0.5825 - val_loss: 0.6672 - val_accuracy: 0.5862 - lr: 0.0010\n",
      "Epoch 24/50\n",
      "7506/7506 [==============================] - 4s 513us/step - loss: 0.6684 - accuracy: 0.5824 - val_loss: 0.6710 - val_accuracy: 0.5695 - lr: 0.0010\n",
      "Epoch 25/50\n",
      "7506/7506 [==============================] - 4s 485us/step - loss: 0.6683 - accuracy: 0.5834 - val_loss: 0.6755 - val_accuracy: 0.5625 - lr: 0.0010\n",
      "Epoch 26/50\n",
      "7506/7506 [==============================] - 4s 481us/step - loss: 0.6684 - accuracy: 0.5835 - val_loss: 0.6662 - val_accuracy: 0.5892 - lr: 0.0010\n",
      "Epoch 27/50\n",
      "7506/7506 [==============================] - 4s 482us/step - loss: 0.6660 - accuracy: 0.5881 - val_loss: 0.6655 - val_accuracy: 0.5899 - lr: 1.0000e-04\n",
      "Epoch 28/50\n",
      "7506/7506 [==============================] - 4s 489us/step - loss: 0.6658 - accuracy: 0.5884 - val_loss: 0.6663 - val_accuracy: 0.5878 - lr: 1.0000e-04\n",
      "Epoch 29/50\n",
      "7506/7506 [==============================] - 4s 581us/step - loss: 0.6657 - accuracy: 0.5884 - val_loss: 0.6655 - val_accuracy: 0.5899 - lr: 1.0000e-04\n",
      "Epoch 30/50\n",
      "7506/7506 [==============================] - 5s 606us/step - loss: 0.6656 - accuracy: 0.5892 - val_loss: 0.6656 - val_accuracy: 0.5897 - lr: 1.0000e-04\n",
      "Epoch 31/50\n",
      "7506/7506 [==============================] - 4s 569us/step - loss: 0.6657 - accuracy: 0.5888 - val_loss: 0.6664 - val_accuracy: 0.5861 - lr: 1.0000e-04\n",
      "Epoch 32/50\n",
      "7506/7506 [==============================] - 4s 564us/step - loss: 0.6657 - accuracy: 0.5892 - val_loss: 0.6670 - val_accuracy: 0.5843 - lr: 1.0000e-04\n",
      "Epoch 33/50\n",
      "7506/7506 [==============================] - 4s 546us/step - loss: 0.6656 - accuracy: 0.5894 - val_loss: 0.6655 - val_accuracy: 0.5894 - lr: 1.0000e-04\n",
      "Epoch 34/50\n",
      "7506/7506 [==============================] - 4s 565us/step - loss: 0.6656 - accuracy: 0.5889 - val_loss: 0.6655 - val_accuracy: 0.5892 - lr: 1.0000e-04\n",
      "Epoch 35/50\n",
      "7506/7506 [==============================] - 4s 499us/step - loss: 0.6656 - accuracy: 0.5896 - val_loss: 0.6658 - val_accuracy: 0.5892 - lr: 1.0000e-04\n",
      "Epoch 36/50\n",
      "7506/7506 [==============================] - 4s 513us/step - loss: 0.6656 - accuracy: 0.5890 - val_loss: 0.6654 - val_accuracy: 0.5893 - lr: 1.0000e-04\n",
      "Epoch 37/50\n",
      "7506/7506 [==============================] - 4s 480us/step - loss: 0.6656 - accuracy: 0.5888 - val_loss: 0.6656 - val_accuracy: 0.5900 - lr: 1.0000e-04\n",
      "Epoch 38/50\n",
      "7506/7506 [==============================] - 4s 502us/step - loss: 0.6656 - accuracy: 0.5892 - val_loss: 0.6654 - val_accuracy: 0.5900 - lr: 1.0000e-04\n",
      "Epoch 39/50\n",
      "7506/7506 [==============================] - 4s 513us/step - loss: 0.6656 - accuracy: 0.5890 - val_loss: 0.6655 - val_accuracy: 0.5895 - lr: 1.0000e-04\n",
      "Epoch 40/50\n",
      "7506/7506 [==============================] - 4s 522us/step - loss: 0.6655 - accuracy: 0.5896 - val_loss: 0.6656 - val_accuracy: 0.5894 - lr: 1.0000e-04\n",
      "Epoch 41/50\n",
      "7506/7506 [==============================] - 4s 487us/step - loss: 0.6656 - accuracy: 0.5892 - val_loss: 0.6655 - val_accuracy: 0.5899 - lr: 1.0000e-04\n",
      "Epoch 42/50\n",
      "7506/7506 [==============================] - 4s 483us/step - loss: 0.6653 - accuracy: 0.5896 - val_loss: 0.6654 - val_accuracy: 0.5901 - lr: 1.0000e-05\n",
      "Epoch 43/50\n",
      "7506/7506 [==============================] - 4s 492us/step - loss: 0.6653 - accuracy: 0.5895 - val_loss: 0.6654 - val_accuracy: 0.5900 - lr: 1.0000e-05\n",
      "Epoch 44/50\n",
      "7506/7506 [==============================] - 4s 500us/step - loss: 0.6653 - accuracy: 0.5894 - val_loss: 0.6654 - val_accuracy: 0.5900 - lr: 1.0000e-05\n",
      "Epoch 45/50\n",
      "7506/7506 [==============================] - 4s 480us/step - loss: 0.6653 - accuracy: 0.5895 - val_loss: 0.6654 - val_accuracy: 0.5897 - lr: 1.0000e-05\n",
      "Epoch 46/50\n",
      "7506/7506 [==============================] - 4s 501us/step - loss: 0.6653 - accuracy: 0.5898 - val_loss: 0.6654 - val_accuracy: 0.5900 - lr: 1.0000e-05\n",
      "Epoch 47/50\n",
      "7506/7506 [==============================] - 4s 502us/step - loss: 0.6653 - accuracy: 0.5895 - val_loss: 0.6654 - val_accuracy: 0.5898 - lr: 1.0000e-05\n",
      "Epoch 48/50\n",
      "7506/7506 [==============================] - 4s 482us/step - loss: 0.6653 - accuracy: 0.5898 - val_loss: 0.6654 - val_accuracy: 0.5901 - lr: 1.0000e-05\n",
      "Epoch 49/50\n",
      "7506/7506 [==============================] - 4s 490us/step - loss: 0.6652 - accuracy: 0.5894 - val_loss: 0.6654 - val_accuracy: 0.5901 - lr: 1.0000e-05\n",
      "Epoch 50/50\n",
      "7506/7506 [==============================] - 4s 482us/step - loss: 0.6653 - accuracy: 0.5898 - val_loss: 0.6654 - val_accuracy: 0.5902 - lr: 1.0000e-05\n"
     ]
    }
   ],
   "source": [
    "model = Sequential([\n",
    "    Dense(128, activation='relu', input_shape=(X_train.shape[1],)),\n",
    "    Dense(32, activation='relu'),\n",
    "    Dense(1, activation='sigmoid')  # or 'softmax' for multi-class classification\n",
    "])\n",
    "\n",
    "model.compile(optimizer='adam', loss='binary_crossentropy', metrics=['accuracy'])\n",
    "lr_scheduler = LearningRateScheduler(step_decay)\n",
    "\n",
    "history = model.fit(\n",
    "    X_train, \n",
    "    y_train, \n",
    "    epochs=50, \n",
    "    batch_size=32, \n",
    "    validation_data=[X_validation, y_validation],\n",
    "    callbacks=[lr_scheduler]\n",
    ")"
   ]
  },
  {
   "cell_type": "code",
   "execution_count": 41,
   "metadata": {},
   "outputs": [
    {
     "name": "stdout",
     "output_type": "stream",
     "text": [
      "1609/1609 [==============================] - 0s 234us/step\n",
      "Accuracy: 0.5874523976062797\n",
      "F1 Score: 0.582561682886071\n",
      "AUC Score: 0.6228084203082094\n"
     ]
    }
   ],
   "source": [
    "calculate_model_metrics(model, X_test, y_test)"
   ]
  },
  {
   "cell_type": "markdown",
   "metadata": {},
   "source": [
    "## Model run feature set 1 & 2 -  No Weather"
   ]
  },
  {
   "cell_type": "code",
   "execution_count": 42,
   "metadata": {},
   "outputs": [],
   "source": [
    "file_name = 'flight_data_weather.csv'\n",
    "file_path = f\"../data/{file_name}\"\n",
    "df_weather = pd.read_csv(file_path)\n",
    "\n",
    "df_weather['CRSDepTime'] = df_weather.apply(lambda x: calculate_crs_deptime(x['DepTime'], x['DepDelay']), axis=1)"
   ]
  },
  {
   "cell_type": "code",
   "execution_count": 43,
   "metadata": {},
   "outputs": [],
   "source": [
    "features = ['Year', 'Quarter', 'Month', 'DayofMonth', 'DayOfWeek', \n",
    "'Dest', 'Origin', 'Distance', 'Carrier',\n",
    "'Full-time', 'Part-time', 'Grand Total', 'CRSDepTime', 'CRSArrTime', 'CRSElapsedTime',\n",
    "'Aircraft_Daily_Flight_Count', \n",
    "'DepDelay', 'DepTime', 'TaxiOut', 'WheelsOff', 'ArrDel15']"
   ]
  },
  {
   "cell_type": "code",
   "execution_count": 44,
   "metadata": {},
   "outputs": [],
   "source": [
    "flight_df = df_weather[features]\n",
    "flight_df = flight_df.dropna()\n",
    "\n",
    "X = flight_df.drop('ArrDel15', axis=1)\n",
    "y = flight_df['ArrDel15']"
   ]
  },
  {
   "cell_type": "code",
   "execution_count": 45,
   "metadata": {},
   "outputs": [],
   "source": [
    "# Encoding categorical variables\n",
    "X = binary_encode(X, ['Dest', 'Origin'])\n",
    "X = pd.get_dummies(X, columns=['Carrier'])\n",
    "\n",
    "X_train, X_temp, y_train, y_temp = train_test_split(X, y, test_size=0.3, random_state=42)\n",
    "X_validation, X_test, y_validation, y_test = train_test_split(X_temp, y_temp, test_size=0.5, random_state=42)"
   ]
  },
  {
   "cell_type": "code",
   "execution_count": 46,
   "metadata": {},
   "outputs": [
    {
     "name": "stdout",
     "output_type": "stream",
     "text": [
      "(240184, 56)\n"
     ]
    }
   ],
   "source": [
    "# Transform with StandardScaler\n",
    "standard_columns = ['Distance', 'Full-time', 'Part-time', 'Grand Total', 'Aircraft_Daily_Flight_Count']\n",
    "X_train, X_validation, X_test, _ = scale_columns_by_standard_scaler(X_train, X_validation, X_test, None, standard_columns)\n",
    "\n",
    "# Transform with CyclicalFeatures\n",
    "time_columns =['Quarter', 'Month', 'DayofMonth', 'DayOfWeek'] \n",
    "X_train, X_validation, X_test, _ = scale_columns_by_cyclical_scaler(X_train, X_validation, X_test, None, time_columns)\n",
    "\n",
    "print(X_train.shape)"
   ]
  },
  {
   "cell_type": "code",
   "execution_count": 47,
   "metadata": {},
   "outputs": [
    {
     "name": "stdout",
     "output_type": "stream",
     "text": [
      "Epoch 1/50\n",
      "7506/7506 [==============================] - 4s 496us/step - loss: 0.8493 - accuracy: 0.8481 - val_loss: 0.3911 - val_accuracy: 0.8589 - lr: 0.0010\n",
      "Epoch 2/50\n",
      "7506/7506 [==============================] - 4s 482us/step - loss: 0.3259 - accuracy: 0.8800 - val_loss: 0.2750 - val_accuracy: 0.8967 - lr: 0.0010\n",
      "Epoch 3/50\n",
      "7506/7506 [==============================] - 4s 482us/step - loss: 0.2685 - accuracy: 0.8944 - val_loss: 0.2691 - val_accuracy: 0.8925 - lr: 0.0010\n",
      "Epoch 4/50\n",
      "7506/7506 [==============================] - 4s 487us/step - loss: 0.2569 - accuracy: 0.8988 - val_loss: 0.2573 - val_accuracy: 0.8982 - lr: 0.0010\n",
      "Epoch 5/50\n",
      "7506/7506 [==============================] - 4s 482us/step - loss: 0.2540 - accuracy: 0.9000 - val_loss: 0.2504 - val_accuracy: 0.9006 - lr: 0.0010\n",
      "Epoch 6/50\n",
      "7506/7506 [==============================] - 4s 483us/step - loss: 0.2526 - accuracy: 0.9005 - val_loss: 0.2511 - val_accuracy: 0.9008 - lr: 0.0010\n",
      "Epoch 7/50\n",
      "7506/7506 [==============================] - 4s 477us/step - loss: 0.2519 - accuracy: 0.9008 - val_loss: 0.2497 - val_accuracy: 0.9017 - lr: 0.0010\n",
      "Epoch 8/50\n",
      "7506/7506 [==============================] - 4s 474us/step - loss: 0.2500 - accuracy: 0.9015 - val_loss: 0.2520 - val_accuracy: 0.9015 - lr: 0.0010\n",
      "Epoch 9/50\n",
      "7506/7506 [==============================] - 4s 479us/step - loss: 0.2500 - accuracy: 0.9014 - val_loss: 0.2511 - val_accuracy: 0.9014 - lr: 0.0010\n",
      "Epoch 10/50\n",
      "7506/7506 [==============================] - 4s 475us/step - loss: 0.2490 - accuracy: 0.9023 - val_loss: 0.2539 - val_accuracy: 0.9005 - lr: 0.0010\n",
      "Epoch 11/50\n",
      "7506/7506 [==============================] - 4s 470us/step - loss: 0.2485 - accuracy: 0.9022 - val_loss: 0.2669 - val_accuracy: 0.8919 - lr: 0.0010\n",
      "Epoch 12/50\n",
      "7506/7506 [==============================] - 4s 469us/step - loss: 0.2486 - accuracy: 0.9021 - val_loss: 0.2533 - val_accuracy: 0.9001 - lr: 0.0010\n",
      "Epoch 13/50\n",
      "7506/7506 [==============================] - 4s 470us/step - loss: 0.2481 - accuracy: 0.9028 - val_loss: 0.2478 - val_accuracy: 0.9022 - lr: 0.0010\n",
      "Epoch 14/50\n",
      "7506/7506 [==============================] - 4s 473us/step - loss: 0.2480 - accuracy: 0.9021 - val_loss: 0.2617 - val_accuracy: 0.8962 - lr: 0.0010\n",
      "Epoch 15/50\n",
      "7506/7506 [==============================] - 4s 524us/step - loss: 0.2471 - accuracy: 0.9032 - val_loss: 0.2492 - val_accuracy: 0.9017 - lr: 0.0010\n",
      "Epoch 16/50\n",
      "7506/7506 [==============================] - 4s 534us/step - loss: 0.2471 - accuracy: 0.9030 - val_loss: 0.2470 - val_accuracy: 0.9029 - lr: 0.0010\n",
      "Epoch 17/50\n",
      "7506/7506 [==============================] - 4s 474us/step - loss: 0.2467 - accuracy: 0.9030 - val_loss: 0.2487 - val_accuracy: 0.9021 - lr: 0.0010\n",
      "Epoch 18/50\n",
      "7506/7506 [==============================] - 4s 470us/step - loss: 0.2463 - accuracy: 0.9032 - val_loss: 0.2474 - val_accuracy: 0.9023 - lr: 0.0010\n",
      "Epoch 19/50\n",
      "7506/7506 [==============================] - 4s 471us/step - loss: 0.2467 - accuracy: 0.9028 - val_loss: 0.2473 - val_accuracy: 0.9027 - lr: 0.0010\n",
      "Epoch 20/50\n",
      "7506/7506 [==============================] - 4s 471us/step - loss: 0.2463 - accuracy: 0.9035 - val_loss: 0.2479 - val_accuracy: 0.9021 - lr: 0.0010\n",
      "Epoch 21/50\n",
      "7506/7506 [==============================] - 4s 469us/step - loss: 0.2463 - accuracy: 0.9031 - val_loss: 0.2470 - val_accuracy: 0.9023 - lr: 0.0010\n",
      "Epoch 22/50\n",
      "7506/7506 [==============================] - 4s 469us/step - loss: 0.2455 - accuracy: 0.9032 - val_loss: 0.2477 - val_accuracy: 0.9028 - lr: 0.0010\n",
      "Epoch 23/50\n",
      "7506/7506 [==============================] - 4s 471us/step - loss: 0.2455 - accuracy: 0.9037 - val_loss: 0.2571 - val_accuracy: 0.8976 - lr: 0.0010\n",
      "Epoch 24/50\n",
      "7506/7506 [==============================] - 4s 481us/step - loss: 0.2458 - accuracy: 0.9033 - val_loss: 0.2468 - val_accuracy: 0.9027 - lr: 0.0010\n",
      "Epoch 25/50\n",
      "7506/7506 [==============================] - 4s 469us/step - loss: 0.2458 - accuracy: 0.9033 - val_loss: 0.2527 - val_accuracy: 0.9003 - lr: 0.0010\n",
      "Epoch 26/50\n",
      "7506/7506 [==============================] - 4s 480us/step - loss: 0.2451 - accuracy: 0.9035 - val_loss: 0.2533 - val_accuracy: 0.8996 - lr: 0.0010\n",
      "Epoch 27/50\n",
      "7506/7506 [==============================] - 4s 468us/step - loss: 0.2412 - accuracy: 0.9048 - val_loss: 0.2456 - val_accuracy: 0.9033 - lr: 1.0000e-04\n",
      "Epoch 28/50\n",
      "7506/7506 [==============================] - 4s 467us/step - loss: 0.2410 - accuracy: 0.9049 - val_loss: 0.2466 - val_accuracy: 0.9028 - lr: 1.0000e-04\n",
      "Epoch 29/50\n",
      "7506/7506 [==============================] - 4s 470us/step - loss: 0.2410 - accuracy: 0.9052 - val_loss: 0.2457 - val_accuracy: 0.9031 - lr: 1.0000e-04\n",
      "Epoch 30/50\n",
      "7506/7506 [==============================] - 4s 492us/step - loss: 0.2409 - accuracy: 0.9051 - val_loss: 0.2457 - val_accuracy: 0.9030 - lr: 1.0000e-04\n",
      "Epoch 31/50\n",
      "7506/7506 [==============================] - 5s 610us/step - loss: 0.2408 - accuracy: 0.9050 - val_loss: 0.2452 - val_accuracy: 0.9033 - lr: 1.0000e-04\n",
      "Epoch 32/50\n",
      "7506/7506 [==============================] - 5s 624us/step - loss: 0.2409 - accuracy: 0.9050 - val_loss: 0.2455 - val_accuracy: 0.9032 - lr: 1.0000e-04\n",
      "Epoch 33/50\n",
      "7506/7506 [==============================] - 5s 611us/step - loss: 0.2408 - accuracy: 0.9050 - val_loss: 0.2450 - val_accuracy: 0.9034 - lr: 1.0000e-04\n",
      "Epoch 34/50\n",
      "7506/7506 [==============================] - 4s 556us/step - loss: 0.2407 - accuracy: 0.9051 - val_loss: 0.2465 - val_accuracy: 0.9029 - lr: 1.0000e-04\n",
      "Epoch 35/50\n",
      "7506/7506 [==============================] - 4s 541us/step - loss: 0.2407 - accuracy: 0.9052 - val_loss: 0.2458 - val_accuracy: 0.9025 - lr: 1.0000e-04\n",
      "Epoch 36/50\n",
      "7506/7506 [==============================] - 4s 536us/step - loss: 0.2407 - accuracy: 0.9050 - val_loss: 0.2455 - val_accuracy: 0.9030 - lr: 1.0000e-04\n",
      "Epoch 37/50\n",
      "7506/7506 [==============================] - 4s 544us/step - loss: 0.2407 - accuracy: 0.9050 - val_loss: 0.2455 - val_accuracy: 0.9031 - lr: 1.0000e-04\n",
      "Epoch 38/50\n",
      "7506/7506 [==============================] - 4s 526us/step - loss: 0.2407 - accuracy: 0.9051 - val_loss: 0.2453 - val_accuracy: 0.9033 - lr: 1.0000e-04\n",
      "Epoch 39/50\n",
      "7506/7506 [==============================] - 4s 519us/step - loss: 0.2407 - accuracy: 0.9051 - val_loss: 0.2449 - val_accuracy: 0.9033 - lr: 1.0000e-04\n",
      "Epoch 40/50\n",
      "7506/7506 [==============================] - 4s 546us/step - loss: 0.2406 - accuracy: 0.9051 - val_loss: 0.2449 - val_accuracy: 0.9036 - lr: 1.0000e-04\n",
      "Epoch 41/50\n",
      "7506/7506 [==============================] - 4s 583us/step - loss: 0.2405 - accuracy: 0.9052 - val_loss: 0.2449 - val_accuracy: 0.9032 - lr: 1.0000e-04\n",
      "Epoch 42/50\n",
      "7506/7506 [==============================] - 4s 497us/step - loss: 0.2400 - accuracy: 0.9053 - val_loss: 0.2450 - val_accuracy: 0.9029 - lr: 1.0000e-05\n",
      "Epoch 43/50\n",
      "7506/7506 [==============================] - 4s 483us/step - loss: 0.2399 - accuracy: 0.9052 - val_loss: 0.2446 - val_accuracy: 0.9035 - lr: 1.0000e-05\n",
      "Epoch 44/50\n",
      "7506/7506 [==============================] - 4s 518us/step - loss: 0.2399 - accuracy: 0.9053 - val_loss: 0.2447 - val_accuracy: 0.9033 - lr: 1.0000e-05\n",
      "Epoch 45/50\n",
      "7506/7506 [==============================] - 4s 501us/step - loss: 0.2399 - accuracy: 0.9054 - val_loss: 0.2447 - val_accuracy: 0.9036 - lr: 1.0000e-05\n",
      "Epoch 46/50\n",
      "7506/7506 [==============================] - 4s 486us/step - loss: 0.2399 - accuracy: 0.9053 - val_loss: 0.2447 - val_accuracy: 0.9035 - lr: 1.0000e-05\n",
      "Epoch 47/50\n",
      "7506/7506 [==============================] - 4s 512us/step - loss: 0.2399 - accuracy: 0.9052 - val_loss: 0.2446 - val_accuracy: 0.9036 - lr: 1.0000e-05\n",
      "Epoch 48/50\n",
      "7506/7506 [==============================] - 4s 496us/step - loss: 0.2399 - accuracy: 0.9053 - val_loss: 0.2446 - val_accuracy: 0.9035 - lr: 1.0000e-05\n",
      "Epoch 49/50\n",
      "7506/7506 [==============================] - 4s 522us/step - loss: 0.2399 - accuracy: 0.9052 - val_loss: 0.2447 - val_accuracy: 0.9034 - lr: 1.0000e-05\n",
      "Epoch 50/50\n",
      "7506/7506 [==============================] - 4s 472us/step - loss: 0.2399 - accuracy: 0.9052 - val_loss: 0.2446 - val_accuracy: 0.9036 - lr: 1.0000e-05\n"
     ]
    }
   ],
   "source": [
    "model = Sequential([\n",
    "    Dense(128, activation='relu', input_shape=(X_train.shape[1],)),\n",
    "    Dense(32, activation='relu'),\n",
    "    Dense(1, activation='sigmoid')  # or 'softmax' for multi-class classification\n",
    "])\n",
    "\n",
    "model.compile(optimizer='adam', loss='binary_crossentropy', metrics=['accuracy'])\n",
    "lr_scheduler = LearningRateScheduler(step_decay)\n",
    "\n",
    "history = model.fit(\n",
    "    X_train, \n",
    "    y_train, \n",
    "    epochs=50, \n",
    "    batch_size=32, \n",
    "    validation_data=[X_validation, y_validation],\n",
    "    callbacks=[lr_scheduler]\n",
    ")"
   ]
  },
  {
   "cell_type": "code",
   "execution_count": 48,
   "metadata": {},
   "outputs": [
    {
     "name": "stdout",
     "output_type": "stream",
     "text": [
      "1609/1609 [==============================] - 0s 216us/step\n",
      "Accuracy: 0.902599673583586\n",
      "F1 Score: 0.8991611852030655\n",
      "AUC Score: 0.9573190251783997\n"
     ]
    }
   ],
   "source": [
    "calculate_model_metrics(model, X_test, y_test)"
   ]
  },
  {
   "cell_type": "markdown",
   "metadata": {},
   "source": [
    "## Model run feature set 1 & 2 -- weather | Small"
   ]
  },
  {
   "cell_type": "code",
   "execution_count": 49,
   "metadata": {},
   "outputs": [],
   "source": [
    "file_name = 'flight_data_weather.csv'\n",
    "file_path = f\"../data/{file_name}\"\n",
    "df_weather = pd.read_csv(file_path)\n",
    "\n",
    "df_weather['CRSDepTime'] = df_weather.apply(lambda x: calculate_crs_deptime(x['DepTime'], x['DepDelay']), axis=1)"
   ]
  },
  {
   "cell_type": "code",
   "execution_count": 50,
   "metadata": {},
   "outputs": [],
   "source": [
    "features = ['Year', 'Quarter', 'Month', 'DayofMonth', 'DayOfWeek', \n",
    "'Dest', 'Origin', 'Distance', 'Carrier',\n",
    "'Full-time', 'Part-time', 'Grand Total', 'CRSDepTime', 'CRSArrTime', 'CRSElapsedTime',\n",
    "'Origin_Windspeed', 'Origin_Precip', 'Dest_Windspeed', 'Dest_Precip', 'dest_ianaTimeZone',\n",
    "'origin_ianaTimeZone', 'Aircraft_Daily_Flight_Count', \n",
    "'DepDelay', 'DepTime', 'TaxiOut', 'WheelsOff', 'ArrDel15']"
   ]
  },
  {
   "cell_type": "code",
   "execution_count": 51,
   "metadata": {},
   "outputs": [],
   "source": [
    "flight_df = df_weather[features]\n",
    "flight_df = flight_df.dropna()\n",
    "\n",
    "X = flight_df.drop('ArrDel15', axis=1)\n",
    "y = flight_df['ArrDel15']"
   ]
  },
  {
   "cell_type": "code",
   "execution_count": 52,
   "metadata": {},
   "outputs": [],
   "source": [
    "# Encoding categorical variables\n",
    "X = binary_encode(X, ['origin_ianaTimeZone', 'dest_ianaTimeZone', 'Dest', 'Origin'])\n",
    "X = pd.get_dummies(X, columns=['Carrier'])\n",
    "\n",
    "X_train, X_temp, y_train, y_temp = train_test_split(X, y, test_size=0.3, random_state=42)\n",
    "X_validation, X_test, y_validation, y_test = train_test_split(X_temp, y_temp, test_size=0.5, random_state=42)"
   ]
  },
  {
   "cell_type": "code",
   "execution_count": 53,
   "metadata": {},
   "outputs": [
    {
     "name": "stdout",
     "output_type": "stream",
     "text": [
      "(240184, 68)\n"
     ]
    }
   ],
   "source": [
    "# Transform with StandardScaler\n",
    "standard_columns = ['Distance', 'Full-time', 'Part-time', 'Grand Total', 'Origin_Windspeed', 'Origin_Precip', 'Dest_Windspeed', 'Dest_Precip', 'Aircraft_Daily_Flight_Count']\n",
    "X_train, X_validation, X_test, _ = scale_columns_by_standard_scaler(X_train, X_validation, X_test, None, standard_columns)\n",
    "\n",
    "# Transform with CyclicalFeatures\n",
    "time_columns =['Quarter', 'Month', 'DayofMonth', 'DayOfWeek'] \n",
    "X_train, X_validation, X_test, _ = scale_columns_by_cyclical_scaler(X_train, X_validation, X_test, None, time_columns)\n",
    "\n",
    "print(X_train.shape)"
   ]
  },
  {
   "cell_type": "code",
   "execution_count": 54,
   "metadata": {},
   "outputs": [
    {
     "name": "stdout",
     "output_type": "stream",
     "text": [
      "Epoch 1/50\n",
      "7506/7506 [==============================] - 4s 538us/step - loss: 0.7516 - accuracy: 0.8502 - val_loss: 0.3306 - val_accuracy: 0.8754 - lr: 0.0010\n",
      "Epoch 2/50\n",
      "7506/7506 [==============================] - 4s 551us/step - loss: 0.3216 - accuracy: 0.8805 - val_loss: 0.3037 - val_accuracy: 0.8843 - lr: 0.0010\n",
      "Epoch 3/50\n",
      "7506/7506 [==============================] - 4s 544us/step - loss: 0.2663 - accuracy: 0.8953 - val_loss: 0.2764 - val_accuracy: 0.8909 - lr: 0.0010\n",
      "Epoch 4/50\n",
      "7506/7506 [==============================] - 4s 530us/step - loss: 0.2566 - accuracy: 0.8989 - val_loss: 0.2532 - val_accuracy: 0.8988 - lr: 0.0010\n",
      "Epoch 5/50\n",
      "7506/7506 [==============================] - 4s 583us/step - loss: 0.2537 - accuracy: 0.8995 - val_loss: 0.2567 - val_accuracy: 0.8970 - lr: 0.0010\n",
      "Epoch 6/50\n",
      "7506/7506 [==============================] - 4s 555us/step - loss: 0.2515 - accuracy: 0.9009 - val_loss: 0.2567 - val_accuracy: 0.8998 - lr: 0.0010\n",
      "Epoch 7/50\n",
      "7506/7506 [==============================] - 4s 478us/step - loss: 0.2495 - accuracy: 0.9016 - val_loss: 0.2607 - val_accuracy: 0.8998 - lr: 0.0010\n",
      "Epoch 8/50\n",
      "7506/7506 [==============================] - 4s 562us/step - loss: 0.2486 - accuracy: 0.9022 - val_loss: 0.2481 - val_accuracy: 0.9015 - lr: 0.0010\n",
      "Epoch 9/50\n",
      "7506/7506 [==============================] - 4s 509us/step - loss: 0.2473 - accuracy: 0.9022 - val_loss: 0.2539 - val_accuracy: 0.8995 - lr: 0.0010\n",
      "Epoch 10/50\n",
      "7506/7506 [==============================] - 4s 477us/step - loss: 0.2469 - accuracy: 0.9026 - val_loss: 0.2567 - val_accuracy: 0.9002 - lr: 0.0010\n",
      "Epoch 11/50\n",
      "7506/7506 [==============================] - 4s 470us/step - loss: 0.2460 - accuracy: 0.9031 - val_loss: 0.2510 - val_accuracy: 0.9007 - lr: 0.0010\n",
      "Epoch 12/50\n",
      "7506/7506 [==============================] - 4s 472us/step - loss: 0.2453 - accuracy: 0.9034 - val_loss: 0.2446 - val_accuracy: 0.9028 - lr: 0.0010\n",
      "Epoch 13/50\n",
      "7506/7506 [==============================] - 4s 495us/step - loss: 0.2454 - accuracy: 0.9030 - val_loss: 0.2438 - val_accuracy: 0.9025 - lr: 0.0010\n",
      "Epoch 14/50\n",
      "7506/7506 [==============================] - 4s 472us/step - loss: 0.2445 - accuracy: 0.9033 - val_loss: 0.2433 - val_accuracy: 0.9028 - lr: 0.0010\n",
      "Epoch 15/50\n",
      "7506/7506 [==============================] - 4s 467us/step - loss: 0.2444 - accuracy: 0.9036 - val_loss: 0.2483 - val_accuracy: 0.9017 - lr: 0.0010\n",
      "Epoch 16/50\n",
      "7506/7506 [==============================] - 4s 477us/step - loss: 0.2438 - accuracy: 0.9037 - val_loss: 0.2428 - val_accuracy: 0.9036 - lr: 0.0010\n",
      "Epoch 17/50\n",
      "7506/7506 [==============================] - 4s 482us/step - loss: 0.2436 - accuracy: 0.9034 - val_loss: 0.2430 - val_accuracy: 0.9032 - lr: 0.0010\n",
      "Epoch 18/50\n",
      "7506/7506 [==============================] - 4s 478us/step - loss: 0.2435 - accuracy: 0.9040 - val_loss: 0.2507 - val_accuracy: 0.8998 - lr: 0.0010\n",
      "Epoch 19/50\n",
      "7506/7506 [==============================] - 4s 478us/step - loss: 0.2428 - accuracy: 0.9041 - val_loss: 0.2424 - val_accuracy: 0.9034 - lr: 0.0010\n",
      "Epoch 20/50\n",
      "7506/7506 [==============================] - 4s 475us/step - loss: 0.2432 - accuracy: 0.9041 - val_loss: 0.2463 - val_accuracy: 0.9026 - lr: 0.0010\n",
      "Epoch 21/50\n",
      "7506/7506 [==============================] - 4s 479us/step - loss: 0.2426 - accuracy: 0.9044 - val_loss: 0.2429 - val_accuracy: 0.9038 - lr: 0.0010\n",
      "Epoch 22/50\n",
      "7506/7506 [==============================] - 4s 474us/step - loss: 0.2425 - accuracy: 0.9042 - val_loss: 0.2430 - val_accuracy: 0.9031 - lr: 0.0010\n",
      "Epoch 23/50\n",
      "7506/7506 [==============================] - 4s 472us/step - loss: 0.2422 - accuracy: 0.9041 - val_loss: 0.2479 - val_accuracy: 0.9016 - lr: 0.0010\n",
      "Epoch 24/50\n",
      "7506/7506 [==============================] - 4s 467us/step - loss: 0.2421 - accuracy: 0.9042 - val_loss: 0.2422 - val_accuracy: 0.9038 - lr: 0.0010\n",
      "Epoch 25/50\n",
      "7506/7506 [==============================] - 4s 512us/step - loss: 0.2424 - accuracy: 0.9040 - val_loss: 0.2649 - val_accuracy: 0.8954 - lr: 0.0010\n",
      "Epoch 26/50\n",
      "7506/7506 [==============================] - 4s 498us/step - loss: 0.2418 - accuracy: 0.9045 - val_loss: 0.2445 - val_accuracy: 0.9025 - lr: 0.0010\n",
      "Epoch 27/50\n",
      "7506/7506 [==============================] - 4s 470us/step - loss: 0.2372 - accuracy: 0.9063 - val_loss: 0.2410 - val_accuracy: 0.9045 - lr: 1.0000e-04\n",
      "Epoch 28/50\n",
      "7506/7506 [==============================] - 4s 473us/step - loss: 0.2369 - accuracy: 0.9062 - val_loss: 0.2413 - val_accuracy: 0.9042 - lr: 1.0000e-04\n",
      "Epoch 29/50\n",
      "7506/7506 [==============================] - 4s 469us/step - loss: 0.2369 - accuracy: 0.9062 - val_loss: 0.2423 - val_accuracy: 0.9038 - lr: 1.0000e-04\n",
      "Epoch 30/50\n",
      "7506/7506 [==============================] - 4s 469us/step - loss: 0.2369 - accuracy: 0.9064 - val_loss: 0.2410 - val_accuracy: 0.9043 - lr: 1.0000e-04\n",
      "Epoch 31/50\n",
      "7506/7506 [==============================] - 4s 485us/step - loss: 0.2368 - accuracy: 0.9064 - val_loss: 0.2411 - val_accuracy: 0.9040 - lr: 1.0000e-04\n",
      "Epoch 32/50\n",
      "7506/7506 [==============================] - 4s 510us/step - loss: 0.2367 - accuracy: 0.9062 - val_loss: 0.2418 - val_accuracy: 0.9042 - lr: 1.0000e-04\n",
      "Epoch 33/50\n",
      "7506/7506 [==============================] - 4s 532us/step - loss: 0.2367 - accuracy: 0.9064 - val_loss: 0.2436 - val_accuracy: 0.9027 - lr: 1.0000e-04\n",
      "Epoch 34/50\n",
      "7506/7506 [==============================] - 4s 520us/step - loss: 0.2367 - accuracy: 0.9063 - val_loss: 0.2412 - val_accuracy: 0.9043 - lr: 1.0000e-04\n",
      "Epoch 35/50\n",
      "7506/7506 [==============================] - 4s 500us/step - loss: 0.2366 - accuracy: 0.9063 - val_loss: 0.2406 - val_accuracy: 0.9043 - lr: 1.0000e-04\n",
      "Epoch 36/50\n",
      "7506/7506 [==============================] - 4s 540us/step - loss: 0.2366 - accuracy: 0.9065 - val_loss: 0.2414 - val_accuracy: 0.9040 - lr: 1.0000e-04\n",
      "Epoch 37/50\n",
      "7506/7506 [==============================] - 4s 557us/step - loss: 0.2365 - accuracy: 0.9064 - val_loss: 0.2419 - val_accuracy: 0.9041 - lr: 1.0000e-04\n",
      "Epoch 38/50\n",
      "7506/7506 [==============================] - 4s 534us/step - loss: 0.2365 - accuracy: 0.9064 - val_loss: 0.2422 - val_accuracy: 0.9041 - lr: 1.0000e-04\n",
      "Epoch 39/50\n",
      "7506/7506 [==============================] - 4s 493us/step - loss: 0.2365 - accuracy: 0.9064 - val_loss: 0.2438 - val_accuracy: 0.9036 - lr: 1.0000e-04\n",
      "Epoch 40/50\n",
      "7506/7506 [==============================] - 4s 515us/step - loss: 0.2364 - accuracy: 0.9064 - val_loss: 0.2406 - val_accuracy: 0.9048 - lr: 1.0000e-04\n",
      "Epoch 41/50\n",
      "7506/7506 [==============================] - 4s 502us/step - loss: 0.2364 - accuracy: 0.9064 - val_loss: 0.2419 - val_accuracy: 0.9038 - lr: 1.0000e-04\n",
      "Epoch 42/50\n",
      "7506/7506 [==============================] - 4s 523us/step - loss: 0.2358 - accuracy: 0.9067 - val_loss: 0.2404 - val_accuracy: 0.9045 - lr: 1.0000e-05\n",
      "Epoch 43/50\n",
      "7506/7506 [==============================] - 4s 524us/step - loss: 0.2358 - accuracy: 0.9068 - val_loss: 0.2403 - val_accuracy: 0.9048 - lr: 1.0000e-05\n",
      "Epoch 44/50\n",
      "7506/7506 [==============================] - 4s 545us/step - loss: 0.2358 - accuracy: 0.9067 - val_loss: 0.2405 - val_accuracy: 0.9046 - lr: 1.0000e-05\n",
      "Epoch 45/50\n",
      "7506/7506 [==============================] - 4s 534us/step - loss: 0.2357 - accuracy: 0.9068 - val_loss: 0.2404 - val_accuracy: 0.9046 - lr: 1.0000e-05\n",
      "Epoch 46/50\n",
      "7506/7506 [==============================] - 5s 600us/step - loss: 0.2357 - accuracy: 0.9069 - val_loss: 0.2405 - val_accuracy: 0.9047 - lr: 1.0000e-05\n",
      "Epoch 47/50\n",
      "7506/7506 [==============================] - 4s 592us/step - loss: 0.2357 - accuracy: 0.9068 - val_loss: 0.2405 - val_accuracy: 0.9045 - lr: 1.0000e-05\n",
      "Epoch 48/50\n",
      "7506/7506 [==============================] - 4s 569us/step - loss: 0.2357 - accuracy: 0.9068 - val_loss: 0.2405 - val_accuracy: 0.9043 - lr: 1.0000e-05\n",
      "Epoch 49/50\n",
      "7506/7506 [==============================] - 4s 537us/step - loss: 0.2357 - accuracy: 0.9068 - val_loss: 0.2404 - val_accuracy: 0.9044 - lr: 1.0000e-05\n",
      "Epoch 50/50\n",
      "7506/7506 [==============================] - 4s 482us/step - loss: 0.2357 - accuracy: 0.9067 - val_loss: 0.2406 - val_accuracy: 0.9042 - lr: 1.0000e-05\n"
     ]
    }
   ],
   "source": [
    "model = Sequential([\n",
    "    Dense(128, activation='relu', input_shape=(X_train.shape[1],)),\n",
    "    Dense(32, activation='relu'),\n",
    "    Dense(1, activation='sigmoid')  # or 'softmax' for multi-class classification\n",
    "])\n",
    "\n",
    "model.compile(optimizer='adam', loss='binary_crossentropy', metrics=['accuracy'])\n",
    "lr_scheduler = LearningRateScheduler(step_decay)\n",
    "\n",
    "history = model.fit(\n",
    "    X_train, \n",
    "    y_train, \n",
    "    epochs=50, \n",
    "    batch_size=32, \n",
    "    validation_data=[X_validation, y_validation],\n",
    "    callbacks=[lr_scheduler]\n",
    ")"
   ]
  },
  {
   "cell_type": "code",
   "execution_count": 55,
   "metadata": {},
   "outputs": [
    {
     "name": "stdout",
     "output_type": "stream",
     "text": [
      "1609/1609 [==============================] - 0s 223us/step\n",
      "Accuracy: 0.903396285070335\n",
      "F1 Score: 0.9000361896336805\n",
      "AUC Score: 0.9591282072843723\n"
     ]
    }
   ],
   "source": [
    "calculate_model_metrics(model, X_test, y_test)"
   ]
  },
  {
   "cell_type": "code",
   "execution_count": null,
   "metadata": {},
   "outputs": [],
   "source": []
  }
 ],
 "metadata": {
  "kernelspec": {
   "display_name": "Python 3 (ipykernel)",
   "language": "python",
   "name": "python3"
  },
  "language_info": {
   "codemirror_mode": {
    "name": "ipython",
    "version": 3
   },
   "file_extension": ".py",
   "mimetype": "text/x-python",
   "name": "python",
   "nbconvert_exporter": "python",
   "pygments_lexer": "ipython3",
   "version": "3.11.4"
  }
 },
 "nbformat": 4,
 "nbformat_minor": 2
}
