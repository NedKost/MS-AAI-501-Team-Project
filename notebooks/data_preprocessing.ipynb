{
 "cells": [
  {
   "cell_type": "markdown",
   "metadata": {},
   "source": [
    "## Preprocess Flight Delay Data\n",
    "This only needs to be run once. It requires downloading all of the datasets from the Bureau of Transportation. To recreate, follow steps: \n",
    "- visit the [Bureau of Transportation](https://www.transtats.bts.gov/databases.asp?Z1qr_VQ=E&Z1qr_Qr5p=N8vn6v10&f7owrp6_VQF=D)\n",
    "- select Airline Performance Data\n",
    "- select download for Reporting Carrier On-Time Performance (1987-Present)\n",
    "- select relevant features from GUI. See relevant_columns below\n",
    "- download and unzip all files into Downloads folder (see src_filepath). This is set of 36 files. all 12 months per year for 2020, 2021, 2022"
   ]
  },
  {
   "cell_type": "markdown",
   "metadata": {},
   "source": [
    "### Preprocess data steps\n",
    "1. Trim data, keeping only relevant columns\n",
    "2. Balance Data, keeping 10k samples from each month and class (Delayed, Not Delayed)\n",
    "3. Join years and months and save to single csv file flight_data.csv\n",
    "\n",
    "> |Total row count is 713,664. Slightly under 720k, as some months didn't have 10k samples for each class."
   ]
  },
  {
   "cell_type": "code",
   "execution_count": null,
   "metadata": {},
   "outputs": [],
   "source": [
    "import pandas as pd\n",
    "\n",
    "\n",
    "YEARS= [\"2020\", \"2021\", \"2022\"]\n",
    "MONTHS =[ \"1\", \"2\", \"3\", \"4\", \"5\", \"6\", \"7\", \"8\", \"9\", \"10\", \"11\", \"12\"]\n",
    "src_filepath = \"~/Downloads/\"\n",
    "dest_filepath = \"../data/\"\n",
    "\n",
    "RECORDS_TO_KEEP_FROM_EACH_DATASET = 5000"
   ]
  },
  {
   "cell_type": "code",
   "execution_count": null,
   "metadata": {},
   "outputs": [],
   "source": [
    "filename = \"flight_data.csv\"\n",
    "flight_df = df = pd.read_csv(f\"{src_filepath}/{filename}\")"
   ]
  },
  {
   "cell_type": "code",
   "execution_count": null,
   "metadata": {},
   "outputs": [],
   "source": [
    "flight_df.columns"
   ]
  },
  {
   "cell_type": "markdown",
   "metadata": {},
   "source": [
    "## Drop rows that are marked as diverted or cancelled"
   ]
  },
  {
   "cell_type": "code",
   "execution_count": null,
   "metadata": {},
   "outputs": [],
   "source": [
    "flight_df = flight_df[flight_df.Cancelled == 0]\n",
    "flight_df = flight_df[flight_df.Diverted == 0]\n"
   ]
  },
  {
   "cell_type": "code",
   "execution_count": null,
   "metadata": {},
   "outputs": [],
   "source": [
    "# Drop columns that are not needed\n",
    "flight_df = flight_df.drop(['Cancelled', 'Diverted', 'CarrierDelay', 'WeatherDelay',\n",
    "       'NASDelay', 'SecurityDelay', 'LateAircraftDelay'], axis=1)"
   ]
  },
  {
   "cell_type": "markdown",
   "metadata": {},
   "source": [
    "## For 36 months, grab 10k records from each month. (5k delayed, and 5k not delayed)"
   ]
  },
  {
   "cell_type": "code",
   "execution_count": null,
   "metadata": {},
   "outputs": [],
   "source": [
    "def preprocess_data(df: pd.DataFrame) -> pd.DataFrame:\n",
    "    # Find delayed flights, indicated by ArrDel15 == 1\n",
    "    df_delayed = df[df[\"ArrDel15\"] == 1]\n",
    "    # Only calculating keep amount for delayed class, as its smaller\n",
    "    keep_amount = min(len(df_delayed), RECORDS_TO_KEEP_FROM_EACH_DATASET)\n",
    "    print(f\"there are {len(df_delayed)} flight records that were delayed. randomly sampling {keep_amount}\")\n",
    "    df_delayed_sample = df_delayed.sample(n=keep_amount, random_state=1)\n",
    "\n",
    "    df_not_delayed = df[df[\"ArrDel15\"] == 0] \n",
    "    print(f\"there are {len(df_not_delayed)} flight records that weren't delayed, sampling {keep_amount} of them\")\n",
    "\n",
    "    df_non_delayed_sample = df_not_delayed.sample(n=keep_amount, random_state=1)\n",
    "\n",
    "    return pd.concat([df_delayed_sample, df_non_delayed_sample])\n"
   ]
  },
  {
   "cell_type": "code",
   "execution_count": null,
   "metadata": {},
   "outputs": [],
   "source": [
    "preprocessed_data = []\n",
    "for year in YEARS:\n",
    "    for month in MONTHS:\n",
    "        print(f\"processing year:{year} and month:{month}\")\n",
    "        preprocessed_data.append(preprocess_data(flight_df[(flight_df[\"Year\"] == int(year)) & (flight_df[\"Month\"] == int(month))]))\n",
    "    \n",
    "all_flights_df = pd.concat(preprocessed_data)"
   ]
  },
  {
   "cell_type": "code",
   "execution_count": null,
   "metadata": {},
   "outputs": [],
   "source": [
    "all_flights_df.describe()"
   ]
  },
  {
   "cell_type": "code",
   "execution_count": null,
   "metadata": {},
   "outputs": [],
   "source": [
    "all_flights_df.info()"
   ]
  },
  {
   "cell_type": "code",
   "execution_count": null,
   "metadata": {},
   "outputs": [],
   "source": [
    "output_file = \"flight_data.csv\"\n",
    "print(f\"writing to {output_file}\")\n",
    "all_flights_df.to_csv(dest_filepath + output_file, index=False)"
   ]
  },
  {
   "cell_type": "code",
   "execution_count": null,
   "metadata": {},
   "outputs": [],
   "source": []
  }
 ],
 "metadata": {
  "kernelspec": {
   "display_name": "Python 3 (ipykernel)",
   "language": "python",
   "name": "python3"
  },
  "language_info": {
   "codemirror_mode": {
    "name": "ipython",
    "version": 3
   },
   "file_extension": ".py",
   "mimetype": "text/x-python",
   "name": "python",
   "nbconvert_exporter": "python",
   "pygments_lexer": "ipython3",
   "version": "3.11.4"
  }
 },
 "nbformat": 4,
 "nbformat_minor": 2
}
