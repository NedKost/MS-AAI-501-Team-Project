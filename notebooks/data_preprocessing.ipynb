{
 "cells": [
  {
   "cell_type": "markdown",
   "metadata": {},
   "source": [
    "## Preprocess Flight Delay Data\n",
    "This only needs to be run once. It requires downloading all of the datasets from the Bureau of Transportation. To recreate, follow steps: \n",
    "- visit the [Bureau of Transportation](https://www.transtats.bts.gov/databases.asp?Z1qr_VQ=E&Z1qr_Qr5p=N8vn6v10&f7owrp6_VQF=D)\n",
    "- select Airline Performance Data\n",
    "- select download for Reporting Carrier On-Time Performance (1987-Present)\n",
    "- select relevant features from GUI. See relevant_columns below"
   ]
  },
  {
   "cell_type": "markdown",
   "metadata": {},
   "source": [
    "### Preprocess data steps\n",
    "1. Trim data, keeping only relevant columns\n",
    "2. Balance Data, keeping 10k samples from each month and class (Delayed, Not Delayed)\n",
    "3. Join years and months and save to single csv file flight_data.csv\n",
    "\n",
    "> |Total row count is 713,664. Slightly under 720k, as some months didn't have 10k samples for each class."
   ]
  },
  {
   "cell_type": "code",
   "execution_count": 26,
   "metadata": {},
   "outputs": [],
   "source": [
    "import pandas as pd\n",
    "\n",
    "\n",
    "YEARS= [\"2020\", \"2021\", \"2022\"]\n",
    "MONTHS =[ \"1\", \"2\", \"3\", \"4\", \"5\", \"6\", \"7\", \"8\", \"9\", \"10\", \"11\", \"12\"]\n",
    "base_filename = \"On_Time_Reporting_Carrier_On_Time_Performance_(1987_present)_\"\n",
    "base_file_folder = \"On_Time_Reporting_Carrier_On_Time_Performance_1987_present_\"\n",
    "src_filepath = \"~/Downloads/\"\n",
    "dest_filepath = \"../data/\"\n",
    "\n",
    "RECORDS_TO_KEEP_FROM_EACH_DATASET = 10000"
   ]
  },
  {
   "cell_type": "code",
   "execution_count": 3,
   "metadata": {},
   "outputs": [],
   "source": [
    "data_files = []\n",
    "for year in YEARS:\n",
    "    for month in MONTHS:\n",
    "        filename = base_filename + year + \"_\" + month + \".csv\"\n",
    "        folder = base_file_folder + year + \"_\" + month\n",
    "        data_files.append(src_filepath + folder + \"/\" + filename)"
   ]
  },
  {
   "cell_type": "code",
   "execution_count": 4,
   "metadata": {},
   "outputs": [
    {
     "name": "stdout",
     "output_type": "stream",
     "text": [
      "['~/Downloads/On_Time_Reporting_Carrier_On_Time_Performance_1987_present_2020_1/On_Time_Reporting_Carrier_On_Time_Performance_(1987_present)_2020_1.csv', '~/Downloads/On_Time_Reporting_Carrier_On_Time_Performance_1987_present_2020_2/On_Time_Reporting_Carrier_On_Time_Performance_(1987_present)_2020_2.csv', '~/Downloads/On_Time_Reporting_Carrier_On_Time_Performance_1987_present_2020_3/On_Time_Reporting_Carrier_On_Time_Performance_(1987_present)_2020_3.csv', '~/Downloads/On_Time_Reporting_Carrier_On_Time_Performance_1987_present_2020_4/On_Time_Reporting_Carrier_On_Time_Performance_(1987_present)_2020_4.csv', '~/Downloads/On_Time_Reporting_Carrier_On_Time_Performance_1987_present_2020_5/On_Time_Reporting_Carrier_On_Time_Performance_(1987_present)_2020_5.csv', '~/Downloads/On_Time_Reporting_Carrier_On_Time_Performance_1987_present_2020_6/On_Time_Reporting_Carrier_On_Time_Performance_(1987_present)_2020_6.csv', '~/Downloads/On_Time_Reporting_Carrier_On_Time_Performance_1987_present_2020_7/On_Time_Reporting_Carrier_On_Time_Performance_(1987_present)_2020_7.csv', '~/Downloads/On_Time_Reporting_Carrier_On_Time_Performance_1987_present_2020_8/On_Time_Reporting_Carrier_On_Time_Performance_(1987_present)_2020_8.csv', '~/Downloads/On_Time_Reporting_Carrier_On_Time_Performance_1987_present_2020_9/On_Time_Reporting_Carrier_On_Time_Performance_(1987_present)_2020_9.csv', '~/Downloads/On_Time_Reporting_Carrier_On_Time_Performance_1987_present_2020_10/On_Time_Reporting_Carrier_On_Time_Performance_(1987_present)_2020_10.csv', '~/Downloads/On_Time_Reporting_Carrier_On_Time_Performance_1987_present_2020_11/On_Time_Reporting_Carrier_On_Time_Performance_(1987_present)_2020_11.csv', '~/Downloads/On_Time_Reporting_Carrier_On_Time_Performance_1987_present_2020_12/On_Time_Reporting_Carrier_On_Time_Performance_(1987_present)_2020_12.csv', '~/Downloads/On_Time_Reporting_Carrier_On_Time_Performance_1987_present_2021_1/On_Time_Reporting_Carrier_On_Time_Performance_(1987_present)_2021_1.csv', '~/Downloads/On_Time_Reporting_Carrier_On_Time_Performance_1987_present_2021_2/On_Time_Reporting_Carrier_On_Time_Performance_(1987_present)_2021_2.csv', '~/Downloads/On_Time_Reporting_Carrier_On_Time_Performance_1987_present_2021_3/On_Time_Reporting_Carrier_On_Time_Performance_(1987_present)_2021_3.csv', '~/Downloads/On_Time_Reporting_Carrier_On_Time_Performance_1987_present_2021_4/On_Time_Reporting_Carrier_On_Time_Performance_(1987_present)_2021_4.csv', '~/Downloads/On_Time_Reporting_Carrier_On_Time_Performance_1987_present_2021_5/On_Time_Reporting_Carrier_On_Time_Performance_(1987_present)_2021_5.csv', '~/Downloads/On_Time_Reporting_Carrier_On_Time_Performance_1987_present_2021_6/On_Time_Reporting_Carrier_On_Time_Performance_(1987_present)_2021_6.csv', '~/Downloads/On_Time_Reporting_Carrier_On_Time_Performance_1987_present_2021_7/On_Time_Reporting_Carrier_On_Time_Performance_(1987_present)_2021_7.csv', '~/Downloads/On_Time_Reporting_Carrier_On_Time_Performance_1987_present_2021_8/On_Time_Reporting_Carrier_On_Time_Performance_(1987_present)_2021_8.csv', '~/Downloads/On_Time_Reporting_Carrier_On_Time_Performance_1987_present_2021_9/On_Time_Reporting_Carrier_On_Time_Performance_(1987_present)_2021_9.csv', '~/Downloads/On_Time_Reporting_Carrier_On_Time_Performance_1987_present_2021_10/On_Time_Reporting_Carrier_On_Time_Performance_(1987_present)_2021_10.csv', '~/Downloads/On_Time_Reporting_Carrier_On_Time_Performance_1987_present_2021_11/On_Time_Reporting_Carrier_On_Time_Performance_(1987_present)_2021_11.csv', '~/Downloads/On_Time_Reporting_Carrier_On_Time_Performance_1987_present_2021_12/On_Time_Reporting_Carrier_On_Time_Performance_(1987_present)_2021_12.csv', '~/Downloads/On_Time_Reporting_Carrier_On_Time_Performance_1987_present_2022_1/On_Time_Reporting_Carrier_On_Time_Performance_(1987_present)_2022_1.csv', '~/Downloads/On_Time_Reporting_Carrier_On_Time_Performance_1987_present_2022_2/On_Time_Reporting_Carrier_On_Time_Performance_(1987_present)_2022_2.csv', '~/Downloads/On_Time_Reporting_Carrier_On_Time_Performance_1987_present_2022_3/On_Time_Reporting_Carrier_On_Time_Performance_(1987_present)_2022_3.csv', '~/Downloads/On_Time_Reporting_Carrier_On_Time_Performance_1987_present_2022_4/On_Time_Reporting_Carrier_On_Time_Performance_(1987_present)_2022_4.csv', '~/Downloads/On_Time_Reporting_Carrier_On_Time_Performance_1987_present_2022_5/On_Time_Reporting_Carrier_On_Time_Performance_(1987_present)_2022_5.csv', '~/Downloads/On_Time_Reporting_Carrier_On_Time_Performance_1987_present_2022_6/On_Time_Reporting_Carrier_On_Time_Performance_(1987_present)_2022_6.csv', '~/Downloads/On_Time_Reporting_Carrier_On_Time_Performance_1987_present_2022_7/On_Time_Reporting_Carrier_On_Time_Performance_(1987_present)_2022_7.csv', '~/Downloads/On_Time_Reporting_Carrier_On_Time_Performance_1987_present_2022_8/On_Time_Reporting_Carrier_On_Time_Performance_(1987_present)_2022_8.csv', '~/Downloads/On_Time_Reporting_Carrier_On_Time_Performance_1987_present_2022_9/On_Time_Reporting_Carrier_On_Time_Performance_(1987_present)_2022_9.csv', '~/Downloads/On_Time_Reporting_Carrier_On_Time_Performance_1987_present_2022_10/On_Time_Reporting_Carrier_On_Time_Performance_(1987_present)_2022_10.csv', '~/Downloads/On_Time_Reporting_Carrier_On_Time_Performance_1987_present_2022_11/On_Time_Reporting_Carrier_On_Time_Performance_(1987_present)_2022_11.csv', '~/Downloads/On_Time_Reporting_Carrier_On_Time_Performance_1987_present_2022_12/On_Time_Reporting_Carrier_On_Time_Performance_(1987_present)_2022_12.csv']\n"
     ]
    }
   ],
   "source": [
    "print(data_files)"
   ]
  },
  {
   "cell_type": "code",
   "execution_count": 5,
   "metadata": {},
   "outputs": [
    {
     "name": "stdout",
     "output_type": "stream",
     "text": [
      "26\n"
     ]
    }
   ],
   "source": [
    "relevant_columns = ['Year', 'Quarter', 'Month', 'DayofMonth', 'DayOfWeek', 'FlightDate',\n",
    "       'Reporting_Airline', \"Tail_Number\", \"Origin\", \"Dest\", \"DepTime\", \"DepDelay\",\n",
    "        \"ArrTime\", \"ArrDelay\", \"ArrDel15\", \"Cancelled\", \"CancellationCode\",\n",
    "       \"Diverted\", \"AirTime\", \"Flights\", \"Distance\", \"CarrierDelay\", \"WeatherDelay\",\"NASDelay\", \"SecurityDelay\", \"LateAircraftDelay\"]\n",
    "print(len(relevant_columns))"
   ]
  },
  {
   "cell_type": "code",
   "execution_count": 6,
   "metadata": {},
   "outputs": [],
   "source": [
    "def preprocess_data(df: pd.DataFrame) -> pd.DataFrame:\n",
    "    # Step 1 -- trim\n",
    "    df_trimmed = df[relevant_columns]\n",
    "    # Step 2 -- balance\n",
    "    # Find delayed flights, indicated by ArrDel15 == 1\n",
    "    df_delayed = df_trimmed[df_trimmed[\"ArrDel15\"] == 1]\n",
    "    keep_amount = min(len(df_delayed), RECORDS_TO_KEEP_FROM_EACH_DATASET)\n",
    "    print(f\"there are {len(df_delayed)} flight records that were delayed. randomly sampling {keep_amount}\")\n",
    "    df_delayed_sample = df_delayed.sample(n=keep_amount, random_state=1)\n",
    "\n",
    "    df_not_delayed = df_trimmed[df_trimmed[\"ArrDel15\"] == 0] \n",
    "    print(f\"there are {len(df_not_delayed)} flight records that weren't delayed, sampling {keep_amount} of them\")\n",
    "\n",
    "    df_non_delayed_sample = df_not_delayed.sample(n=keep_amount, random_state=1)\n",
    "\n",
    "    return pd.concat([df_delayed_sample, df_non_delayed_sample])\n"
   ]
  },
  {
   "cell_type": "code",
   "execution_count": 7,
   "metadata": {},
   "outputs": [
    {
     "name": "stderr",
     "output_type": "stream",
     "text": [
      "/var/folders/x5/cgpxmq_11ys090v206spbw7w0000gn/T/ipykernel_48396/749170752.py:3: DtypeWarning: Columns (48,69,76,77,84) have mixed types. Specify dtype option on import or set low_memory=False.\n",
      "  df = pd.read_csv(file)\n"
     ]
    },
    {
     "name": "stdout",
     "output_type": "stream",
     "text": [
      "processing ~/Downloads/On_Time_Reporting_Carrier_On_Time_Performance_1987_present_2020_1/On_Time_Reporting_Carrier_On_Time_Performance_(1987_present)_2020_1.csv\n",
      "there are 82285 flight records that were delayed. randomly sampling 10000\n",
      "there are 516983 flight records that weren't delayed, sampling 10000 of them\n"
     ]
    },
    {
     "name": "stderr",
     "output_type": "stream",
     "text": [
      "/var/folders/x5/cgpxmq_11ys090v206spbw7w0000gn/T/ipykernel_48396/749170752.py:3: DtypeWarning: Columns (48,69,76,77,84) have mixed types. Specify dtype option on import or set low_memory=False.\n",
      "  df = pd.read_csv(file)\n"
     ]
    },
    {
     "name": "stdout",
     "output_type": "stream",
     "text": [
      "processing ~/Downloads/On_Time_Reporting_Carrier_On_Time_Performance_1987_present_2020_2/On_Time_Reporting_Carrier_On_Time_Performance_(1987_present)_2020_2.csv\n",
      "there are 84616 flight records that were delayed. randomly sampling 10000\n",
      "there are 483460 flight records that weren't delayed, sampling 10000 of them\n"
     ]
    },
    {
     "name": "stderr",
     "output_type": "stream",
     "text": [
      "/var/folders/x5/cgpxmq_11ys090v206spbw7w0000gn/T/ipykernel_48396/749170752.py:3: DtypeWarning: Columns (48,69,76,77,84) have mixed types. Specify dtype option on import or set low_memory=False.\n",
      "  df = pd.read_csv(file)\n"
     ]
    },
    {
     "name": "stdout",
     "output_type": "stream",
     "text": [
      "processing ~/Downloads/On_Time_Reporting_Carrier_On_Time_Performance_1987_present_2020_3/On_Time_Reporting_Carrier_On_Time_Performance_(1987_present)_2020_3.csv\n",
      "there are 53720 flight records that were delayed. randomly sampling 10000\n",
      "there are 483524 flight records that weren't delayed, sampling 10000 of them\n"
     ]
    },
    {
     "name": "stderr",
     "output_type": "stream",
     "text": [
      "/var/folders/x5/cgpxmq_11ys090v206spbw7w0000gn/T/ipykernel_48396/749170752.py:3: DtypeWarning: Columns (69,76,77,84) have mixed types. Specify dtype option on import or set low_memory=False.\n",
      "  df = pd.read_csv(file)\n"
     ]
    },
    {
     "name": "stdout",
     "output_type": "stream",
     "text": [
      "processing ~/Downloads/On_Time_Reporting_Carrier_On_Time_Performance_1987_present_2020_4/On_Time_Reporting_Carrier_On_Time_Performance_(1987_present)_2020_4.csv\n",
      "there are 9038 flight records that were delayed. randomly sampling 9038\n",
      "there are 173968 flight records that weren't delayed, sampling 9038 of them\n"
     ]
    },
    {
     "name": "stderr",
     "output_type": "stream",
     "text": [
      "/var/folders/x5/cgpxmq_11ys090v206spbw7w0000gn/T/ipykernel_48396/749170752.py:3: DtypeWarning: Columns (77,84) have mixed types. Specify dtype option on import or set low_memory=False.\n",
      "  df = pd.read_csv(file)\n"
     ]
    },
    {
     "name": "stdout",
     "output_type": "stream",
     "text": [
      "processing ~/Downloads/On_Time_Reporting_Carrier_On_Time_Performance_1987_present_2020_5/On_Time_Reporting_Carrier_On_Time_Performance_(1987_present)_2020_5.csv\n",
      "there are 7794 flight records that were delayed. randomly sampling 7794\n",
      "there are 160853 flight records that weren't delayed, sampling 7794 of them\n"
     ]
    },
    {
     "name": "stderr",
     "output_type": "stream",
     "text": [
      "/var/folders/x5/cgpxmq_11ys090v206spbw7w0000gn/T/ipykernel_48396/749170752.py:3: DtypeWarning: Columns (48) have mixed types. Specify dtype option on import or set low_memory=False.\n",
      "  df = pd.read_csv(file)\n"
     ]
    },
    {
     "name": "stdout",
     "output_type": "stream",
     "text": [
      "processing ~/Downloads/On_Time_Reporting_Carrier_On_Time_Performance_1987_present_2020_6/On_Time_Reporting_Carrier_On_Time_Performance_(1987_present)_2020_6.csv\n",
      "there are 14949 flight records that were delayed. randomly sampling 10000\n",
      "there are 207620 flight records that weren't delayed, sampling 10000 of them\n"
     ]
    },
    {
     "name": "stderr",
     "output_type": "stream",
     "text": [
      "/var/folders/x5/cgpxmq_11ys090v206spbw7w0000gn/T/ipykernel_48396/749170752.py:3: DtypeWarning: Columns (77,84) have mixed types. Specify dtype option on import or set low_memory=False.\n",
      "  df = pd.read_csv(file)\n"
     ]
    },
    {
     "name": "stdout",
     "output_type": "stream",
     "text": [
      "processing ~/Downloads/On_Time_Reporting_Carrier_On_Time_Performance_1987_present_2020_7/On_Time_Reporting_Carrier_On_Time_Performance_(1987_present)_2020_7.csv\n",
      "there are 29913 flight records that were delayed. randomly sampling 10000\n",
      "there are 319343 flight records that weren't delayed, sampling 10000 of them\n"
     ]
    },
    {
     "name": "stderr",
     "output_type": "stream",
     "text": [
      "/var/folders/x5/cgpxmq_11ys090v206spbw7w0000gn/T/ipykernel_48396/749170752.py:3: DtypeWarning: Columns (69,76,77,84) have mixed types. Specify dtype option on import or set low_memory=False.\n",
      "  df = pd.read_csv(file)\n"
     ]
    },
    {
     "name": "stdout",
     "output_type": "stream",
     "text": [
      "processing ~/Downloads/On_Time_Reporting_Carrier_On_Time_Performance_1987_present_2020_8/On_Time_Reporting_Carrier_On_Time_Performance_(1987_present)_2020_8.csv\n",
      "there are 28968 flight records that were delayed. randomly sampling 10000\n",
      "there are 343001 flight records that weren't delayed, sampling 10000 of them\n"
     ]
    },
    {
     "name": "stderr",
     "output_type": "stream",
     "text": [
      "/var/folders/x5/cgpxmq_11ys090v206spbw7w0000gn/T/ipykernel_48396/749170752.py:3: DtypeWarning: Columns (77,84) have mixed types. Specify dtype option on import or set low_memory=False.\n",
      "  df = pd.read_csv(file)\n"
     ]
    },
    {
     "name": "stdout",
     "output_type": "stream",
     "text": [
      "processing ~/Downloads/On_Time_Reporting_Carrier_On_Time_Performance_1987_present_2020_9/On_Time_Reporting_Carrier_On_Time_Performance_(1987_present)_2020_9.csv\n",
      "there are 20195 flight records that were delayed. randomly sampling 10000\n",
      "there are 300897 flight records that weren't delayed, sampling 10000 of them\n"
     ]
    },
    {
     "name": "stderr",
     "output_type": "stream",
     "text": [
      "/var/folders/x5/cgpxmq_11ys090v206spbw7w0000gn/T/ipykernel_48396/749170752.py:3: DtypeWarning: Columns (77,84) have mixed types. Specify dtype option on import or set low_memory=False.\n",
      "  df = pd.read_csv(file)\n"
     ]
    },
    {
     "name": "stdout",
     "output_type": "stream",
     "text": [
      "processing ~/Downloads/On_Time_Reporting_Carrier_On_Time_Performance_1987_present_2020_10/On_Time_Reporting_Carrier_On_Time_Performance_(1987_present)_2020_10.csv\n",
      "there are 29507 flight records that were delayed. randomly sampling 10000\n",
      "there are 320202 flight records that weren't delayed, sampling 10000 of them\n"
     ]
    },
    {
     "name": "stderr",
     "output_type": "stream",
     "text": [
      "/var/folders/x5/cgpxmq_11ys090v206spbw7w0000gn/T/ipykernel_48396/749170752.py:3: DtypeWarning: Columns (48,77) have mixed types. Specify dtype option on import or set low_memory=False.\n",
      "  df = pd.read_csv(file)\n"
     ]
    },
    {
     "name": "stdout",
     "output_type": "stream",
     "text": [
      "processing ~/Downloads/On_Time_Reporting_Carrier_On_Time_Performance_1987_present_2020_11/On_Time_Reporting_Carrier_On_Time_Performance_(1987_present)_2020_11.csv\n",
      "there are 27404 flight records that were delayed. randomly sampling 10000\n",
      "there are 334395 flight records that weren't delayed, sampling 10000 of them\n"
     ]
    },
    {
     "name": "stderr",
     "output_type": "stream",
     "text": [
      "/var/folders/x5/cgpxmq_11ys090v206spbw7w0000gn/T/ipykernel_48396/749170752.py:3: DtypeWarning: Columns (76,77,84) have mixed types. Specify dtype option on import or set low_memory=False.\n",
      "  df = pd.read_csv(file)\n"
     ]
    },
    {
     "name": "stdout",
     "output_type": "stream",
     "text": [
      "processing ~/Downloads/On_Time_Reporting_Carrier_On_Time_Performance_1987_present_2020_12/On_Time_Reporting_Carrier_On_Time_Performance_(1987_present)_2020_12.csv\n",
      "there are 43532 flight records that were delayed. randomly sampling 10000\n",
      "there are 323408 flight records that weren't delayed, sampling 10000 of them\n"
     ]
    },
    {
     "name": "stderr",
     "output_type": "stream",
     "text": [
      "/var/folders/x5/cgpxmq_11ys090v206spbw7w0000gn/T/ipykernel_48396/749170752.py:3: DtypeWarning: Columns (77,84) have mixed types. Specify dtype option on import or set low_memory=False.\n",
      "  df = pd.read_csv(file)\n"
     ]
    },
    {
     "name": "stdout",
     "output_type": "stream",
     "text": [
      "processing ~/Downloads/On_Time_Reporting_Carrier_On_Time_Performance_1987_present_2021_1/On_Time_Reporting_Carrier_On_Time_Performance_(1987_present)_2021_1.csv\n",
      "there are 34961 flight records that were delayed. randomly sampling 10000\n",
      "there are 322243 flight records that weren't delayed, sampling 10000 of them\n"
     ]
    },
    {
     "name": "stderr",
     "output_type": "stream",
     "text": [
      "/var/folders/x5/cgpxmq_11ys090v206spbw7w0000gn/T/ipykernel_48396/749170752.py:3: DtypeWarning: Columns (77,84) have mixed types. Specify dtype option on import or set low_memory=False.\n",
      "  df = pd.read_csv(file)\n"
     ]
    },
    {
     "name": "stdout",
     "output_type": "stream",
     "text": [
      "processing ~/Downloads/On_Time_Reporting_Carrier_On_Time_Performance_1987_present_2021_2/On_Time_Reporting_Carrier_On_Time_Performance_(1987_present)_2021_2.csv\n",
      "there are 45593 flight records that were delayed. randomly sampling 10000\n",
      "there are 267795 flight records that weren't delayed, sampling 10000 of them\n"
     ]
    },
    {
     "name": "stderr",
     "output_type": "stream",
     "text": [
      "/var/folders/x5/cgpxmq_11ys090v206spbw7w0000gn/T/ipykernel_48396/749170752.py:3: DtypeWarning: Columns (48,69,76,77,84) have mixed types. Specify dtype option on import or set low_memory=False.\n",
      "  df = pd.read_csv(file)\n"
     ]
    },
    {
     "name": "stdout",
     "output_type": "stream",
     "text": [
      "processing ~/Downloads/On_Time_Reporting_Carrier_On_Time_Performance_1987_present_2021_3/On_Time_Reporting_Carrier_On_Time_Performance_(1987_present)_2021_3.csv\n",
      "there are 44643 flight records that were delayed. randomly sampling 10000\n",
      "there are 393322 flight records that weren't delayed, sampling 10000 of them\n"
     ]
    },
    {
     "name": "stderr",
     "output_type": "stream",
     "text": [
      "/var/folders/x5/cgpxmq_11ys090v206spbw7w0000gn/T/ipykernel_48396/749170752.py:3: DtypeWarning: Columns (48,69,76,77,84) have mixed types. Specify dtype option on import or set low_memory=False.\n",
      "  df = pd.read_csv(file)\n"
     ]
    },
    {
     "name": "stdout",
     "output_type": "stream",
     "text": [
      "processing ~/Downloads/On_Time_Reporting_Carrier_On_Time_Performance_1987_present_2021_4/On_Time_Reporting_Carrier_On_Time_Performance_(1987_present)_2021_4.csv\n",
      "there are 47682 flight records that were delayed. randomly sampling 10000\n",
      "there are 399743 flight records that weren't delayed, sampling 10000 of them\n"
     ]
    },
    {
     "name": "stderr",
     "output_type": "stream",
     "text": [
      "/var/folders/x5/cgpxmq_11ys090v206spbw7w0000gn/T/ipykernel_48396/749170752.py:3: DtypeWarning: Columns (48,69,76,77,84) have mixed types. Specify dtype option on import or set low_memory=False.\n",
      "  df = pd.read_csv(file)\n"
     ]
    },
    {
     "name": "stdout",
     "output_type": "stream",
     "text": [
      "processing ~/Downloads/On_Time_Reporting_Carrier_On_Time_Performance_1987_present_2021_5/On_Time_Reporting_Carrier_On_Time_Performance_(1987_present)_2021_5.csv\n",
      "there are 65606 flight records that were delayed. randomly sampling 10000\n",
      "there are 426391 flight records that weren't delayed, sampling 10000 of them\n"
     ]
    },
    {
     "name": "stderr",
     "output_type": "stream",
     "text": [
      "/var/folders/x5/cgpxmq_11ys090v206spbw7w0000gn/T/ipykernel_48396/749170752.py:3: DtypeWarning: Columns (48,69,76,77,84) have mixed types. Specify dtype option on import or set low_memory=False.\n",
      "  df = pd.read_csv(file)\n"
     ]
    },
    {
     "name": "stdout",
     "output_type": "stream",
     "text": [
      "processing ~/Downloads/On_Time_Reporting_Carrier_On_Time_Performance_1987_present_2021_6/On_Time_Reporting_Carrier_On_Time_Performance_(1987_present)_2021_6.csv\n",
      "there are 127565 flight records that were delayed. randomly sampling 10000\n",
      "there are 407902 flight records that weren't delayed, sampling 10000 of them\n"
     ]
    },
    {
     "name": "stderr",
     "output_type": "stream",
     "text": [
      "/var/folders/x5/cgpxmq_11ys090v206spbw7w0000gn/T/ipykernel_48396/749170752.py:3: DtypeWarning: Columns (48,69,76,77,84) have mixed types. Specify dtype option on import or set low_memory=False.\n",
      "  df = pd.read_csv(file)\n"
     ]
    },
    {
     "name": "stdout",
     "output_type": "stream",
     "text": [
      "processing ~/Downloads/On_Time_Reporting_Carrier_On_Time_Performance_1987_present_2021_7/On_Time_Reporting_Carrier_On_Time_Performance_(1987_present)_2021_7.csv\n",
      "there are 143123 flight records that were delayed. randomly sampling 10000\n",
      "there are 428758 flight records that weren't delayed, sampling 10000 of them\n"
     ]
    },
    {
     "name": "stderr",
     "output_type": "stream",
     "text": [
      "/var/folders/x5/cgpxmq_11ys090v206spbw7w0000gn/T/ipykernel_48396/749170752.py:3: DtypeWarning: Columns (48,76,77,84) have mixed types. Specify dtype option on import or set low_memory=False.\n",
      "  df = pd.read_csv(file)\n"
     ]
    },
    {
     "name": "stdout",
     "output_type": "stream",
     "text": [
      "processing ~/Downloads/On_Time_Reporting_Carrier_On_Time_Performance_1987_present_2021_8/On_Time_Reporting_Carrier_On_Time_Performance_(1987_present)_2021_8.csv\n",
      "there are 127387 flight records that were delayed. randomly sampling 10000\n",
      "there are 432560 flight records that weren't delayed, sampling 10000 of them\n"
     ]
    },
    {
     "name": "stderr",
     "output_type": "stream",
     "text": [
      "/var/folders/x5/cgpxmq_11ys090v206spbw7w0000gn/T/ipykernel_48396/749170752.py:3: DtypeWarning: Columns (48,77,84) have mixed types. Specify dtype option on import or set low_memory=False.\n",
      "  df = pd.read_csv(file)\n"
     ]
    },
    {
     "name": "stdout",
     "output_type": "stream",
     "text": [
      "processing ~/Downloads/On_Time_Reporting_Carrier_On_Time_Performance_1987_present_2021_9/On_Time_Reporting_Carrier_On_Time_Performance_(1987_present)_2021_9.csv\n",
      "there are 73363 flight records that were delayed. randomly sampling 10000\n",
      "there are 457014 flight records that weren't delayed, sampling 10000 of them\n"
     ]
    },
    {
     "name": "stderr",
     "output_type": "stream",
     "text": [
      "/var/folders/x5/cgpxmq_11ys090v206spbw7w0000gn/T/ipykernel_48396/749170752.py:3: DtypeWarning: Columns (48,77,84) have mixed types. Specify dtype option on import or set low_memory=False.\n",
      "  df = pd.read_csv(file)\n"
     ]
    },
    {
     "name": "stdout",
     "output_type": "stream",
     "text": [
      "processing ~/Downloads/On_Time_Reporting_Carrier_On_Time_Performance_1987_present_2021_10/On_Time_Reporting_Carrier_On_Time_Performance_(1987_present)_2021_10.csv\n",
      "there are 99586 flight records that were delayed. randomly sampling 10000\n",
      "there are 452398 flight records that weren't delayed, sampling 10000 of them\n"
     ]
    },
    {
     "name": "stderr",
     "output_type": "stream",
     "text": [
      "/var/folders/x5/cgpxmq_11ys090v206spbw7w0000gn/T/ipykernel_48396/749170752.py:3: DtypeWarning: Columns (48,77) have mixed types. Specify dtype option on import or set low_memory=False.\n",
      "  df = pd.read_csv(file)\n"
     ]
    },
    {
     "name": "stdout",
     "output_type": "stream",
     "text": [
      "processing ~/Downloads/On_Time_Reporting_Carrier_On_Time_Performance_1987_present_2021_11/On_Time_Reporting_Carrier_On_Time_Performance_(1987_present)_2021_11.csv\n",
      "there are 81673 flight records that were delayed. randomly sampling 10000\n",
      "there are 461728 flight records that weren't delayed, sampling 10000 of them\n"
     ]
    },
    {
     "name": "stderr",
     "output_type": "stream",
     "text": [
      "/var/folders/x5/cgpxmq_11ys090v206spbw7w0000gn/T/ipykernel_48396/749170752.py:3: DtypeWarning: Columns (48,77,84) have mixed types. Specify dtype option on import or set low_memory=False.\n",
      "  df = pd.read_csv(file)\n"
     ]
    },
    {
     "name": "stdout",
     "output_type": "stream",
     "text": [
      "processing ~/Downloads/On_Time_Reporting_Carrier_On_Time_Performance_1987_present_2021_12/On_Time_Reporting_Carrier_On_Time_Performance_(1987_present)_2021_12.csv\n",
      "there are 119150 flight records that were delayed. randomly sampling 10000\n",
      "there are 418033 flight records that weren't delayed, sampling 10000 of them\n"
     ]
    },
    {
     "name": "stderr",
     "output_type": "stream",
     "text": [
      "/var/folders/x5/cgpxmq_11ys090v206spbw7w0000gn/T/ipykernel_48396/749170752.py:3: DtypeWarning: Columns (76,77,84) have mixed types. Specify dtype option on import or set low_memory=False.\n",
      "  df = pd.read_csv(file)\n"
     ]
    },
    {
     "name": "stdout",
     "output_type": "stream",
     "text": [
      "processing ~/Downloads/On_Time_Reporting_Carrier_On_Time_Performance_1987_present_2022_1/On_Time_Reporting_Carrier_On_Time_Performance_(1987_present)_2022_1.csv\n",
      "there are 97052 flight records that were delayed. randomly sampling 10000\n",
      "there are 406477 flight records that weren't delayed, sampling 10000 of them\n"
     ]
    },
    {
     "name": "stderr",
     "output_type": "stream",
     "text": [
      "/var/folders/x5/cgpxmq_11ys090v206spbw7w0000gn/T/ipykernel_48396/749170752.py:3: DtypeWarning: Columns (77,84) have mixed types. Specify dtype option on import or set low_memory=False.\n",
      "  df = pd.read_csv(file)\n"
     ]
    },
    {
     "name": "stdout",
     "output_type": "stream",
     "text": [
      "processing ~/Downloads/On_Time_Reporting_Carrier_On_Time_Performance_1987_present_2022_2/On_Time_Reporting_Carrier_On_Time_Performance_(1987_present)_2022_2.csv\n",
      "there are 92614 flight records that were delayed. randomly sampling 10000\n",
      "there are 380532 flight records that weren't delayed, sampling 10000 of them\n"
     ]
    },
    {
     "name": "stderr",
     "output_type": "stream",
     "text": [
      "/var/folders/x5/cgpxmq_11ys090v206spbw7w0000gn/T/ipykernel_48396/749170752.py:3: DtypeWarning: Columns (77,84,85) have mixed types. Specify dtype option on import or set low_memory=False.\n",
      "  df = pd.read_csv(file)\n"
     ]
    },
    {
     "name": "stdout",
     "output_type": "stream",
     "text": [
      "processing ~/Downloads/On_Time_Reporting_Carrier_On_Time_Performance_1987_present_2022_3/On_Time_Reporting_Carrier_On_Time_Performance_(1987_present)_2022_3.csv\n",
      "there are 119816 flight records that were delayed. randomly sampling 10000\n",
      "there are 434894 flight records that weren't delayed, sampling 10000 of them\n"
     ]
    },
    {
     "name": "stderr",
     "output_type": "stream",
     "text": [
      "/var/folders/x5/cgpxmq_11ys090v206spbw7w0000gn/T/ipykernel_48396/749170752.py:3: DtypeWarning: Columns (77,84) have mixed types. Specify dtype option on import or set low_memory=False.\n",
      "  df = pd.read_csv(file)\n"
     ]
    },
    {
     "name": "stdout",
     "output_type": "stream",
     "text": [
      "processing ~/Downloads/On_Time_Reporting_Carrier_On_Time_Performance_1987_present_2022_4/On_Time_Reporting_Carrier_On_Time_Performance_(1987_present)_2022_4.csv\n",
      "there are 120962 flight records that were delayed. randomly sampling 10000\n",
      "there are 421155 flight records that weren't delayed, sampling 10000 of them\n"
     ]
    },
    {
     "name": "stderr",
     "output_type": "stream",
     "text": [
      "/var/folders/x5/cgpxmq_11ys090v206spbw7w0000gn/T/ipykernel_48396/749170752.py:3: DtypeWarning: Columns (77,84) have mixed types. Specify dtype option on import or set low_memory=False.\n",
      "  df = pd.read_csv(file)\n"
     ]
    },
    {
     "name": "stdout",
     "output_type": "stream",
     "text": [
      "processing ~/Downloads/On_Time_Reporting_Carrier_On_Time_Performance_1987_present_2022_5/On_Time_Reporting_Carrier_On_Time_Performance_(1987_present)_2022_5.csv\n",
      "there are 119498 flight records that were delayed. randomly sampling 10000\n",
      "there are 446457 flight records that weren't delayed, sampling 10000 of them\n"
     ]
    },
    {
     "name": "stderr",
     "output_type": "stream",
     "text": [
      "/var/folders/x5/cgpxmq_11ys090v206spbw7w0000gn/T/ipykernel_48396/749170752.py:3: DtypeWarning: Columns (76,77,84) have mixed types. Specify dtype option on import or set low_memory=False.\n",
      "  df = pd.read_csv(file)\n"
     ]
    },
    {
     "name": "stdout",
     "output_type": "stream",
     "text": [
      "processing ~/Downloads/On_Time_Reporting_Carrier_On_Time_Performance_1987_present_2022_6/On_Time_Reporting_Carrier_On_Time_Performance_(1987_present)_2022_6.csv\n",
      "there are 134598 flight records that were delayed. randomly sampling 10000\n",
      "there are 423155 flight records that weren't delayed, sampling 10000 of them\n"
     ]
    },
    {
     "name": "stderr",
     "output_type": "stream",
     "text": [
      "/var/folders/x5/cgpxmq_11ys090v206spbw7w0000gn/T/ipykernel_48396/749170752.py:3: DtypeWarning: Columns (77,84) have mixed types. Specify dtype option on import or set low_memory=False.\n",
      "  df = pd.read_csv(file)\n"
     ]
    },
    {
     "name": "stdout",
     "output_type": "stream",
     "text": [
      "processing ~/Downloads/On_Time_Reporting_Carrier_On_Time_Performance_1987_present_2022_7/On_Time_Reporting_Carrier_On_Time_Performance_(1987_present)_2022_7.csv\n",
      "there are 138121 flight records that were delayed. randomly sampling 10000\n",
      "there are 444428 flight records that weren't delayed, sampling 10000 of them\n"
     ]
    },
    {
     "name": "stderr",
     "output_type": "stream",
     "text": [
      "/var/folders/x5/cgpxmq_11ys090v206spbw7w0000gn/T/ipykernel_48396/749170752.py:3: DtypeWarning: Columns (77,84) have mixed types. Specify dtype option on import or set low_memory=False.\n",
      "  df = pd.read_csv(file)\n"
     ]
    },
    {
     "name": "stdout",
     "output_type": "stream",
     "text": [
      "processing ~/Downloads/On_Time_Reporting_Carrier_On_Time_Performance_1987_present_2022_8/On_Time_Reporting_Carrier_On_Time_Performance_(1987_present)_2022_8.csv\n",
      "there are 128520 flight records that were delayed. randomly sampling 10000\n",
      "there are 445099 flight records that weren't delayed, sampling 10000 of them\n"
     ]
    },
    {
     "name": "stderr",
     "output_type": "stream",
     "text": [
      "/var/folders/x5/cgpxmq_11ys090v206spbw7w0000gn/T/ipykernel_48396/749170752.py:3: DtypeWarning: Columns (69,76,77,84) have mixed types. Specify dtype option on import or set low_memory=False.\n",
      "  df = pd.read_csv(file)\n"
     ]
    },
    {
     "name": "stdout",
     "output_type": "stream",
     "text": [
      "processing ~/Downloads/On_Time_Reporting_Carrier_On_Time_Performance_1987_present_2022_9/On_Time_Reporting_Carrier_On_Time_Performance_(1987_present)_2022_9.csv\n",
      "there are 90875 flight records that were delayed. randomly sampling 10000\n",
      "there are 456853 flight records that weren't delayed, sampling 10000 of them\n"
     ]
    },
    {
     "name": "stderr",
     "output_type": "stream",
     "text": [
      "/var/folders/x5/cgpxmq_11ys090v206spbw7w0000gn/T/ipykernel_48396/749170752.py:3: DtypeWarning: Columns (77,84) have mixed types. Specify dtype option on import or set low_memory=False.\n",
      "  df = pd.read_csv(file)\n"
     ]
    },
    {
     "name": "stdout",
     "output_type": "stream",
     "text": [
      "processing ~/Downloads/On_Time_Reporting_Carrier_On_Time_Performance_1987_present_2022_10/On_Time_Reporting_Carrier_On_Time_Performance_(1987_present)_2022_10.csv\n",
      "there are 90057 flight records that were delayed. randomly sampling 10000\n",
      "there are 476435 flight records that weren't delayed, sampling 10000 of them\n"
     ]
    },
    {
     "name": "stderr",
     "output_type": "stream",
     "text": [
      "/var/folders/x5/cgpxmq_11ys090v206spbw7w0000gn/T/ipykernel_48396/749170752.py:3: DtypeWarning: Columns (76,77,84) have mixed types. Specify dtype option on import or set low_memory=False.\n",
      "  df = pd.read_csv(file)\n"
     ]
    },
    {
     "name": "stdout",
     "output_type": "stream",
     "text": [
      "processing ~/Downloads/On_Time_Reporting_Carrier_On_Time_Performance_1987_present_2022_11/On_Time_Reporting_Carrier_On_Time_Performance_(1987_present)_2022_11.csv\n",
      "there are 102278 flight records that were delayed. randomly sampling 10000\n",
      "there are 436921 flight records that weren't delayed, sampling 10000 of them\n"
     ]
    },
    {
     "name": "stderr",
     "output_type": "stream",
     "text": [
      "/var/folders/x5/cgpxmq_11ys090v206spbw7w0000gn/T/ipykernel_48396/749170752.py:3: DtypeWarning: Columns (48,69,76,77,84) have mixed types. Specify dtype option on import or set low_memory=False.\n",
      "  df = pd.read_csv(file)\n"
     ]
    },
    {
     "name": "stdout",
     "output_type": "stream",
     "text": [
      "processing ~/Downloads/On_Time_Reporting_Carrier_On_Time_Performance_1987_present_2022_12/On_Time_Reporting_Carrier_On_Time_Performance_(1987_present)_2022_12.csv\n",
      "there are 142407 flight records that were delayed. randomly sampling 10000\n",
      "there are 382808 flight records that weren't delayed, sampling 10000 of them\n"
     ]
    }
   ],
   "source": [
    "preprocessed_data = []\n",
    "for file in data_files:\n",
    "    df = pd.read_csv(file)\n",
    "    print(f\"processing {file}\")\n",
    "    preprocessed_data.append(preprocess_data(df))\n",
    "    \n",
    "all_flights_df = pd.concat(preprocessed_data)"
   ]
  },
  {
   "cell_type": "code",
   "execution_count": 8,
   "metadata": {},
   "outputs": [
    {
     "data": {
      "text/html": [
       "<div>\n",
       "<style scoped>\n",
       "    .dataframe tbody tr th:only-of-type {\n",
       "        vertical-align: middle;\n",
       "    }\n",
       "\n",
       "    .dataframe tbody tr th {\n",
       "        vertical-align: top;\n",
       "    }\n",
       "\n",
       "    .dataframe thead th {\n",
       "        text-align: right;\n",
       "    }\n",
       "</style>\n",
       "<table border=\"1\" class=\"dataframe\">\n",
       "  <thead>\n",
       "    <tr style=\"text-align: right;\">\n",
       "      <th></th>\n",
       "      <th>Year</th>\n",
       "      <th>Quarter</th>\n",
       "      <th>Month</th>\n",
       "      <th>DayofMonth</th>\n",
       "      <th>DayOfWeek</th>\n",
       "      <th>DepTime</th>\n",
       "      <th>DepDelay</th>\n",
       "      <th>ArrTime</th>\n",
       "      <th>ArrDelay</th>\n",
       "      <th>ArrDel15</th>\n",
       "      <th>Cancelled</th>\n",
       "      <th>Diverted</th>\n",
       "      <th>AirTime</th>\n",
       "      <th>Flights</th>\n",
       "      <th>Distance</th>\n",
       "      <th>CarrierDelay</th>\n",
       "      <th>WeatherDelay</th>\n",
       "      <th>NASDelay</th>\n",
       "      <th>SecurityDelay</th>\n",
       "      <th>LateAircraftDelay</th>\n",
       "    </tr>\n",
       "  </thead>\n",
       "  <tbody>\n",
       "    <tr>\n",
       "      <th>count</th>\n",
       "      <td>713664.000000</td>\n",
       "      <td>713664.000000</td>\n",
       "      <td>713664.000000</td>\n",
       "      <td>713664.000000</td>\n",
       "      <td>713664.00000</td>\n",
       "      <td>713664.00000</td>\n",
       "      <td>713664.000000</td>\n",
       "      <td>713664.000000</td>\n",
       "      <td>713664.000000</td>\n",
       "      <td>713664.0</td>\n",
       "      <td>713664.0</td>\n",
       "      <td>713664.0</td>\n",
       "      <td>713664.000000</td>\n",
       "      <td>713664.0</td>\n",
       "      <td>713664.000000</td>\n",
       "      <td>356831.000000</td>\n",
       "      <td>356831.000000</td>\n",
       "      <td>356831.000000</td>\n",
       "      <td>356831.000000</td>\n",
       "      <td>356831.000000</td>\n",
       "    </tr>\n",
       "    <tr>\n",
       "      <th>mean</th>\n",
       "      <td>2021.008878</td>\n",
       "      <td>2.504439</td>\n",
       "      <td>6.516013</td>\n",
       "      <td>15.747531</td>\n",
       "      <td>4.03537</td>\n",
       "      <td>1386.12710</td>\n",
       "      <td>28.835928</td>\n",
       "      <td>1506.231169</td>\n",
       "      <td>26.835046</td>\n",
       "      <td>0.5</td>\n",
       "      <td>0.0</td>\n",
       "      <td>0.0</td>\n",
       "      <td>114.219529</td>\n",
       "      <td>1.0</td>\n",
       "      <td>816.095734</td>\n",
       "      <td>27.084687</td>\n",
       "      <td>4.367916</td>\n",
       "      <td>11.717600</td>\n",
       "      <td>0.188613</td>\n",
       "      <td>20.829793</td>\n",
       "    </tr>\n",
       "    <tr>\n",
       "      <th>std</th>\n",
       "      <td>0.814635</td>\n",
       "      <td>1.121989</td>\n",
       "      <td>3.462869</td>\n",
       "      <td>8.746131</td>\n",
       "      <td>2.00945</td>\n",
       "      <td>492.44317</td>\n",
       "      <td>75.004397</td>\n",
       "      <td>546.612997</td>\n",
       "      <td>75.848376</td>\n",
       "      <td>0.5</td>\n",
       "      <td>0.0</td>\n",
       "      <td>0.0</td>\n",
       "      <td>69.325232</td>\n",
       "      <td>0.0</td>\n",
       "      <td>576.604762</td>\n",
       "      <td>73.908028</td>\n",
       "      <td>34.414985</td>\n",
       "      <td>29.410674</td>\n",
       "      <td>3.905450</td>\n",
       "      <td>51.973683</td>\n",
       "    </tr>\n",
       "    <tr>\n",
       "      <th>min</th>\n",
       "      <td>2020.000000</td>\n",
       "      <td>1.000000</td>\n",
       "      <td>1.000000</td>\n",
       "      <td>1.000000</td>\n",
       "      <td>1.00000</td>\n",
       "      <td>1.00000</td>\n",
       "      <td>-83.000000</td>\n",
       "      <td>1.000000</td>\n",
       "      <td>-87.000000</td>\n",
       "      <td>0.0</td>\n",
       "      <td>0.0</td>\n",
       "      <td>0.0</td>\n",
       "      <td>8.000000</td>\n",
       "      <td>1.0</td>\n",
       "      <td>29.000000</td>\n",
       "      <td>0.000000</td>\n",
       "      <td>0.000000</td>\n",
       "      <td>0.000000</td>\n",
       "      <td>0.000000</td>\n",
       "      <td>0.000000</td>\n",
       "    </tr>\n",
       "    <tr>\n",
       "      <th>25%</th>\n",
       "      <td>2020.000000</td>\n",
       "      <td>1.000000</td>\n",
       "      <td>3.000000</td>\n",
       "      <td>8.000000</td>\n",
       "      <td>2.00000</td>\n",
       "      <td>1004.00000</td>\n",
       "      <td>-4.000000</td>\n",
       "      <td>1131.000000</td>\n",
       "      <td>-11.000000</td>\n",
       "      <td>0.0</td>\n",
       "      <td>0.0</td>\n",
       "      <td>0.0</td>\n",
       "      <td>63.000000</td>\n",
       "      <td>1.0</td>\n",
       "      <td>391.000000</td>\n",
       "      <td>0.000000</td>\n",
       "      <td>0.000000</td>\n",
       "      <td>0.000000</td>\n",
       "      <td>0.000000</td>\n",
       "      <td>0.000000</td>\n",
       "    </tr>\n",
       "    <tr>\n",
       "      <th>50%</th>\n",
       "      <td>2021.000000</td>\n",
       "      <td>3.000000</td>\n",
       "      <td>7.000000</td>\n",
       "      <td>16.000000</td>\n",
       "      <td>4.00000</td>\n",
       "      <td>1411.00000</td>\n",
       "      <td>2.000000</td>\n",
       "      <td>1550.000000</td>\n",
       "      <td>14.500000</td>\n",
       "      <td>0.5</td>\n",
       "      <td>0.0</td>\n",
       "      <td>0.0</td>\n",
       "      <td>99.000000</td>\n",
       "      <td>1.0</td>\n",
       "      <td>679.000000</td>\n",
       "      <td>6.000000</td>\n",
       "      <td>0.000000</td>\n",
       "      <td>0.000000</td>\n",
       "      <td>0.000000</td>\n",
       "      <td>0.000000</td>\n",
       "    </tr>\n",
       "    <tr>\n",
       "      <th>75%</th>\n",
       "      <td>2022.000000</td>\n",
       "      <td>4.000000</td>\n",
       "      <td>10.000000</td>\n",
       "      <td>23.000000</td>\n",
       "      <td>6.00000</td>\n",
       "      <td>1805.00000</td>\n",
       "      <td>37.000000</td>\n",
       "      <td>1940.000000</td>\n",
       "      <td>37.000000</td>\n",
       "      <td>1.0</td>\n",
       "      <td>0.0</td>\n",
       "      <td>0.0</td>\n",
       "      <td>145.000000</td>\n",
       "      <td>1.0</td>\n",
       "      <td>1055.000000</td>\n",
       "      <td>26.000000</td>\n",
       "      <td>0.000000</td>\n",
       "      <td>16.000000</td>\n",
       "      <td>0.000000</td>\n",
       "      <td>22.000000</td>\n",
       "    </tr>\n",
       "    <tr>\n",
       "      <th>max</th>\n",
       "      <td>2022.000000</td>\n",
       "      <td>4.000000</td>\n",
       "      <td>12.000000</td>\n",
       "      <td>31.000000</td>\n",
       "      <td>7.00000</td>\n",
       "      <td>2400.00000</td>\n",
       "      <td>2650.000000</td>\n",
       "      <td>2400.000000</td>\n",
       "      <td>2647.000000</td>\n",
       "      <td>1.0</td>\n",
       "      <td>0.0</td>\n",
       "      <td>0.0</td>\n",
       "      <td>727.000000</td>\n",
       "      <td>1.0</td>\n",
       "      <td>5812.000000</td>\n",
       "      <td>2647.000000</td>\n",
       "      <td>1805.000000</td>\n",
       "      <td>1642.000000</td>\n",
       "      <td>789.000000</td>\n",
       "      <td>2093.000000</td>\n",
       "    </tr>\n",
       "  </tbody>\n",
       "</table>\n",
       "</div>"
      ],
      "text/plain": [
       "                Year        Quarter          Month     DayofMonth  \\\n",
       "count  713664.000000  713664.000000  713664.000000  713664.000000   \n",
       "mean     2021.008878       2.504439       6.516013      15.747531   \n",
       "std         0.814635       1.121989       3.462869       8.746131   \n",
       "min      2020.000000       1.000000       1.000000       1.000000   \n",
       "25%      2020.000000       1.000000       3.000000       8.000000   \n",
       "50%      2021.000000       3.000000       7.000000      16.000000   \n",
       "75%      2022.000000       4.000000      10.000000      23.000000   \n",
       "max      2022.000000       4.000000      12.000000      31.000000   \n",
       "\n",
       "          DayOfWeek       DepTime       DepDelay        ArrTime  \\\n",
       "count  713664.00000  713664.00000  713664.000000  713664.000000   \n",
       "mean        4.03537    1386.12710      28.835928    1506.231169   \n",
       "std         2.00945     492.44317      75.004397     546.612997   \n",
       "min         1.00000       1.00000     -83.000000       1.000000   \n",
       "25%         2.00000    1004.00000      -4.000000    1131.000000   \n",
       "50%         4.00000    1411.00000       2.000000    1550.000000   \n",
       "75%         6.00000    1805.00000      37.000000    1940.000000   \n",
       "max         7.00000    2400.00000    2650.000000    2400.000000   \n",
       "\n",
       "            ArrDelay  ArrDel15  Cancelled  Diverted        AirTime   Flights  \\\n",
       "count  713664.000000  713664.0   713664.0  713664.0  713664.000000  713664.0   \n",
       "mean       26.835046       0.5        0.0       0.0     114.219529       1.0   \n",
       "std        75.848376       0.5        0.0       0.0      69.325232       0.0   \n",
       "min       -87.000000       0.0        0.0       0.0       8.000000       1.0   \n",
       "25%       -11.000000       0.0        0.0       0.0      63.000000       1.0   \n",
       "50%        14.500000       0.5        0.0       0.0      99.000000       1.0   \n",
       "75%        37.000000       1.0        0.0       0.0     145.000000       1.0   \n",
       "max      2647.000000       1.0        0.0       0.0     727.000000       1.0   \n",
       "\n",
       "            Distance   CarrierDelay   WeatherDelay       NASDelay  \\\n",
       "count  713664.000000  356831.000000  356831.000000  356831.000000   \n",
       "mean      816.095734      27.084687       4.367916      11.717600   \n",
       "std       576.604762      73.908028      34.414985      29.410674   \n",
       "min        29.000000       0.000000       0.000000       0.000000   \n",
       "25%       391.000000       0.000000       0.000000       0.000000   \n",
       "50%       679.000000       6.000000       0.000000       0.000000   \n",
       "75%      1055.000000      26.000000       0.000000      16.000000   \n",
       "max      5812.000000    2647.000000    1805.000000    1642.000000   \n",
       "\n",
       "       SecurityDelay  LateAircraftDelay  \n",
       "count  356831.000000      356831.000000  \n",
       "mean        0.188613          20.829793  \n",
       "std         3.905450          51.973683  \n",
       "min         0.000000           0.000000  \n",
       "25%         0.000000           0.000000  \n",
       "50%         0.000000           0.000000  \n",
       "75%         0.000000          22.000000  \n",
       "max       789.000000        2093.000000  "
      ]
     },
     "execution_count": 8,
     "metadata": {},
     "output_type": "execute_result"
    }
   ],
   "source": [
    "all_flights_df.describe()"
   ]
  },
  {
   "cell_type": "code",
   "execution_count": 9,
   "metadata": {},
   "outputs": [
    {
     "name": "stdout",
     "output_type": "stream",
     "text": [
      "<class 'pandas.core.frame.DataFrame'>\n",
      "Int64Index: 713664 entries, 559890 to 409349\n",
      "Data columns (total 26 columns):\n",
      " #   Column             Non-Null Count   Dtype  \n",
      "---  ------             --------------   -----  \n",
      " 0   Year               713664 non-null  int64  \n",
      " 1   Quarter            713664 non-null  int64  \n",
      " 2   Month              713664 non-null  int64  \n",
      " 3   DayofMonth         713664 non-null  int64  \n",
      " 4   DayOfWeek          713664 non-null  int64  \n",
      " 5   FlightDate         713664 non-null  object \n",
      " 6   Reporting_Airline  713664 non-null  object \n",
      " 7   Tail_Number        713664 non-null  object \n",
      " 8   Origin             713664 non-null  object \n",
      " 9   Dest               713664 non-null  object \n",
      " 10  DepTime            713664 non-null  float64\n",
      " 11  DepDelay           713664 non-null  float64\n",
      " 12  ArrTime            713664 non-null  float64\n",
      " 13  ArrDelay           713664 non-null  float64\n",
      " 14  ArrDel15           713664 non-null  float64\n",
      " 15  Cancelled          713664 non-null  float64\n",
      " 16  CancellationCode   0 non-null       object \n",
      " 17  Diverted           713664 non-null  float64\n",
      " 18  AirTime            713664 non-null  float64\n",
      " 19  Flights            713664 non-null  float64\n",
      " 20  Distance           713664 non-null  float64\n",
      " 21  CarrierDelay       356831 non-null  float64\n",
      " 22  WeatherDelay       356831 non-null  float64\n",
      " 23  NASDelay           356831 non-null  float64\n",
      " 24  SecurityDelay      356831 non-null  float64\n",
      " 25  LateAircraftDelay  356831 non-null  float64\n",
      "dtypes: float64(15), int64(5), object(6)\n",
      "memory usage: 147.0+ MB\n"
     ]
    }
   ],
   "source": [
    "all_flights_df.info()"
   ]
  },
  {
   "cell_type": "code",
   "execution_count": 27,
   "metadata": {},
   "outputs": [
    {
     "name": "stdout",
     "output_type": "stream",
     "text": [
      "writing to flight_data.csv\n"
     ]
    }
   ],
   "source": [
    "output_file = \"flight_data.csv\"\n",
    "print(f\"writing to {output_file}\")\n",
    "all_flights_df.to_csv(dest_filepath + output_file, index=False)"
   ]
  }
 ],
 "metadata": {
  "kernelspec": {
   "display_name": "Python 3 (ipykernel)",
   "language": "python",
   "name": "python3"
  },
  "language_info": {
   "codemirror_mode": {
    "name": "ipython",
    "version": 3
   },
   "file_extension": ".py",
   "mimetype": "text/x-python",
   "name": "python",
   "nbconvert_exporter": "python",
   "pygments_lexer": "ipython3",
   "version": "3.11.4"
  }
 },
 "nbformat": 4,
 "nbformat_minor": 2
}
