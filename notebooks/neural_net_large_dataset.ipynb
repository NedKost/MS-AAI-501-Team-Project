{
 "cells": [
  {
   "cell_type": "code",
   "execution_count": null,
   "metadata": {},
   "outputs": [],
   "source": [
    "import pandas as pd\n",
    "from sklearn.model_selection import train_test_split\n",
    "\n",
    "from tensorflow.keras.models import Sequential\n",
    "from tensorflow.keras.layers import Dense\n",
    "import category_encoders as ce\n",
    "from sklearn.preprocessing import StandardScaler\n",
    "from tensorflow.keras.callbacks import EarlyStopping, LearningRateScheduler\n",
    "from feature_engine.creation import CyclicalFeatures"
   ]
  },
  {
   "cell_type": "markdown",
   "metadata": {},
   "source": [
    "## Helper Functions"
   ]
  },
  {
   "cell_type": "code",
   "execution_count": null,
   "metadata": {},
   "outputs": [],
   "source": [
    "def scale_columns_by_standard_scaler(x_train_df, x_validation_df, x_test_df, columns):\n",
    "    scaler = StandardScaler()\n",
    "    \n",
    "    x_train_df[columns] = scaler.fit_transform(x_train_df[columns])\n",
    "    x_validation_df[columns] = scaler.transform(x_validation_df[columns])\n",
    "    x_test_df[columns] = scaler.transform(x_test_df[columns])\n",
    "    return x_train_df, x_validation_df, x_test_df"
   ]
  },
  {
   "cell_type": "code",
   "execution_count": null,
   "metadata": {},
   "outputs": [],
   "source": [
    "def scale_columns_by_cyclical_scaler(x_train_df, x_validation_df, x_test_df, columns):\n",
    "    scaler = CyclicalFeatures(drop_original=True)\n",
    "    \n",
    "    x_train_transformed_df = scaler.fit_transform(x_train_df[columns])\n",
    "    x_train_df = pd.concat([x_train_df.drop(columns, axis=1), x_train_transformed_df], axis=1)\n",
    "    \n",
    "    x_validation_transformed_df = scaler.transform(x_validation_df[columns])\n",
    "    x_validation_df = pd.concat([x_validation_df.drop(columns, axis=1), x_validation_transformed_df], axis=1)\n",
    "\n",
    "\n",
    "    x_test_transformed_df = scaler.transform(x_test_df[columns])\n",
    "    x_test_df = pd.concat([x_test_df.drop(columns, axis=1), x_test_transformed_df], axis=1)\n",
    "\n",
    "    return x_train_df, x_validation_df, x_test_df"
   ]
  },
  {
   "cell_type": "code",
   "execution_count": null,
   "metadata": {},
   "outputs": [],
   "source": [
    "def binary_encode(df, columns):\n",
    "    encoder = ce.BinaryEncoder(cols=columns)\n",
    "\n",
    "    # Fit and transform to produce binary encoded data\n",
    "    df_encoded = encoder.fit_transform(df[columns])\n",
    "\n",
    "    # Merge the encoded data back with the original DataFrame\n",
    "    df = df.drop(columns, axis=1)\n",
    "    df = pd.concat([df, df_encoded], axis=1)\n",
    "    return df"
   ]
  },
  {
   "cell_type": "code",
   "execution_count": null,
   "metadata": {},
   "outputs": [],
   "source": [
    "def calculate_crs_deptime(deptime, depdelay):\n",
    "    hours = deptime // 100\n",
    "    minutes = deptime % 100\n",
    "    total_minutes = (hours * 60 + minutes) - depdelay\n",
    "    crs_hours = abs(total_minutes) // 60\n",
    "    crs_minutes = total_minutes % 60\n",
    "    if total_minutes < 0:\n",
    "        return total_minutes\n",
    "    return crs_hours * 100 + crs_minutes"
   ]
  },
  {
   "cell_type": "code",
   "execution_count": null,
   "metadata": {},
   "outputs": [],
   "source": [
    "def step_decay(epoch):\n",
    "    lrate = 0.001  # Start with this learning rate\n",
    "    if epoch > 15 and epoch <= 30:\n",
    "        lrate = 0.0001 # Drop to this for epochs 3 and 4\n",
    "    elif epoch > 30:\n",
    "        lrate = 0.00001 # Drop to this after epoch 5\n",
    "    return lrate\n"
   ]
  },
  {
   "cell_type": "code",
   "execution_count": null,
   "metadata": {},
   "outputs": [],
   "source": [
    "def load_and_preprocess_data():\n",
    "    df = pd.read_csv('~/Downloads/flight_data.csv')\n",
    "\n",
    "    df = df[df.Cancelled == 0]\n",
    "    df = df[df.Diverted == 0]\n",
    "\n",
    "    df['CRSDepTime'] = df.apply(lambda row: calculate_crs_deptime(row['DepTime'], row['DepDelay']), axis=1)\n",
    "\n",
    "    # Reducing dimensionality of Carrier with custom grouping\n",
    "    value_counts = df['Carrier'].value_counts()\n",
    "    to_remove = value_counts[value_counts <= 9000].index\n",
    "    df['Carrier'].replace(to_remove, 'Other', inplace=True)\n",
    "    return df"
   ]
  },
  {
   "cell_type": "markdown",
   "metadata": {},
   "source": [
    "## Preprocessing and loading"
   ]
  },
  {
   "cell_type": "code",
   "execution_count": null,
   "metadata": {},
   "outputs": [],
   "source": [
    "df = load_and_preprocess_data()"
   ]
  },
  {
   "cell_type": "markdown",
   "metadata": {},
   "source": [
    "## Model run feature set 1"
   ]
  },
  {
   "cell_type": "code",
   "execution_count": null,
   "metadata": {},
   "outputs": [],
   "source": [
    "features = ['Year', 'Quarter', 'Month', 'DayofMonth', 'DayOfWeek', \n",
    "        'Dest', 'Origin', 'Distance', 'Carrier',\n",
    "        'Full-time', 'Part-time', 'Grand Total', 'CRSDepTime', 'CRSArrTime', 'CRSElapsedTime', 'ArrDel15']"
   ]
  },
  {
   "cell_type": "code",
   "execution_count": null,
   "metadata": {},
   "outputs": [],
   "source": [
    "flight_df = df[features]\n",
    "flight_df = flight_df.dropna()\n",
    "\n",
    "X = flight_df.drop('ArrDel15', axis=1)\n",
    "y = flight_df['ArrDel15']"
   ]
  },
  {
   "cell_type": "code",
   "execution_count": null,
   "metadata": {},
   "outputs": [],
   "source": [
    "# Encoding categorical variables\n",
    "X = binary_encode(X, ['Dest', 'Origin'])\n",
    "X = pd.get_dummies(X, columns=['Carrier'])\n",
    "\n",
    "X_train, X_temp, y_train, y_temp = train_test_split(X, y, test_size=0.3, random_state=42)\n",
    "X_validation, X_test, y_validation, y_test = train_test_split(X_temp, y_temp, test_size=0.5, random_state=42)"
   ]
  },
  {
   "cell_type": "code",
   "execution_count": null,
   "metadata": {},
   "outputs": [],
   "source": [
    "# Transform with StandardScaler\n",
    "standard_columns = ['Distance', 'Full-time', 'Part-time', 'Grand Total']\n",
    "X_train, X_validation, X_test = scale_columns_by_standard_scaler(X_train, X_validation, X_test, standard_columns)\n",
    "\n",
    "# Transform with CyclicalFeatures\n",
    "time_columns =['Quarter', 'Month', 'DayofMonth', 'DayOfWeek'] \n",
    "X_train, X_validation, X_test = scale_columns_by_cyclical_scaler(X_train, X_validation, X_test, time_columns)\n",
    "\n",
    "print(X_train.shape)"
   ]
  },
  {
   "cell_type": "code",
   "execution_count": null,
   "metadata": {},
   "outputs": [],
   "source": [
    "model = Sequential([\n",
    "    Dense(128, activation='relu', input_shape=(X_train.shape[1],)),\n",
    "    Dense(32, activation='relu'),\n",
    "    Dense(1, activation='sigmoid') \n",
    "])\n",
    "\n",
    "model.compile(optimizer='adam', loss='binary_crossentropy', metrics=['accuracy'])\n",
    "\n",
    "lr_scheduler = LearningRateScheduler(step_decay)\n",
    "\n",
    "history = model.fit(\n",
    "    X_train, \n",
    "    y_train, \n",
    "    epochs=50, \n",
    "    batch_size=32, \n",
    "    validation_data=[X_validation, y_validation], \n",
    "    callbacks=[lr_scheduler]\n",
    ")"
   ]
  },
  {
   "cell_type": "code",
   "execution_count": null,
   "metadata": {},
   "outputs": [],
   "source": [
    "test_loss, test_acc = model.evaluate(X_test, y_test)\n",
    "print('Test accuracy:', test_acc)\n",
    "print('Test loss:', test_loss)"
   ]
  },
  {
   "cell_type": "code",
   "execution_count": null,
   "metadata": {},
   "outputs": [],
   "source": [
    "model.save('../models/neural_net_features_1_all.keras')"
   ]
  },
  {
   "cell_type": "markdown",
   "metadata": {},
   "source": []
  },
  {
   "cell_type": "markdown",
   "metadata": {},
   "source": [
    "## Neural Net Feature Set 1 & 2"
   ]
  },
  {
   "cell_type": "code",
   "execution_count": null,
   "metadata": {},
   "outputs": [],
   "source": [
    "features = ['Year', 'Quarter', 'Month', 'DayofMonth', 'DayOfWeek', \n",
    "'Dest', 'Origin', 'Distance', 'Carrier',\n",
    "'Full-time', 'Part-time', 'Grand Total', 'CRSDepTime', 'CRSArrTime', 'CRSElapsedTime',\n",
    "'DepDelay', 'DepTime', 'TaxiOut', 'WheelsOff', 'ArrDel15']"
   ]
  },
  {
   "cell_type": "code",
   "execution_count": null,
   "metadata": {},
   "outputs": [],
   "source": [
    "flight_df = df[features]\n",
    "flight_df = flight_df.dropna()\n",
    "\n",
    "X = flight_df.drop('ArrDel15', axis=1)\n",
    "y = flight_df['ArrDel15']"
   ]
  },
  {
   "cell_type": "code",
   "execution_count": null,
   "metadata": {},
   "outputs": [],
   "source": [
    "# Encoding categorical variables\n",
    "X = binary_encode(X, ['Dest', 'Origin'])\n",
    "X = pd.get_dummies(X, columns=['Carrier'])\n",
    "\n",
    "X_train, X_temp, y_train, y_temp = train_test_split(X, y, test_size=0.3, random_state=42)\n",
    "X_validation, X_test, y_validation, y_test = train_test_split(X_temp, y_temp, test_size=0.5, random_state=42)"
   ]
  },
  {
   "cell_type": "code",
   "execution_count": null,
   "metadata": {},
   "outputs": [],
   "source": [
    "# Transform with StandardScaler\n",
    "standard_columns = ['Distance', 'Full-time', 'Part-time', 'Grand Total']\n",
    "X_train, X_validation, X_test = scale_columns_by_standard_scaler(X_train, X_validation, X_test, standard_columns)\n",
    "\n",
    "# Transform with CyclicalFeatures\n",
    "time_columns =['Quarter', 'Month', 'DayofMonth', 'DayOfWeek'] \n",
    "X_train, X_validation, X_test = scale_columns_by_cyclical_scaler(X_train, X_validation, X_test, time_columns)\n",
    "print(X_train.shape)"
   ]
  },
  {
   "cell_type": "code",
   "execution_count": null,
   "metadata": {},
   "outputs": [],
   "source": [
    "model = Sequential([\n",
    "    Dense(128, activation='relu', input_shape=(X_train.shape[1],)),\n",
    "    Dense(32, activation='relu'),\n",
    "    Dense(1, activation='sigmoid') \n",
    "])\n",
    "\n",
    "model.compile(optimizer='adam', loss='binary_crossentropy', metrics=['accuracy'])\n",
    "\n",
    "lr_scheduler = LearningRateScheduler(step_decay)\n",
    "\n",
    "history = model.fit(\n",
    "    X_train, \n",
    "    y_train, \n",
    "    epochs=20, \n",
    "    batch_size=32, \n",
    "    validation_data=[X_validation, y_validation], \n",
    "    callbacks=[lr_scheduler]\n",
    ")"
   ]
  },
  {
   "cell_type": "code",
   "execution_count": null,
   "metadata": {},
   "outputs": [],
   "source": [
    "test_loss, test_acc = model.evaluate(X_test, y_test)\n",
    "print('Test accuracy:', test_acc)\n",
    "print('Test loss:', test_loss)"
   ]
  }
 ],
 "metadata": {
  "kernelspec": {
   "display_name": "Python 3 (ipykernel)",
   "language": "python",
   "name": "python3"
  },
  "language_info": {
   "codemirror_mode": {
    "name": "ipython",
    "version": 3
   },
   "file_extension": ".py",
   "mimetype": "text/x-python",
   "name": "python",
   "nbconvert_exporter": "python",
   "pygments_lexer": "ipython3",
   "version": "3.11.4"
  }
 },
 "nbformat": 4,
 "nbformat_minor": 2
}
