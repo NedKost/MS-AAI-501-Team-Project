{
  "cells": [
    {
      "cell_type": "markdown",
      "metadata": {
        "id": "view-in-github",
        "colab_type": "text"
      },
      "source": [
        "<a href=\"https://colab.research.google.com/github/NedKost/MS-AAI-501-Team-Project/blob/main/Neural_NetFlight.ipynb\" target=\"_parent\"><img src=\"https://colab.research.google.com/assets/colab-badge.svg\" alt=\"Open In Colab\"/></a>"
      ]
    },
    {
      "cell_type": "code",
      "execution_count": null,
      "metadata": {
        "id": "BMfoBSNHg23Q",
        "outputId": "4e66eb0b-100f-4799-8845-3ea4fe57f257"
      },
      "outputs": [
        {
          "data": {
            "text/html": [
              "<div>\n",
              "<style scoped>\n",
              "    .dataframe tbody tr th:only-of-type {\n",
              "        vertical-align: middle;\n",
              "    }\n",
              "\n",
              "    .dataframe tbody tr th {\n",
              "        vertical-align: top;\n",
              "    }\n",
              "\n",
              "    .dataframe thead th {\n",
              "        text-align: right;\n",
              "    }\n",
              "</style>\n",
              "<table border=\"1\" class=\"dataframe\">\n",
              "  <thead>\n",
              "    <tr style=\"text-align: right;\">\n",
              "      <th></th>\n",
              "      <th>Year</th>\n",
              "      <th>Quarter</th>\n",
              "      <th>Month</th>\n",
              "      <th>DayofMonth</th>\n",
              "      <th>DayOfWeek</th>\n",
              "      <th>FlightDate</th>\n",
              "      <th>Reporting_Airline</th>\n",
              "      <th>Tail_Number</th>\n",
              "      <th>Flight_Number_Reporting_Airline</th>\n",
              "      <th>Origin</th>\n",
              "      <th>...</th>\n",
              "      <th>Distance</th>\n",
              "      <th>CarrierDelay</th>\n",
              "      <th>WeatherDelay</th>\n",
              "      <th>NASDelay</th>\n",
              "      <th>SecurityDelay</th>\n",
              "      <th>LateAircraftDelay</th>\n",
              "      <th>Carrier</th>\n",
              "      <th>Full-time</th>\n",
              "      <th>Part-time</th>\n",
              "      <th>Grand Total</th>\n",
              "    </tr>\n",
              "  </thead>\n",
              "  <tbody>\n",
              "    <tr>\n",
              "      <th>0</th>\n",
              "      <td>2020</td>\n",
              "      <td>1</td>\n",
              "      <td>1</td>\n",
              "      <td>17</td>\n",
              "      <td>5</td>\n",
              "      <td>2020-01-17</td>\n",
              "      <td>B6</td>\n",
              "      <td>N661JB</td>\n",
              "      <td>942</td>\n",
              "      <td>PBI</td>\n",
              "      <td>...</td>\n",
              "      <td>1133.0</td>\n",
              "      <td>NaN</td>\n",
              "      <td>NaN</td>\n",
              "      <td>NaN</td>\n",
              "      <td>NaN</td>\n",
              "      <td>NaN</td>\n",
              "      <td>B6</td>\n",
              "      <td>16738.0</td>\n",
              "      <td>4860.0</td>\n",
              "      <td>21598.0</td>\n",
              "    </tr>\n",
              "    <tr>\n",
              "      <th>1</th>\n",
              "      <td>2020</td>\n",
              "      <td>1</td>\n",
              "      <td>1</td>\n",
              "      <td>18</td>\n",
              "      <td>6</td>\n",
              "      <td>2020-01-18</td>\n",
              "      <td>B6</td>\n",
              "      <td>N584JB</td>\n",
              "      <td>942</td>\n",
              "      <td>PBI</td>\n",
              "      <td>...</td>\n",
              "      <td>1133.0</td>\n",
              "      <td>NaN</td>\n",
              "      <td>NaN</td>\n",
              "      <td>NaN</td>\n",
              "      <td>NaN</td>\n",
              "      <td>NaN</td>\n",
              "      <td>B6</td>\n",
              "      <td>16738.0</td>\n",
              "      <td>4860.0</td>\n",
              "      <td>21598.0</td>\n",
              "    </tr>\n",
              "    <tr>\n",
              "      <th>2</th>\n",
              "      <td>2020</td>\n",
              "      <td>1</td>\n",
              "      <td>1</td>\n",
              "      <td>19</td>\n",
              "      <td>7</td>\n",
              "      <td>2020-01-19</td>\n",
              "      <td>B6</td>\n",
              "      <td>N662JB</td>\n",
              "      <td>942</td>\n",
              "      <td>PBI</td>\n",
              "      <td>...</td>\n",
              "      <td>1133.0</td>\n",
              "      <td>NaN</td>\n",
              "      <td>NaN</td>\n",
              "      <td>NaN</td>\n",
              "      <td>NaN</td>\n",
              "      <td>NaN</td>\n",
              "      <td>B6</td>\n",
              "      <td>16738.0</td>\n",
              "      <td>4860.0</td>\n",
              "      <td>21598.0</td>\n",
              "    </tr>\n",
              "    <tr>\n",
              "      <th>3</th>\n",
              "      <td>2020</td>\n",
              "      <td>1</td>\n",
              "      <td>1</td>\n",
              "      <td>20</td>\n",
              "      <td>1</td>\n",
              "      <td>2020-01-20</td>\n",
              "      <td>B6</td>\n",
              "      <td>N784JB</td>\n",
              "      <td>942</td>\n",
              "      <td>PBI</td>\n",
              "      <td>...</td>\n",
              "      <td>1133.0</td>\n",
              "      <td>NaN</td>\n",
              "      <td>NaN</td>\n",
              "      <td>NaN</td>\n",
              "      <td>NaN</td>\n",
              "      <td>NaN</td>\n",
              "      <td>B6</td>\n",
              "      <td>16738.0</td>\n",
              "      <td>4860.0</td>\n",
              "      <td>21598.0</td>\n",
              "    </tr>\n",
              "    <tr>\n",
              "      <th>4</th>\n",
              "      <td>2020</td>\n",
              "      <td>1</td>\n",
              "      <td>1</td>\n",
              "      <td>21</td>\n",
              "      <td>2</td>\n",
              "      <td>2020-01-21</td>\n",
              "      <td>B6</td>\n",
              "      <td>N784JB</td>\n",
              "      <td>942</td>\n",
              "      <td>PBI</td>\n",
              "      <td>...</td>\n",
              "      <td>1133.0</td>\n",
              "      <td>NaN</td>\n",
              "      <td>NaN</td>\n",
              "      <td>NaN</td>\n",
              "      <td>NaN</td>\n",
              "      <td>NaN</td>\n",
              "      <td>B6</td>\n",
              "      <td>16738.0</td>\n",
              "      <td>4860.0</td>\n",
              "      <td>21598.0</td>\n",
              "    </tr>\n",
              "    <tr>\n",
              "      <th>...</th>\n",
              "      <td>...</td>\n",
              "      <td>...</td>\n",
              "      <td>...</td>\n",
              "      <td>...</td>\n",
              "      <td>...</td>\n",
              "      <td>...</td>\n",
              "      <td>...</td>\n",
              "      <td>...</td>\n",
              "      <td>...</td>\n",
              "      <td>...</td>\n",
              "      <td>...</td>\n",
              "      <td>...</td>\n",
              "      <td>...</td>\n",
              "      <td>...</td>\n",
              "      <td>...</td>\n",
              "      <td>...</td>\n",
              "      <td>...</td>\n",
              "      <td>...</td>\n",
              "      <td>...</td>\n",
              "      <td>...</td>\n",
              "      <td>...</td>\n",
              "    </tr>\n",
              "    <tr>\n",
              "      <th>17412871</th>\n",
              "      <td>2022</td>\n",
              "      <td>4</td>\n",
              "      <td>12</td>\n",
              "      <td>21</td>\n",
              "      <td>3</td>\n",
              "      <td>2022-12-21</td>\n",
              "      <td>NK</td>\n",
              "      <td>N623NK</td>\n",
              "      <td>913</td>\n",
              "      <td>MCI</td>\n",
              "      <td>...</td>\n",
              "      <td>1363.0</td>\n",
              "      <td>NaN</td>\n",
              "      <td>NaN</td>\n",
              "      <td>NaN</td>\n",
              "      <td>NaN</td>\n",
              "      <td>NaN</td>\n",
              "      <td>NK</td>\n",
              "      <td>11654.0</td>\n",
              "      <td>297.0</td>\n",
              "      <td>11951.0</td>\n",
              "    </tr>\n",
              "    <tr>\n",
              "      <th>17412872</th>\n",
              "      <td>2022</td>\n",
              "      <td>4</td>\n",
              "      <td>12</td>\n",
              "      <td>22</td>\n",
              "      <td>4</td>\n",
              "      <td>2022-12-22</td>\n",
              "      <td>NK</td>\n",
              "      <td>N623NK</td>\n",
              "      <td>913</td>\n",
              "      <td>MCI</td>\n",
              "      <td>...</td>\n",
              "      <td>1363.0</td>\n",
              "      <td>NaN</td>\n",
              "      <td>NaN</td>\n",
              "      <td>NaN</td>\n",
              "      <td>NaN</td>\n",
              "      <td>NaN</td>\n",
              "      <td>NK</td>\n",
              "      <td>11654.0</td>\n",
              "      <td>297.0</td>\n",
              "      <td>11951.0</td>\n",
              "    </tr>\n",
              "    <tr>\n",
              "      <th>17412873</th>\n",
              "      <td>2022</td>\n",
              "      <td>4</td>\n",
              "      <td>12</td>\n",
              "      <td>23</td>\n",
              "      <td>5</td>\n",
              "      <td>2022-12-23</td>\n",
              "      <td>NK</td>\n",
              "      <td>N692NK</td>\n",
              "      <td>913</td>\n",
              "      <td>MCI</td>\n",
              "      <td>...</td>\n",
              "      <td>1363.0</td>\n",
              "      <td>NaN</td>\n",
              "      <td>NaN</td>\n",
              "      <td>NaN</td>\n",
              "      <td>NaN</td>\n",
              "      <td>NaN</td>\n",
              "      <td>NK</td>\n",
              "      <td>11654.0</td>\n",
              "      <td>297.0</td>\n",
              "      <td>11951.0</td>\n",
              "    </tr>\n",
              "    <tr>\n",
              "      <th>17412874</th>\n",
              "      <td>2022</td>\n",
              "      <td>4</td>\n",
              "      <td>12</td>\n",
              "      <td>24</td>\n",
              "      <td>6</td>\n",
              "      <td>2022-12-24</td>\n",
              "      <td>NK</td>\n",
              "      <td>N622NK</td>\n",
              "      <td>913</td>\n",
              "      <td>MCI</td>\n",
              "      <td>...</td>\n",
              "      <td>1363.0</td>\n",
              "      <td>NaN</td>\n",
              "      <td>NaN</td>\n",
              "      <td>NaN</td>\n",
              "      <td>NaN</td>\n",
              "      <td>NaN</td>\n",
              "      <td>NK</td>\n",
              "      <td>11654.0</td>\n",
              "      <td>297.0</td>\n",
              "      <td>11951.0</td>\n",
              "    </tr>\n",
              "    <tr>\n",
              "      <th>17412875</th>\n",
              "      <td>2022</td>\n",
              "      <td>4</td>\n",
              "      <td>12</td>\n",
              "      <td>25</td>\n",
              "      <td>7</td>\n",
              "      <td>2022-12-25</td>\n",
              "      <td>NK</td>\n",
              "      <td>N622NK</td>\n",
              "      <td>913</td>\n",
              "      <td>MCI</td>\n",
              "      <td>...</td>\n",
              "      <td>1363.0</td>\n",
              "      <td>NaN</td>\n",
              "      <td>NaN</td>\n",
              "      <td>NaN</td>\n",
              "      <td>NaN</td>\n",
              "      <td>NaN</td>\n",
              "      <td>NK</td>\n",
              "      <td>11654.0</td>\n",
              "      <td>297.0</td>\n",
              "      <td>11951.0</td>\n",
              "    </tr>\n",
              "  </tbody>\n",
              "</table>\n",
              "<p>17412876 rows × 37 columns</p>\n",
              "</div>"
            ],
            "text/plain": [
              "          Year  Quarter  Month  DayofMonth  DayOfWeek  FlightDate  \\\n",
              "0         2020        1      1          17          5  2020-01-17   \n",
              "1         2020        1      1          18          6  2020-01-18   \n",
              "2         2020        1      1          19          7  2020-01-19   \n",
              "3         2020        1      1          20          1  2020-01-20   \n",
              "4         2020        1      1          21          2  2020-01-21   \n",
              "...        ...      ...    ...         ...        ...         ...   \n",
              "17412871  2022        4     12          21          3  2022-12-21   \n",
              "17412872  2022        4     12          22          4  2022-12-22   \n",
              "17412873  2022        4     12          23          5  2022-12-23   \n",
              "17412874  2022        4     12          24          6  2022-12-24   \n",
              "17412875  2022        4     12          25          7  2022-12-25   \n",
              "\n",
              "         Reporting_Airline Tail_Number  Flight_Number_Reporting_Airline  \\\n",
              "0                       B6      N661JB                              942   \n",
              "1                       B6      N584JB                              942   \n",
              "2                       B6      N662JB                              942   \n",
              "3                       B6      N784JB                              942   \n",
              "4                       B6      N784JB                              942   \n",
              "...                    ...         ...                              ...   \n",
              "17412871                NK      N623NK                              913   \n",
              "17412872                NK      N623NK                              913   \n",
              "17412873                NK      N692NK                              913   \n",
              "17412874                NK      N622NK                              913   \n",
              "17412875                NK      N622NK                              913   \n",
              "\n",
              "         Origin  ... Distance  CarrierDelay  WeatherDelay  NASDelay  \\\n",
              "0           PBI  ...   1133.0           NaN           NaN       NaN   \n",
              "1           PBI  ...   1133.0           NaN           NaN       NaN   \n",
              "2           PBI  ...   1133.0           NaN           NaN       NaN   \n",
              "3           PBI  ...   1133.0           NaN           NaN       NaN   \n",
              "4           PBI  ...   1133.0           NaN           NaN       NaN   \n",
              "...         ...  ...      ...           ...           ...       ...   \n",
              "17412871    MCI  ...   1363.0           NaN           NaN       NaN   \n",
              "17412872    MCI  ...   1363.0           NaN           NaN       NaN   \n",
              "17412873    MCI  ...   1363.0           NaN           NaN       NaN   \n",
              "17412874    MCI  ...   1363.0           NaN           NaN       NaN   \n",
              "17412875    MCI  ...   1363.0           NaN           NaN       NaN   \n",
              "\n",
              "          SecurityDelay  LateAircraftDelay  Carrier  Full-time  Part-time  \\\n",
              "0                   NaN                NaN       B6    16738.0     4860.0   \n",
              "1                   NaN                NaN       B6    16738.0     4860.0   \n",
              "2                   NaN                NaN       B6    16738.0     4860.0   \n",
              "3                   NaN                NaN       B6    16738.0     4860.0   \n",
              "4                   NaN                NaN       B6    16738.0     4860.0   \n",
              "...                 ...                ...      ...        ...        ...   \n",
              "17412871            NaN                NaN       NK    11654.0      297.0   \n",
              "17412872            NaN                NaN       NK    11654.0      297.0   \n",
              "17412873            NaN                NaN       NK    11654.0      297.0   \n",
              "17412874            NaN                NaN       NK    11654.0      297.0   \n",
              "17412875            NaN                NaN       NK    11654.0      297.0   \n",
              "\n",
              "          Grand Total  \n",
              "0             21598.0  \n",
              "1             21598.0  \n",
              "2             21598.0  \n",
              "3             21598.0  \n",
              "4             21598.0  \n",
              "...               ...  \n",
              "17412871      11951.0  \n",
              "17412872      11951.0  \n",
              "17412873      11951.0  \n",
              "17412874      11951.0  \n",
              "17412875      11951.0  \n",
              "\n",
              "[17412876 rows x 37 columns]"
            ]
          },
          "execution_count": 2,
          "metadata": {},
          "output_type": "execute_result"
        }
      ],
      "source": [
        "import pandas as pd\n",
        "file_path = '/Users/anovayoungers/Downloads/flight_data.csv'\n",
        "\n",
        "pd.read_csv(file_path)"
      ]
    },
    {
      "cell_type": "code",
      "execution_count": null,
      "metadata": {
        "id": "I3H5Kf1-g23S",
        "outputId": "f0d4c1cd-1444-4177-dbfa-9fb69036e05f"
      },
      "outputs": [
        {
          "name": "stdout",
          "output_type": "stream",
          "text": [
            "<class 'pandas.core.frame.DataFrame'>\n",
            "RangeIndex: 17412876 entries, 0 to 17412875\n",
            "Data columns (total 37 columns):\n",
            " #   Column                           Dtype  \n",
            "---  ------                           -----  \n",
            " 0   Year                             int64  \n",
            " 1   Quarter                          int64  \n",
            " 2   Month                            int64  \n",
            " 3   DayofMonth                       int64  \n",
            " 4   DayOfWeek                        int64  \n",
            " 5   FlightDate                       object \n",
            " 6   Reporting_Airline                object \n",
            " 7   Tail_Number                      object \n",
            " 8   Flight_Number_Reporting_Airline  int64  \n",
            " 9   Origin                           object \n",
            " 10  Dest                             object \n",
            " 11  DepTime                          float64\n",
            " 12  DepDelay                         float64\n",
            " 13  TaxiOut                          float64\n",
            " 14  WheelsOff                        float64\n",
            " 15  WheelsOn                         float64\n",
            " 16  TaxiIn                           float64\n",
            " 17  CRSArrTime                       int64  \n",
            " 18  ArrTime                          float64\n",
            " 19  ArrDelay                         float64\n",
            " 20  ArrDel15                         float64\n",
            " 21  Cancelled                        float64\n",
            " 22  Diverted                         float64\n",
            " 23  CRSElapsedTime                   float64\n",
            " 24  ActualElapsedTime                float64\n",
            " 25  AirTime                          float64\n",
            " 26  Flights                          float64\n",
            " 27  Distance                         float64\n",
            " 28  CarrierDelay                     float64\n",
            " 29  WeatherDelay                     float64\n",
            " 30  NASDelay                         float64\n",
            " 31  SecurityDelay                    float64\n",
            " 32  LateAircraftDelay                float64\n",
            " 33  Carrier                          object \n",
            " 34  Full-time                        float64\n",
            " 35  Part-time                        float64\n",
            " 36  Grand Total                      float64\n",
            "dtypes: float64(24), int64(7), object(6)\n",
            "memory usage: 4.8+ GB\n",
            "None\n"
          ]
        }
      ],
      "source": [
        "data = pd.read_csv(file_path)\n",
        "\n",
        "print(data.info())"
      ]
    },
    {
      "cell_type": "markdown",
      "metadata": {
        "id": "rUWqFtdOg23S"
      },
      "source": [
        "Check for Gaussian Distribution for normalization techniques, otherwise we would scale."
      ]
    },
    {
      "cell_type": "code",
      "execution_count": null,
      "metadata": {
        "id": "iTbHHC3Cg23T",
        "outputId": "27524c13-86cc-4044-c45c-6e2a8da9d13e"
      },
      "outputs": [
        {
          "data": {
            "image/png": "[encoded data removed]",
            "text/plain": [
              "<Figure size 800x400 with 1 Axes>"
            ]
          },
          "metadata": {},
          "output_type": "display_data"
        },
        {
          "data": {
            "image/png": "[encoded data removed]",
            "text/plain": [
              "<Figure size 800x400 with 1 Axes>"
            ]
          },
          "metadata": {},
          "output_type": "display_data"
        },
        {
          "data": {
            "image/png": "[encoded data removed]",
            "text/plain": [
              "<Figure size 800x400 with 1 Axes>"
            ]
          },
          "metadata": {},
          "output_type": "display_data"
        },
        {
          "data": {
            "image/png": "[encoded data removed]",
            "text/plain": [
              "<Figure size 800x400 with 1 Axes>"
            ]
          },
          "metadata": {},
          "output_type": "display_data"
        },
        {
          "data": {
            "image/png": "[encoded data removed]",
            "text/plain": [
              "<Figure size 800x400 with 1 Axes>"
            ]
          },
          "metadata": {},
          "output_type": "display_data"
        },
        {
          "data": {
            "image/png": "[encoded data removed]",
            "text/plain": [
              "<Figure size 800x400 with 1 Axes>"
            ]
          },
          "metadata": {},
          "output_type": "display_data"
        },
        {
          "data": {
            "image/png": "[encoded data removed]",
            "text/plain": [
              "<Figure size 800x400 with 1 Axes>"
            ]
          },
          "metadata": {},
          "output_type": "display_data"
        },
        {
          "data": {
            "image/png": "[encoded data removed]",
            "text/plain": [
              "<Figure size 800x400 with 1 Axes>"
            ]
          },
          "metadata": {},
          "output_type": "display_data"
        },
        {
          "data": {
            "image/png": "[encoded data removed]",
            "text/plain": [
              "<Figure size 800x400 with 1 Axes>"
            ]
          },
          "metadata": {},
          "output_type": "display_data"
        },
        {
          "data": {
            "image/png": "[encoded data removed]",
            "text/plain": [
              "<Figure size 800x400 with 1 Axes>"
            ]
          },
          "metadata": {},
          "output_type": "display_data"
        }
      ],
      "source": [
        "import matplotlib.pyplot as plt\n",
        "numerical_features = ['Quarter', 'Month', 'DayofMonth', 'DayOfWeek', 'DepTime', 'CRSElapsedTime', 'Full-time', 'Part-time', 'Distance', 'Grand Total']\n",
        "for features in numerical_features:\n",
        "    plt.figure(figsize = (8, 4))\n",
        "    plt.hist(data[features], bins = 30, color = 'blue', alpha = 0.3)\n",
        "    plt.title(f'Histogram of {features}')\n",
        "    plt.xlabel\n",
        "    plt.ylabel('Frequency')\n",
        "    plt.show()"
      ]
    },
    {
      "cell_type": "markdown",
      "metadata": {
        "id": "ObOamDf8g23T"
      },
      "source": [
        "There are essentially 0 Gaussian Distributions present, so we are going to scale."
      ]
    },
    {
      "cell_type": "code",
      "execution_count": null,
      "metadata": {
        "id": "p_YcGC07g23T",
        "outputId": "ee962735-2ac0-406f-a486-d86ac2bf717c"
      },
      "outputs": [
        {
          "name": "stdout",
          "output_type": "stream",
          "text": [
            "Number of unique origin airports: 378\n",
            "Number of unique destination airports: 379\n",
            "Number of unique carriers: 17\n"
          ]
        }
      ],
      "source": [
        "# Number of unique values in the 'Origin' column\n",
        "unique_origins = data['Origin'].nunique()\n",
        "print(\"Number of unique origin airports:\", unique_origins)\n",
        "\n",
        "# Number of unique values in the 'Dest' column\n",
        "unique_destinations = data['Dest'].nunique()\n",
        "print(\"Number of unique destination airports:\", unique_destinations)\n",
        "\n",
        "# Number of unique values in the 'Carrier' column\n",
        "unique_carriers = data['Carrier'].nunique()\n",
        "print(\"Number of unique carriers:\", unique_carriers)"
      ]
    },
    {
      "cell_type": "code",
      "execution_count": null,
      "metadata": {
        "id": "Hlbd-ZLwg23T",
        "outputId": "3130b7fb-52c5-442c-c030-1b0fe20d1c66"
      },
      "outputs": [
        {
          "name": "stdout",
          "output_type": "stream",
          "text": [
            "Top Origin Airports Distribution:\n",
            " Other    11570431\n",
            "ATL        886549\n",
            "DFW        782947\n",
            "DEN        731279\n",
            "ORD        691163\n",
            "CLT        564569\n",
            "LAX        489642\n",
            "PHX        448145\n",
            "SEA        443246\n",
            "LAS        429452\n",
            "MCO        375453\n",
            "Name: Top_Origin, dtype: int64\n",
            "\n",
            "Top Destination Airports Distribution:\n",
            " Other    11570832\n",
            "ATL        886484\n",
            "DFW        782869\n",
            "DEN        731189\n",
            "ORD        691113\n",
            "CLT        564520\n",
            "LAX        489595\n",
            "PHX        448084\n",
            "SEA        443211\n",
            "LAS        429519\n",
            "MCO        375460\n",
            "Name: Top_Dest, dtype: int64\n"
          ]
        }
      ],
      "source": [
        "# Top ten origin and destination airports\n",
        "top_ten_origins = data['Origin'].value_counts().head(10).index\n",
        "top_ten_destinations = data['Dest'].value_counts().head(10).index\n",
        "\n",
        "# Categorize all other airports as 'Other' in new columns\n",
        "data['Top_Origin'] = data['Origin'].apply(lambda x: x if x in top_ten_origins else 'Other')\n",
        "data['Top_Dest'] = data['Dest'].apply(lambda x: x if x in top_ten_destinations else 'Other')\n",
        "\n",
        "# Checking the distribution of the new columns\n",
        "print(\"Top Origin Airports Distribution:\\n\", data['Top_Origin'].value_counts())\n",
        "print(\"\\nTop Destination Airports Distribution:\\n\", data['Top_Dest'].value_counts())"
      ]
    },
    {
      "cell_type": "code",
      "execution_count": null,
      "metadata": {
        "id": "20_yz5xhg23T",
        "outputId": "92a54ff5-6d80-47d5-dc5c-b4150e811cdd"
      },
      "outputs": [
        {
          "name": "stdout",
          "output_type": "stream",
          "text": [
            "Filtered Top Origin Airports Distribution:\n",
            " LAX    145590\n",
            "DEN    145335\n",
            "ORD    127780\n",
            "LAS    127311\n",
            "ATL    127034\n",
            "DFW    121895\n",
            "PHX    117274\n",
            "SEA    108540\n",
            "MCO     86840\n",
            "CLT     78146\n",
            "Name: Top_Origin, dtype: int64\n",
            "\n",
            "Filtered Top Destination Airports Distribution:\n",
            " LAX    145672\n",
            "DEN    145207\n",
            "ORD    127583\n",
            "LAS    127282\n",
            "ATL    127016\n",
            "DFW    121917\n",
            "PHX    117337\n",
            "SEA    108586\n",
            "MCO     86923\n",
            "CLT     78222\n",
            "Name: Top_Dest, dtype: int64\n"
          ]
        }
      ],
      "source": [
        "# Exclude rows where 'Top_Origin' or 'Top_Dest' is 'Other'\n",
        "filtered_data = data[(data['Top_Origin'] != 'Other') & (data['Top_Dest'] != 'Other')]\n",
        "\n",
        "# Checking distribution\n",
        "print(\"Filtered Top Origin Airports Distribution:\\n\", filtered_data['Top_Origin'].value_counts())\n",
        "print(\"\\nFiltered Top Destination Airports Distribution:\\n\", filtered_data['Top_Dest'].value_counts())"
      ]
    },
    {
      "cell_type": "code",
      "execution_count": null,
      "metadata": {
        "id": "sMZW-OJxg23U",
        "outputId": "b6ed3ba0-491e-442e-804f-cf331a39bc69"
      },
      "outputs": [
        {
          "name": "stdout",
          "output_type": "stream",
          "text": [
            "Cleaned Dataset Shape: (16761825, 13)\n"
          ]
        }
      ],
      "source": [
        "features = ['Quarter', 'Month', 'DayofMonth', 'DayOfWeek', 'DepTime', 'CRSElapsedTime',\n",
        "            'Full-time', 'Part-time', 'Distance', 'Grand Total', 'Top_Origin', 'Top_Dest']\n",
        "target = 'ArrDel15'\n",
        "\n",
        "# Include the target variable with the features\n",
        "selected_columns = features + [target]\n",
        "\n",
        "# Filter the dataset to include only the selected features and target variable\n",
        "selected_data = data[selected_columns]\n",
        "\n",
        "# Drop rows with NaN values in any of the selected columns\n",
        "selected_data_cleaned = selected_data.dropna()\n",
        "\n",
        "# Print the shape of the cleaned dataset\n",
        "print(\"Cleaned Dataset Shape:\", selected_data_cleaned.shape)\n"
      ]
    },
    {
      "cell_type": "code",
      "execution_count": null,
      "metadata": {
        "id": "Vt4sO2UNg23U",
        "outputId": "77df2fe1-183b-4608-e86c-ab704c9f3146"
      },
      "outputs": [
        {
          "name": "stdout",
          "output_type": "stream",
          "text": [
            "   Quarter  Month  DayofMonth  DayOfWeek  DepTime  CRSElapsedTime  Full-time  \\\n",
            "0        1      1          17          5   1926.0           169.0    16738.0   \n",
            "1        1      1          18          6   1926.0           169.0    16738.0   \n",
            "2        1      1          19          7   1947.0           169.0    16738.0   \n",
            "3        1      1          20          1   1933.0           169.0    16738.0   \n",
            "4        1      1          21          2   1952.0           169.0    16738.0   \n",
            "\n",
            "   Part-time  Distance  Grand Total  ...  Dest_CLT  Dest_DEN  Dest_DFW  \\\n",
            "0     4860.0    1133.0      21598.0  ...         0         0         0   \n",
            "1     4860.0    1133.0      21598.0  ...         0         0         0   \n",
            "2     4860.0    1133.0      21598.0  ...         0         0         0   \n",
            "3     4860.0    1133.0      21598.0  ...         0         0         0   \n",
            "4     4860.0    1133.0      21598.0  ...         0         0         0   \n",
            "\n",
            "   Dest_LAS  Dest_LAX  Dest_MCO  Dest_ORD  Dest_Other  Dest_PHX  Dest_SEA  \n",
            "0         0         0         0         0           1         0         0  \n",
            "1         0         0         0         0           1         0         0  \n",
            "2         0         0         0         0           1         0         0  \n",
            "3         0         0         0         0           1         0         0  \n",
            "4         0         0         0         0           1         0         0  \n",
            "\n",
            "[5 rows x 33 columns]\n"
          ]
        }
      ],
      "source": [
        "# One-hot encode 'Top_Origin' and 'Top_Dest'\n",
        "one_hot_origin = pd.get_dummies(selected_data_cleaned['Top_Origin'], prefix='Origin')\n",
        "one_hot_dest = pd.get_dummies(selected_data_cleaned['Top_Dest'], prefix='Dest')\n",
        "\n",
        "# Concatenate the one-hot encoded columns back to the DataFrame\n",
        "selected_data_encoded = pd.concat([selected_data_cleaned, one_hot_origin, one_hot_dest], axis=1)\n",
        "\n",
        "# Drop the original 'Top_Origin' and 'Top_Dest' columns\n",
        "selected_data_encoded.drop(['Top_Origin', 'Top_Dest'], axis=1, inplace=True)\n",
        "\n",
        "# Check the first few rows of the dataset\n",
        "print(selected_data_encoded.head())\n"
      ]
    },
    {
      "cell_type": "code",
      "execution_count": null,
      "metadata": {
        "id": "ui0PKqJKg23U",
        "outputId": "b3511954-6819-4371-ff57-ffd8d3b8e904"
      },
      "outputs": [
        {
          "name": "stdout",
          "output_type": "stream",
          "text": [
            "Encoded Dataset Shape: (16761825, 33)\n"
          ]
        }
      ],
      "source": [
        "print(\"Encoded Dataset Shape:\", selected_data_encoded.shape)"
      ]
    },
    {
      "cell_type": "code",
      "execution_count": null,
      "metadata": {
        "id": "mbJMbhklg23U"
      },
      "outputs": [],
      "source": [
        "from sklearn.model_selection import train_test_split\n",
        "\n",
        "X = selected_data_encoded.drop('ArrDel15', axis=1)\n",
        "y = selected_data_encoded['ArrDel15']\n",
        "\n",
        "# Splitting the dataset into train, validation, and test sets (60%, 20%, 20%)\n",
        "X_train, X_temp, y_train, y_temp = train_test_split(X, y, test_size=0.4, random_state=42)  # 40% for testing and validation\n",
        "X_validation, X_test, y_validation, y_test = train_test_split(X_temp, y_temp, test_size=0.5, random_state=42)  # Splitting the 40% into two parts of 20% each\n"
      ]
    },
    {
      "cell_type": "code",
      "execution_count": null,
      "metadata": {
        "id": "vRpalLQ1g23U"
      },
      "outputs": [],
      "source": [
        "from sklearn.preprocessing import  MinMaxScaler\n",
        "scaler = MinMaxScaler()\n",
        "\n",
        "# Fit and transform the scaler on the training data\n",
        "X_train_scaled = scaler.fit_transform(X_train)\n",
        "\n",
        "# Transform the validation and test data using the same scaler\n",
        "X_validation_scaled = scaler.transform(X_validation)\n",
        "X_test_scaled = scaler.transform(X_test)"
      ]
    },
    {
      "cell_type": "code",
      "execution_count": null,
      "metadata": {
        "id": "yzm1wMF7g23U",
        "outputId": "29c3b4a5-0787-4d65-c537-5aa33a7d503b"
      },
      "outputs": [
        {
          "name": "stdout",
          "output_type": "stream",
          "text": [
            "0.0    13948089\n",
            "1.0     2813736\n",
            "Name: ArrDel15, dtype: int64\n"
          ]
        }
      ],
      "source": [
        "# Count the number of instances for each class in 'ArrDel15'\n",
        "class_counts = selected_data_encoded['ArrDel15'].value_counts()\n",
        "\n",
        "# Print the class counts\n",
        "print(class_counts)\n"
      ]
    },
    {
      "cell_type": "code",
      "execution_count": null,
      "metadata": {
        "id": "qlCg6m9Ag23V",
        "outputId": "bf011e85-c8e4-45b7-881a-6cc5914de87e"
      },
      "outputs": [
        {
          "name": "stdout",
          "output_type": "stream",
          "text": [
            "Class distribution after oversampling: Counter({0.0: 8368693, 1.0: 8368693})\n"
          ]
        }
      ],
      "source": [
        "from imblearn.over_sampling import SMOTE\n",
        "from collections import Counter\n",
        "\n",
        "# Instantiate the SMOTE object\n",
        "smote = SMOTE(sampling_strategy='auto', random_state=42)\n",
        "\n",
        "# Oversample the minority class\n",
        "X_train_resampled, y_train_resampled = smote.fit_resample(X_train, y_train)\n",
        "\n",
        "# Check the class distribution after oversampling\n",
        "print(\"Class distribution after oversampling:\", Counter(y_train_resampled))\n"
      ]
    },
    {
      "cell_type": "code",
      "execution_count": null,
      "metadata": {
        "id": "2qS6nZSSg23V",
        "outputId": "a689ecab-27db-473c-9429-214d69c0f087"
      },
      "outputs": [
        {
          "name": "stderr",
          "output_type": "stream",
          "text": [
            "WARNING:absl:At this time, the v2.11+ optimizer `tf.keras.optimizers.Adam` runs slowly on M1/M2 Macs, please use the legacy Keras optimizer instead, located at `tf.keras.optimizers.legacy.Adam`.\n"
          ]
        },
        {
          "name": "stdout",
          "output_type": "stream",
          "text": [
            "Model: \"sequential\"\n",
            "_________________________________________________________________\n",
            " Layer (type)                Output Shape              Param #   \n",
            "=================================================================\n",
            " dense (Dense)               (None, 64)                2112      \n",
            "                                                                 \n",
            " batch_normalization (Batch  (None, 64)                256       \n",
            " Normalization)                                                  \n",
            "                                                                 \n",
            " dense_1 (Dense)             (None, 128)               8320      \n",
            "                                                                 \n",
            " dropout (Dropout)           (None, 128)               0         \n",
            "                                                                 \n",
            " dense_2 (Dense)             (None, 64)                8256      \n",
            "                                                                 \n",
            " dropout_1 (Dropout)         (None, 64)                0         \n",
            "                                                                 \n",
            " dense_3 (Dense)             (None, 1)                 65        \n",
            "                                                                 \n",
            "=================================================================\n",
            "Total params: 19009 (74.25 KB)\n",
            "Trainable params: 18881 (73.75 KB)\n",
            "Non-trainable params: 128 (512.00 Byte)\n",
            "_________________________________________________________________\n"
          ]
        }
      ],
      "source": [
        "import tensorflow as tf\n",
        "from tensorflow.keras.models import Sequential\n",
        "from tensorflow.keras.layers import Dense, BatchNormalization, Dropout\n",
        "from tensorflow.keras.optimizers import Adam\n",
        "from tensorflow.keras.regularizers import l2\n",
        "\n",
        "n_features = X_train.shape[1]\n",
        "\n",
        "# Building model architecture\n",
        "model = Sequential()\n",
        "model.add(Dense(64, activation='relu', input_shape=(n_features,)))\n",
        "model.add(BatchNormalization())\n",
        "model.add(Dense(128, activation='relu', kernel_regularizer=l2(0.01)))\n",
        "model.add(Dropout(0.5))\n",
        "model.add(Dense(64, activation='relu', kernel_regularizer=l2(0.01)))\n",
        "model.add(Dropout(0.5))\n",
        "model.add(Dense(1, activation='sigmoid'))\n",
        "\n",
        "# Compiling the model with a lower learning rate\n",
        "optimizer = Adam(learning_rate=0.001)\n",
        "model.compile(optimizer=optimizer, loss='binary_crossentropy', metrics=['accuracy'])\n",
        "\n",
        "model.summary()\n"
      ]
    },
    {
      "cell_type": "markdown",
      "metadata": {
        "id": "M-wztu-Ug23V"
      },
      "source": [
        "Run the model"
      ]
    },
    {
      "cell_type": "code",
      "execution_count": null,
      "metadata": {
        "id": "5AaMHjdig23V",
        "outputId": "d1933a0a-cba4-4d53-cbc1-6fda95d0c738"
      },
      "outputs": [
        {
          "name": "stdout",
          "output_type": "stream",
          "text": [
            "Epoch 1/30\n",
            "78572/78572 - 147s - loss: 0.4439 - accuracy: 0.8321 - val_loss: 0.4400 - val_accuracy: 0.8321 - 147s/epoch - 2ms/step\n",
            "Epoch 2/30\n",
            "78572/78572 - 89s - loss: 0.4407 - accuracy: 0.8321 - val_loss: 0.4381 - val_accuracy: 0.8321 - 89s/epoch - 1ms/step\n",
            "Epoch 3/30\n",
            "78572/78572 - 89s - loss: 0.4405 - accuracy: 0.8321 - val_loss: 0.4375 - val_accuracy: 0.8321 - 89s/epoch - 1ms/step\n",
            "Epoch 4/30\n",
            "78572/78572 - 88s - loss: 0.4404 - accuracy: 0.8321 - val_loss: 0.4381 - val_accuracy: 0.8321 - 88s/epoch - 1ms/step\n",
            "Epoch 5/30\n",
            "78572/78572 - 87s - loss: 0.4395 - accuracy: 0.8321 - val_loss: 0.4376 - val_accuracy: 0.8321 - 87s/epoch - 1ms/step\n",
            "Epoch 6/30\n",
            "78572/78572 - 88s - loss: 0.4392 - accuracy: 0.8321 - val_loss: 0.4368 - val_accuracy: 0.8321 - 88s/epoch - 1ms/step\n",
            "Epoch 7/30\n",
            "78572/78572 - 88s - loss: 0.4391 - accuracy: 0.8321 - val_loss: 0.4368 - val_accuracy: 0.8321 - 88s/epoch - 1ms/step\n",
            "Epoch 8/30\n",
            "78572/78572 - 88s - loss: 0.4390 - accuracy: 0.8321 - val_loss: 0.4360 - val_accuracy: 0.8321 - 88s/epoch - 1ms/step\n",
            "Epoch 9/30\n",
            "78572/78572 - 1324s - loss: 0.4389 - accuracy: 0.8321 - val_loss: 0.4365 - val_accuracy: 0.8321 - 1324s/epoch - 17ms/step\n",
            "Epoch 10/30\n",
            "78572/78572 - 88s - loss: 0.4388 - accuracy: 0.8321 - val_loss: 0.4364 - val_accuracy: 0.8321 - 88s/epoch - 1ms/step\n",
            "Epoch 11/30\n",
            "78572/78572 - 87s - loss: 0.4388 - accuracy: 0.8321 - val_loss: 0.4362 - val_accuracy: 0.8321 - 87s/epoch - 1ms/step\n",
            "Epoch 12/30\n",
            "78572/78572 - 88s - loss: 0.4388 - accuracy: 0.8321 - val_loss: 0.4363 - val_accuracy: 0.8321 - 88s/epoch - 1ms/step\n",
            "Epoch 13/30\n",
            "78572/78572 - 88s - loss: 0.4387 - accuracy: 0.8321 - val_loss: 0.4395 - val_accuracy: 0.8321 - 88s/epoch - 1ms/step\n",
            "Epoch 14/30\n",
            "78572/78572 - 88s - loss: 0.4387 - accuracy: 0.8321 - val_loss: 0.4364 - val_accuracy: 0.8321 - 88s/epoch - 1ms/step\n",
            "Epoch 15/30\n",
            "78572/78572 - 88s - loss: 0.4386 - accuracy: 0.8321 - val_loss: 0.4354 - val_accuracy: 0.8321 - 88s/epoch - 1ms/step\n",
            "Epoch 16/30\n",
            "78572/78572 - 88s - loss: 0.4387 - accuracy: 0.8321 - val_loss: 0.4369 - val_accuracy: 0.8321 - 88s/epoch - 1ms/step\n",
            "Epoch 17/30\n",
            "78572/78572 - 87s - loss: 0.4387 - accuracy: 0.8321 - val_loss: 0.4366 - val_accuracy: 0.8321 - 87s/epoch - 1ms/step\n",
            "Epoch 18/30\n",
            "78572/78572 - 88s - loss: 0.4387 - accuracy: 0.8321 - val_loss: 0.4369 - val_accuracy: 0.8321 - 88s/epoch - 1ms/step\n",
            "Epoch 19/30\n",
            "78572/78572 - 88s - loss: 0.4386 - accuracy: 0.8321 - val_loss: 0.4356 - val_accuracy: 0.8321 - 88s/epoch - 1ms/step\n",
            "Epoch 20/30\n",
            "78572/78572 - 87s - loss: 0.4386 - accuracy: 0.8321 - val_loss: 0.4363 - val_accuracy: 0.8321 - 87s/epoch - 1ms/step\n",
            "Epoch 21/30\n",
            "78572/78572 - 87s - loss: 0.4386 - accuracy: 0.8321 - val_loss: 0.4359 - val_accuracy: 0.8321 - 87s/epoch - 1ms/step\n",
            "Epoch 22/30\n",
            "78572/78572 - 87s - loss: 0.4386 - accuracy: 0.8321 - val_loss: 0.4365 - val_accuracy: 0.8321 - 87s/epoch - 1ms/step\n",
            "Epoch 23/30\n",
            "78572/78572 - 1043s - loss: 0.4386 - accuracy: 0.8321 - val_loss: 0.4358 - val_accuracy: 0.8321 - 1043s/epoch - 13ms/step\n",
            "Epoch 24/30\n",
            "78572/78572 - 1010s - loss: 0.4385 - accuracy: 0.8321 - val_loss: 0.4363 - val_accuracy: 0.8321 - 1010s/epoch - 13ms/step\n",
            "Epoch 25/30\n",
            "78572/78572 - 1088s - loss: 0.4384 - accuracy: 0.8321 - val_loss: 0.4359 - val_accuracy: 0.8321 - 1088s/epoch - 14ms/step\n",
            "Epoch 26/30\n",
            "78572/78572 - 2018s - loss: 0.4381 - accuracy: 0.8321 - val_loss: 0.4347 - val_accuracy: 0.8321 - 2018s/epoch - 26ms/step\n",
            "Epoch 27/30\n",
            "78572/78572 - 1407s - loss: 0.4381 - accuracy: 0.8321 - val_loss: 0.4349 - val_accuracy: 0.8321 - 1407s/epoch - 18ms/step\n",
            "Epoch 28/30\n",
            "78572/78572 - 453s - loss: 0.4380 - accuracy: 0.8321 - val_loss: 0.4344 - val_accuracy: 0.8321 - 453s/epoch - 6ms/step\n",
            "Epoch 29/30\n",
            "78572/78572 - 1101s - loss: 0.4380 - accuracy: 0.8321 - val_loss: 0.4343 - val_accuracy: 0.8321 - 1101s/epoch - 14ms/step\n",
            "Epoch 30/30\n",
            "78572/78572 - 85s - loss: 0.4380 - accuracy: 0.8321 - val_loss: 0.4343 - val_accuracy: 0.8321 - 85s/epoch - 1ms/step\n"
          ]
        }
      ],
      "source": [
        "# Run on training data\n",
        "history = model.fit(\n",
        "    X_train, y_train,\n",
        "    validation_data=(X_validation, y_validation),\n",
        "    epochs=30,  # Adjust the number of epochs as needed\n",
        "    batch_size=128,  # Adjust the batch size as needed\n",
        "    verbose=2\n",
        ")\n"
      ]
    },
    {
      "cell_type": "code",
      "execution_count": null,
      "metadata": {
        "id": "PG72zhRjg23V",
        "outputId": "18afb7bd-a545-46b2-fb48-1b7c8f9e99b2"
      },
      "outputs": [
        {
          "name": "stdout",
          "output_type": "stream",
          "text": [
            "104762/104762 [==============================] - 942s 9ms/step - loss: 0.4340 - accuracy: 0.8323\n",
            "Test Accuracy: 0.8323\n"
          ]
        }
      ],
      "source": [
        "# Evaluate the model on the test set\n",
        "test_loss, test_accuracy = model.evaluate(X_test, y_test)\n",
        "print(f\"Test Accuracy: {test_accuracy:.4f}\")\n"
      ]
    },
    {
      "cell_type": "code",
      "execution_count": null,
      "metadata": {
        "id": "goWRe33lg23V",
        "outputId": "275a6c4b-0ce1-47be-92e8-136d65c8da27"
      },
      "outputs": [
        {
          "name": "stderr",
          "output_type": "stream",
          "text": [
            "WARNING:absl:At this time, the v2.11+ optimizer `tf.keras.optimizers.Adam` runs slowly on M1/M2 Macs, please use the legacy Keras optimizer instead, located at `tf.keras.optimizers.legacy.Adam`.\n"
          ]
        },
        {
          "name": "stdout",
          "output_type": "stream",
          "text": [
            "Model: \"sequential_1\"\n",
            "_________________________________________________________________\n",
            " Layer (type)                Output Shape              Param #   \n",
            "=================================================================\n",
            " dense_4 (Dense)             (None, 128)               4224      \n",
            "                                                                 \n",
            " batch_normalization_1 (Bat  (None, 128)               512       \n",
            " chNormalization)                                                \n",
            "                                                                 \n",
            " dense_5 (Dense)             (None, 64)                8256      \n",
            "                                                                 \n",
            " dropout_2 (Dropout)         (None, 64)                0         \n",
            "                                                                 \n",
            " dense_6 (Dense)             (None, 32)                2080      \n",
            "                                                                 \n",
            " dropout_3 (Dropout)         (None, 32)                0         \n",
            "                                                                 \n",
            " dense_7 (Dense)             (None, 1)                 33        \n",
            "                                                                 \n",
            "=================================================================\n",
            "Total params: 15105 (59.00 KB)\n",
            "Trainable params: 14849 (58.00 KB)\n",
            "Non-trainable params: 256 (1.00 KB)\n",
            "_________________________________________________________________\n"
          ]
        }
      ],
      "source": [
        "from tensorflow.keras.callbacks import EarlyStopping\n",
        "n_features = X_train.shape[1]\n",
        "\n",
        "# Building an alternative model architecture\n",
        "model = Sequential()\n",
        "model.add(Dense(128, activation='relu', input_shape=(n_features,)))\n",
        "model.add(BatchNormalization())\n",
        "model.add(Dense(64, activation='relu', kernel_regularizer=l2(0.01)))\n",
        "model.add(Dropout(0.4))\n",
        "model.add(Dense(32, activation='relu', kernel_regularizer=l2(0.01)))\n",
        "model.add(Dropout(0.4))\n",
        "model.add(Dense(1, activation='sigmoid'))\n",
        "\n",
        "optimizer = Adam(learning_rate=0.001)\n",
        "model.compile(optimizer=optimizer, loss='binary_crossentropy', metrics=['accuracy'])\n",
        "\n",
        "early_stopping = EarlyStopping(monitor='val_loss', patience=3, restore_best_weights=True)\n",
        "\n",
        "model.summary()\n"
      ]
    },
    {
      "cell_type": "code",
      "execution_count": null,
      "metadata": {
        "id": "NQ40zp-Ig23V",
        "outputId": "6eebfa5d-c979-4ff4-9456-ce17a580dbf1"
      },
      "outputs": [
        {
          "name": "stdout",
          "output_type": "stream",
          "text": [
            "Epoch 1/30\n",
            "78572/78572 [==============================] - 84s 1ms/step - loss: 0.4428 - accuracy: 0.8321 - val_loss: 0.4436 - val_accuracy: 0.8321\n",
            "Epoch 2/30\n",
            "78572/78572 [==============================] - 85s 1ms/step - loss: 0.4394 - accuracy: 0.8321 - val_loss: 0.4362 - val_accuracy: 0.8321\n",
            "Epoch 3/30\n",
            "78572/78572 [==============================] - 84s 1ms/step - loss: 0.4391 - accuracy: 0.8321 - val_loss: 0.4366 - val_accuracy: 0.8321\n",
            "Epoch 4/30\n",
            "78572/78572 [==============================] - 87s 1ms/step - loss: 0.4390 - accuracy: 0.8321 - val_loss: 0.4366 - val_accuracy: 0.8321\n",
            "Epoch 5/30\n",
            "78572/78572 [==============================] - 86s 1ms/step - loss: 0.4391 - accuracy: 0.8321 - val_loss: 0.4374 - val_accuracy: 0.8321\n"
          ]
        }
      ],
      "source": [
        "history = model.fit(\n",
        "    X_train,\n",
        "    y_train,\n",
        "    epochs=30,\n",
        "    batch_size=128,\n",
        "    validation_data=(X_validation, y_validation),\n",
        "    callbacks=[early_stopping]  # Include the early stopping callback\n",
        ")"
      ]
    },
    {
      "cell_type": "markdown",
      "metadata": {
        "id": "zOq_jA4Ig23V"
      },
      "source": [
        "Not much difference. lets try a very complex neural net. we can see if it makes the model better or worse."
      ]
    },
    {
      "cell_type": "code",
      "execution_count": null,
      "metadata": {
        "id": "w1RSA_xMg23V",
        "outputId": "0b5c02a2-6237-42d6-94d4-36abec282932"
      },
      "outputs": [
        {
          "name": "stdout",
          "output_type": "stream",
          "text": [
            "Model: \"sequential_7\"\n",
            "_________________________________________________________________\n",
            " Layer (type)                Output Shape              Param #   \n",
            "=================================================================\n",
            " dense_18 (Dense)            (None, 256)               8448      \n",
            "                                                                 \n",
            " batch_normalization_9 (Bat  (None, 256)               1024      \n",
            " chNormalization)                                                \n",
            "                                                                 \n",
            " dropout_13 (Dropout)        (None, 256)               0         \n",
            "                                                                 \n",
            " dense_19 (Dense)            (None, 128)               32896     \n",
            "                                                                 \n",
            " batch_normalization_10 (Ba  (None, 128)               512       \n",
            " tchNormalization)                                               \n",
            "                                                                 \n",
            " dropout_14 (Dropout)        (None, 128)               0         \n",
            "                                                                 \n",
            " dense_20 (Dense)            (None, 64)                8256      \n",
            "                                                                 \n",
            " batch_normalization_11 (Ba  (None, 64)                256       \n",
            " tchNormalization)                                               \n",
            "                                                                 \n",
            " dropout_15 (Dropout)        (None, 64)                0         \n",
            "                                                                 \n",
            " dense_21 (Dense)            (None, 32)                2080      \n",
            "                                                                 \n",
            " batch_normalization_12 (Ba  (None, 32)                128       \n",
            " tchNormalization)                                               \n",
            "                                                                 \n",
            " dropout_16 (Dropout)        (None, 32)                0         \n",
            "                                                                 \n",
            " dense_22 (Dense)            (None, 16)                528       \n",
            "                                                                 \n",
            " batch_normalization_13 (Ba  (None, 16)                64        \n",
            " tchNormalization)                                               \n",
            "                                                                 \n",
            " dropout_17 (Dropout)        (None, 16)                0         \n",
            "                                                                 \n",
            " dense_23 (Dense)            (None, 1)                 17        \n",
            "                                                                 \n",
            "=================================================================\n",
            "Total params: 54209 (211.75 KB)\n",
            "Trainable params: 53217 (207.88 KB)\n",
            "Non-trainable params: 992 (3.88 KB)\n",
            "_________________________________________________________________\n",
            "Epoch 1/13\n",
            "78572/78572 [==============================] - 216s 3ms/step - loss: 0.4574 - accuracy: 0.8313 - val_loss: 0.4410 - val_accuracy: 0.8321\n",
            "Epoch 2/13\n",
            "78572/78572 [==============================] - 201s 3ms/step - loss: 0.4421 - accuracy: 0.8321 - val_loss: 0.4412 - val_accuracy: 0.8321\n",
            "Epoch 3/13\n",
            "78572/78572 [==============================] - 178s 2ms/step - loss: 0.4419 - accuracy: 0.8321 - val_loss: 0.4413 - val_accuracy: 0.8321\n"
          ]
        }
      ],
      "source": [
        "# Determine the number of input features\n",
        "n_features = X_train.shape[1]\n",
        "\n",
        "# Building a very complex model architecture\n",
        "model = Sequential()\n",
        "model.add(Dense(256, activation='relu', input_shape=(n_features,)))\n",
        "model.add(BatchNormalization())\n",
        "model.add(Dropout(0.5))\n",
        "model.add(Dense(128, activation='relu', kernel_regularizer=l2(0.01)))\n",
        "model.add(BatchNormalization())\n",
        "model.add(Dropout(0.4))\n",
        "model.add(Dense(64, activation='relu', kernel_regularizer=l2(0.01)))\n",
        "model.add(BatchNormalization())\n",
        "model.add(Dropout(0.4))\n",
        "model.add(Dense(32, activation='relu', kernel_regularizer=l2(0.01)))\n",
        "model.add(BatchNormalization())\n",
        "model.add(Dropout(0.3))\n",
        "model.add(Dense(16, activation='relu', kernel_regularizer=l2(0.01)))\n",
        "model.add(BatchNormalization())\n",
        "model.add(Dropout(0.3))\n",
        "model.add(Dense(1, activation='sigmoid'))\n",
        "\n",
        "optimizer = tf.keras.optimizers.legacy.Adam(learning_rate=0.0008)\n",
        "model.compile(optimizer=optimizer, loss='binary_crossentropy', metrics=['accuracy'])\n",
        "\n",
        "early_stopping = EarlyStopping(monitor='val_loss', patience=2, restore_best_weights=True)\n",
        "\n",
        "model.summary()\n",
        "\n",
        "history = model.fit(\n",
        "    X_train,\n",
        "    y_train,\n",
        "    epochs=13,\n",
        "    batch_size=128,\n",
        "    validation_data=(X_validation, y_validation),\n",
        "    callbacks=[early_stopping]\n",
        ")\n"
      ]
    }
  ],
  "metadata": {
    "kernelspec": {
      "display_name": "base",
      "language": "python",
      "name": "python3"
    },
    "language_info": {
      "codemirror_mode": {
        "name": "ipython",
        "version": 3
      },
      "file_extension": ".py",
      "mimetype": "text/x-python",
      "name": "python",
      "nbconvert_exporter": "python",
      "pygments_lexer": "ipython3",
      "version": "3.11.4"
    },
    "colab": {
      "provenance": [],
      "include_colab_link": true
    }
  },
  "nbformat": 4,
  "nbformat_minor": 0
}